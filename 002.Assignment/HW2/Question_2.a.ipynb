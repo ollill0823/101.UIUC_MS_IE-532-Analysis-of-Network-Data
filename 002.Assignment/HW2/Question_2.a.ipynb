{
 "cells": [
  {
   "cell_type": "code",
   "execution_count": 1,
   "id": "ec237fc4",
   "metadata": {},
   "outputs": [],
   "source": [
    "import gurobipy as gp\n",
    "from gurobipy import GRB"
   ]
  },
  {
   "cell_type": "markdown",
   "id": "35a47176",
   "metadata": {},
   "source": [
    "# Question 2_a\n",
    "## Statement1:\n",
    "## Statement2:\n",
    "![Answer2](Figures/2.a_1.png)"
   ]
  },
  {
   "cell_type": "markdown",
   "id": "58c0e48f",
   "metadata": {},
   "source": [
    "## Statement3:"
   ]
  },
  {
   "cell_type": "markdown",
   "id": "222d1e03",
   "metadata": {},
   "source": [
    "### if k = 0\n",
    "The result shows the basic result."
   ]
  },
  {
   "cell_type": "code",
   "execution_count": 14,
   "id": "db8bd07c",
   "metadata": {
    "scrolled": true
   },
   "outputs": [
    {
     "name": "stdout",
     "output_type": "stream",
     "text": [
      "Gurobi Optimizer version 9.5.2 build v9.5.2rc0 (win64)\n",
      "Thread count: 8 physical cores, 16 logical processors, using up to 16 threads\n",
      "Optimize a model with 4 rows, 2 columns and 6 nonzeros\n",
      "Model fingerprint: 0x822421a2\n",
      "Coefficient statistics:\n",
      "  Matrix range     [1e+00, 4e+00]\n",
      "  Objective range  [5e+00, 7e+00]\n",
      "  Bounds range     [0e+00, 0e+00]\n",
      "  RHS range        [6e+00, 1e+01]\n",
      "Presolve removed 2 rows and 0 columns\n",
      "Presolve time: 0.02s\n",
      "Presolved: 2 rows, 2 columns, 4 nonzeros\n",
      "\n",
      "Iteration    Objective       Primal Inf.    Dual Inf.      Time\n",
      "       0    4.2000000e+01   5.996000e+00   0.000000e+00      0s\n",
      "       3    2.1000000e+01   0.000000e+00   0.000000e+00      0s\n",
      "\n",
      "Solved in 3 iterations and 0.03 seconds (0.00 work units)\n",
      "Optimal objective  2.100000000e+01\n",
      "Optimizer:\n",
      "x1 3.0\n",
      "x2 0.0\n",
      "Optimum Value: 21.0\n"
     ]
    }
   ],
   "source": [
    "m = gp.Model('LP Example')\n",
    "x1 = m.addVar(name=\"x1\")\n",
    "x2 = m.addVar(name=\"x2\")\n",
    "k=0\n",
    "m.setObjective((7-k)*x1 + (5-k)*x2 , GRB.MAXIMIZE)\n",
    "m.addConstr(x1 + 2*x2  <= 6, \"c1\")\n",
    "m.addConstr(4*x1 + 3*x2 <= 12, \"c2\")\n",
    "m.addConstr(x1  >= 0, \"c3\")\n",
    "m.addConstr(x2  >= 0, \"c4\")\n",
    "m.optimize()\n",
    "\n",
    "print('Optimizer:')\n",
    "for v in m.getVars():\n",
    "    print(v.varName, v.x)\n",
    "    \n",
    "print('Optimum Value:',  m.objVal)"
   ]
  },
  {
   "cell_type": "markdown",
   "id": "a30a7cc6",
   "metadata": {},
   "source": [
    "### if k >ci: (counterexample)\n",
    "The relative xi will only has a solution xi = 0. Therefore, the solution will change directly"
   ]
  },
  {
   "cell_type": "code",
   "execution_count": 31,
   "id": "b7343f41",
   "metadata": {
    "scrolled": true
   },
   "outputs": [
    {
     "name": "stdout",
     "output_type": "stream",
     "text": [
      "Gurobi Optimizer version 9.5.2 build v9.5.2rc0 (win64)\n",
      "Thread count: 8 physical cores, 16 logical processors, using up to 16 threads\n",
      "Optimize a model with 4 rows, 2 columns and 6 nonzeros\n",
      "Model fingerprint: 0xaa9b8eba\n",
      "Coefficient statistics:\n",
      "  Matrix range     [1e+00, 4e+00]\n",
      "  Objective range  [1e+01, 2e+01]\n",
      "  Bounds range     [0e+00, 0e+00]\n",
      "  RHS range        [6e+00, 1e+01]\n",
      "Presolve removed 4 rows and 2 columns\n",
      "Presolve time: 0.02s\n",
      "Presolve: All rows and columns removed\n",
      "Iteration    Objective       Primal Inf.    Dual Inf.      Time\n",
      "       0   -0.0000000e+00   0.000000e+00   0.000000e+00      0s\n",
      "\n",
      "Solved in 0 iterations and 0.03 seconds (0.00 work units)\n",
      "Optimal objective -0.000000000e+00\n",
      "Optimizer:\n",
      "x1 0.0\n",
      "x2 0.0\n",
      "Optimum Value: -0.0\n"
     ]
    }
   ],
   "source": [
    "m = gp.Model('LP Example')\n",
    "x1 = m.addVar(name=\"x1\")\n",
    "x2 = m.addVar(name=\"x2\")\n",
    "k=20\n",
    "m.setObjective((7-k)*x1 + (5-k)*x2 , GRB.MAXIMIZE)\n",
    "m.addConstr(x1 + 2*x2  <= 6, \"c1\")\n",
    "m.addConstr(4*x1 + 3*x2 <= 12, \"c2\")\n",
    "m.addConstr(x1  >= 0, \"c3\")\n",
    "m.addConstr(x2  >= 0, \"c4\")\n",
    "m.optimize()\n",
    "\n",
    "print('Optimizer:')\n",
    "for v in m.getVars():\n",
    "    print(v.varName, v.x)\n",
    "    \n",
    "print('Optimum Value:',  m.objVal)"
   ]
  },
  {
   "cell_type": "markdown",
   "id": "8b05ffe7",
   "metadata": {},
   "source": [
    "# Statement4:\n",
    "![Answer2](Figures/2.a_2.png)"
   ]
  },
  {
   "cell_type": "markdown",
   "id": "c2017949",
   "metadata": {},
   "source": [
    "### if k = 1\n",
    "The result shows the basic result."
   ]
  },
  {
   "cell_type": "code",
   "execution_count": 16,
   "id": "db184d53",
   "metadata": {},
   "outputs": [
    {
     "name": "stdout",
     "output_type": "stream",
     "text": [
      "Gurobi Optimizer version 9.5.2 build v9.5.2rc0 (win64)\n",
      "Thread count: 8 physical cores, 16 logical processors, using up to 16 threads\n",
      "Optimize a model with 4 rows, 2 columns and 6 nonzeros\n",
      "Model fingerprint: 0x822421a2\n",
      "Coefficient statistics:\n",
      "  Matrix range     [1e+00, 4e+00]\n",
      "  Objective range  [5e+00, 7e+00]\n",
      "  Bounds range     [0e+00, 0e+00]\n",
      "  RHS range        [6e+00, 1e+01]\n",
      "Presolve removed 2 rows and 0 columns\n",
      "Presolve time: 0.01s\n",
      "Presolved: 2 rows, 2 columns, 4 nonzeros\n",
      "\n",
      "Iteration    Objective       Primal Inf.    Dual Inf.      Time\n",
      "       0    4.2000000e+01   5.996000e+00   0.000000e+00      0s\n",
      "       3    2.1000000e+01   0.000000e+00   0.000000e+00      0s\n",
      "\n",
      "Solved in 3 iterations and 0.02 seconds (0.00 work units)\n",
      "Optimal objective  2.100000000e+01\n",
      "Optimizer:\n",
      "x1 3.0\n",
      "x2 0.0\n",
      "Optimum Value: 21.0\n"
     ]
    }
   ],
   "source": [
    "m = gp.Model('LP Example')\n",
    "x1 = m.addVar(name=\"x1\")\n",
    "x2 = m.addVar(name=\"x2\")\n",
    "k=1\n",
    "m.setObjective((7/k)*x1 + (5/k)*x2 , GRB.MAXIMIZE)\n",
    "m.addConstr(x1 + 2*x2  <= 6, \"c1\")\n",
    "m.addConstr(4*x1 + 3*x2 <= 12, \"c2\")\n",
    "m.addConstr(x1  >= 0, \"c3\")\n",
    "m.addConstr(x2  >= 0, \"c4\")\n",
    "m.optimize()\n",
    "\n",
    "print('Optimizer:')\n",
    "for v in m.getVars():\n",
    "    print(v.varName, v.x)\n",
    "    \n",
    "print('Optimum Value:',  m.objVal)"
   ]
  },
  {
   "cell_type": "code",
   "execution_count": 20,
   "id": "6c5a5732",
   "metadata": {},
   "outputs": [
    {
     "name": "stdout",
     "output_type": "stream",
     "text": [
      "Gurobi Optimizer version 9.5.2 build v9.5.2rc0 (win64)\n",
      "Thread count: 8 physical cores, 16 logical processors, using up to 16 threads\n",
      "Optimize a model with 4 rows, 2 columns and 6 nonzeros\n",
      "Model fingerprint: 0xfbc61349\n",
      "Coefficient statistics:\n",
      "  Matrix range     [1e+00, 4e+00]\n",
      "  Objective range  [5e+07, 7e+07]\n",
      "  Bounds range     [0e+00, 0e+00]\n",
      "  RHS range        [6e+00, 1e+01]\n",
      "Presolve removed 2 rows and 0 columns\n",
      "Presolve time: 0.02s\n",
      "Presolved: 2 rows, 2 columns, 4 nonzeros\n",
      "\n",
      "Iteration    Objective       Primal Inf.    Dual Inf.      Time\n",
      "       0    4.2000000e+08   5.996000e+00   0.000000e+00      0s\n",
      "       3    2.1000000e+08   0.000000e+00   0.000000e+00      0s\n",
      "\n",
      "Solved in 3 iterations and 0.03 seconds (0.00 work units)\n",
      "Optimal objective  2.100000000e+08\n",
      "Optimizer:\n",
      "x1 3.0\n",
      "x2 0.0\n",
      "Optimum Value: 210000000.0\n"
     ]
    }
   ],
   "source": [
    "m = gp.Model('LP Example')\n",
    "x1 = m.addVar(name=\"x1\")\n",
    "x2 = m.addVar(name=\"x2\")\n",
    "k=0.0000001\n",
    "m.setObjective((7/k)*x1 + (5/k)*x2 , GRB.MAXIMIZE)\n",
    "m.addConstr(x1 + 2*x2  <= 6, \"c1\")\n",
    "m.addConstr(4*x1 + 3*x2 <= 12, \"c2\")\n",
    "m.addConstr(x1  >= 0, \"c3\")\n",
    "m.addConstr(x2  >= 0, \"c4\")\n",
    "m.optimize()\n",
    "\n",
    "print('Optimizer:')\n",
    "for v in m.getVars():\n",
    "    print(v.varName, v.x)\n",
    "    \n",
    "print('Optimum Value:',  m.objVal)"
   ]
  },
  {
   "cell_type": "code",
   "execution_count": null,
   "id": "8b2cf9aa",
   "metadata": {},
   "outputs": [],
   "source": []
  },
  {
   "cell_type": "code",
   "execution_count": null,
   "id": "fb90131c",
   "metadata": {},
   "outputs": [],
   "source": []
  },
  {
   "cell_type": "code",
   "execution_count": null,
   "id": "1a724a71",
   "metadata": {},
   "outputs": [],
   "source": []
  }
 ],
 "metadata": {
  "kernelspec": {
   "display_name": "Python 3 (ipykernel)",
   "language": "python",
   "name": "python3"
  },
  "language_info": {
   "codemirror_mode": {
    "name": "ipython",
    "version": 3
   },
   "file_extension": ".py",
   "mimetype": "text/x-python",
   "name": "python",
   "nbconvert_exporter": "python",
   "pygments_lexer": "ipython3",
   "version": "3.9.7"
  }
 },
 "nbformat": 4,
 "nbformat_minor": 5
}
