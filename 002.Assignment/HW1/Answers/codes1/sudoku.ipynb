{
 "cells": [
  {
   "cell_type": "code",
   "execution_count": 1,
   "metadata": {},
   "outputs": [],
   "source": [
    "from gurobipy import *"
   ]
  },
  {
   "cell_type": "code",
   "execution_count": 2,
   "metadata": {},
   "outputs": [
    {
     "name": "stdout",
     "output_type": "stream",
     "text": [
      "Academic license - for non-commercial use only - expires 2022-08-17\n",
      "Using license file /Users/chrysafisvogiatzis/gurobi.lic\n"
     ]
    }
   ],
   "source": [
    "model=Model(\"sudoku\")\n",
    "x={}\n",
    "for i in range(1,10):\n",
    "    for j in range(1,10):\n",
    "        for k in range(1,10):\n",
    "            x[i,j,k]=model.addVar(vtype=GRB.BINARY, name=\"x(\"+str(i)+\",\"+str(j)+\",\"+str(k)+\")\")"
   ]
  },
  {
   "cell_type": "code",
   "execution_count": 3,
   "metadata": {},
   "outputs": [
    {
     "data": {
      "text/plain": [
       "<gurobi.Constr *Awaiting Model Update*>"
      ]
     },
     "execution_count": 3,
     "metadata": {},
     "output_type": "execute_result"
    }
   ],
   "source": [
    "model.addConstr(x[1,3,6]==1)\n",
    "model.addConstr(x[1,5,8]==1)\n",
    "model.addConstr(x[1,7,5]==1)\n",
    "\n",
    "model.addConstr(x[2,1,9]==1)\n",
    "model.addConstr(x[2,4,3]==1)\n",
    "model.addConstr(x[2,8,2]==1)\n",
    "\n",
    "model.addConstr(x[3,2,4]==1)\n",
    "model.addConstr(x[3,6,1]==1)\n",
    "model.addConstr(x[3,9,7]==1)\n",
    "\n",
    "model.addConstr(x[4,6,5]==1)\n",
    "model.addConstr(x[4,7,6]==1)\n",
    "\n",
    "model.addConstr(x[5,2,2]==1)\n",
    "model.addConstr(x[5,5,4]==1)\n",
    "model.addConstr(x[5,8,1]==1)\n",
    "\n",
    "model.addConstr(x[6,1,3]==1)\n",
    "model.addConstr(x[6,9,9]==1)\n",
    "\n",
    "model.addConstr(x[7,3,1]==1)\n",
    "model.addConstr(x[7,4,9]==1)\n",
    "model.addConstr(x[7,8,3]==1)\n",
    "\n",
    "model.addConstr(x[8,5,2]==1)\n",
    "model.addConstr(x[8,7,4]==1)\n",
    "\n",
    "model.addConstr(x[9,2,5]==1)\n",
    "model.addConstr(x[9,6,7]==1)"
   ]
  },
  {
   "cell_type": "code",
   "execution_count": 4,
   "metadata": {},
   "outputs": [],
   "source": [
    "for j in range(1,10):\n",
    "    for k in range(1,10):\n",
    "        expr=0\n",
    "        for i in range(1,10):\n",
    "            expr+=x[i,j,k]\n",
    "        model.addConstr(expr==1)"
   ]
  },
  {
   "cell_type": "code",
   "execution_count": 5,
   "metadata": {},
   "outputs": [],
   "source": [
    "for i in range(1,10):\n",
    "    for k in range(1,10):\n",
    "        expr=0\n",
    "        for j in range(1,10):\n",
    "            expr+=x[i,j,k]\n",
    "        model.addConstr(expr==1)"
   ]
  },
  {
   "cell_type": "code",
   "execution_count": 6,
   "metadata": {},
   "outputs": [],
   "source": [
    "for i in range(1,10):\n",
    "    for j in range(1,10):\n",
    "        expr=0\n",
    "        for k in range(1,10):\n",
    "            expr+=x[i,j,k]\n",
    "        model.addConstr(expr==1)"
   ]
  },
  {
   "cell_type": "code",
   "execution_count": 7,
   "metadata": {},
   "outputs": [],
   "source": [
    "list_of_k=[1,4,7]\n",
    "list_of_l=[1,4,7]\n",
    "for k in list_of_k:\n",
    "    for l in list_of_l:\n",
    "        expr=0\n",
    "        for i in range(k,k+3):\n",
    "            for j in range(l, l+3):\n",
    "                expr+=x[i,j,k]\n",
    "        model.addConstr(expr==1)"
   ]
  },
  {
   "cell_type": "code",
   "execution_count": 8,
   "metadata": {},
   "outputs": [
    {
     "name": "stdout",
     "output_type": "stream",
     "text": [
      "Gurobi Optimizer version 9.1.2 build v9.1.2rc0 (mac64)\n",
      "Thread count: 8 physical cores, 8 logical processors, using up to 8 threads\n",
      "Optimize a model with 275 rows, 729 columns and 2291 nonzeros\n",
      "Model fingerprint: 0x77ac8e34\n",
      "Variable types: 0 continuous, 729 integer (729 binary)\n",
      "Coefficient statistics:\n",
      "  Matrix range     [1e+00, 1e+00]\n",
      "  Objective range  [0e+00, 0e+00]\n",
      "  Bounds range     [1e+00, 1e+00]\n",
      "  RHS range        [1e+00, 1e+00]\n",
      "Presolve removed 103 rows and 487 columns\n",
      "Presolve time: 0.01s\n",
      "Presolved: 172 rows, 242 columns, 752 nonzeros\n",
      "Variable types: 0 continuous, 242 integer (242 binary)\n",
      "Found heuristic solution: objective 0.0000000\n",
      "\n",
      "Explored 0 nodes (0 simplex iterations) in 0.01 seconds\n",
      "Thread count was 8 (of 8 available processors)\n",
      "\n",
      "Solution count 1: 0 \n",
      "\n",
      "Optimal solution found (tolerance 1.00e-04)\n",
      "Best objective 0.000000000000e+00, best bound 0.000000000000e+00, gap 0.0000%\n"
     ]
    }
   ],
   "source": [
    "model.optimize()"
   ]
  },
  {
   "cell_type": "code",
   "execution_count": 9,
   "metadata": {},
   "outputs": [
    {
     "name": "stdout",
     "output_type": "stream",
     "text": [
      "[2, 1, 6, 4, 8, 9, 5, 7, 3]\n",
      "[9, 8, 7, 3, 6, 4, 1, 2, 5]\n",
      "[8, 4, 9, 6, 3, 1, 2, 5, 7]\n",
      "[1, 9, 3, 2, 7, 5, 6, 8, 4]\n",
      "[5, 2, 8, 7, 4, 3, 9, 1, 6]\n",
      "[3, 7, 4, 5, 1, 2, 8, 6, 9]\n",
      "[4, 6, 1, 9, 5, 8, 7, 3, 2]\n",
      "[7, 3, 5, 8, 2, 6, 4, 9, 1]\n",
      "[6, 5, 2, 1, 9, 7, 3, 4, 8]\n"
     ]
    }
   ],
   "source": [
    "rows={}\n",
    "for i in range(1,10):\n",
    "    rows[i]=[]\n",
    "    for j in range(1,10):\n",
    "        for k in range(1,10):\n",
    "            #print(i,j,k,x[i,j,k].X)\n",
    "            if x[i,j,k].X==1:\n",
    "                rows[i].append(k)\n",
    "    print(rows[i])\n",
    "            "
   ]
  },
  {
   "cell_type": "markdown",
   "metadata": {},
   "source": [
    "Once again, there exist alternative solutions. In a *good* sudoku puzzle, there should be only one solution! Hence, the sudoku given was not a good one :)"
   ]
  },
  {
   "cell_type": "code",
   "execution_count": null,
   "metadata": {},
   "outputs": [],
   "source": []
  }
 ],
 "metadata": {
  "kernelspec": {
   "display_name": "Python 3",
   "language": "python",
   "name": "python3"
  },
  "language_info": {
   "codemirror_mode": {
    "name": "ipython",
    "version": 3
   },
   "file_extension": ".py",
   "mimetype": "text/x-python",
   "name": "python",
   "nbconvert_exporter": "python",
   "pygments_lexer": "ipython3",
   "version": "3.8.8"
  }
 },
 "nbformat": 4,
 "nbformat_minor": 2
}
