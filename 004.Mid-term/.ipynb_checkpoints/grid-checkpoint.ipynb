{
 "cells": [
  {
   "cell_type": "code",
   "execution_count": 3,
   "id": "9e368248",
   "metadata": {},
   "outputs": [
    {
     "data": {
      "text/plain": [
       "<matplotlib.collections.PathCollection at 0x1f6948235e0>"
      ]
     },
     "execution_count": 3,
     "metadata": {},
     "output_type": "execute_result"
    },
    {
     "data": {
      "image/png": "[encoded data removed]",
      "text/plain": [
       "<Figure size 432x288 with 1 Axes>"
      ]
     },
     "metadata": {},
     "output_type": "display_data"
    }
   ],
   "source": [
    "import networkx as nx\n",
    "import random\n",
    "\n",
    "dimension=5 # Input: dimension of the n x n grid.\n",
    "prob=0.3 # Input: probability of a node (other than the start and end) to be a reward node.\n",
    "\n",
    "start=[(0,0)]\n",
    "end=[(dimension-1,dimension-1)]\n",
    "\n",
    "G = nx.grid_2d_graph(dimension, dimension) # creates a dimension x dimension grid.\n",
    "\n",
    "rewards=[]\n",
    "for i in G.nodes():\n",
    "    if i in start or i in end:\n",
    "        continue\n",
    "    else:\n",
    "        if random.random()<prob:\n",
    "            rewards.append(i)\n",
    "\n",
    "#######################\n",
    "#### VISUALIZATION ####\n",
    "#######################\n",
    "pos={}\n",
    "for i in G.nodes():\n",
    "    pos[i]=(i[0],-i[1])\n",
    "nx.draw(G,pos)\n",
    "nx.draw_networkx_nodes(G,pos,nodelist=start,node_color='g')\n",
    "nx.draw_networkx_nodes(G,pos,nodelist=end,node_color='r')\n",
    "nx.draw_networkx_nodes(G,pos,nodelist=rewards,node_color='y')\n",
    "#######################\n",
    "#### VISUALIZATION ####\n",
    "#######################"
   ]
  },
  {
   "cell_type": "code",
   "execution_count": null,
   "id": "348b1487",
   "metadata": {},
   "outputs": [],
   "source": []
  }
 ],
 "metadata": {
  "kernelspec": {
   "display_name": "Python 3 (ipykernel)",
   "language": "python",
   "name": "python3"
  },
  "language_info": {
   "codemirror_mode": {
    "name": "ipython",
    "version": 3
   },
   "file_extension": ".py",
   "mimetype": "text/x-python",
   "name": "python",
   "nbconvert_exporter": "python",
   "pygments_lexer": "ipython3",
   "version": "3.9.7"
  }
 },
 "nbformat": 4,
 "nbformat_minor": 5
}
