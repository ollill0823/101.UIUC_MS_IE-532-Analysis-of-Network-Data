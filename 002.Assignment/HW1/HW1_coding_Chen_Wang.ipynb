{
 "cells": [
  {
   "cell_type": "markdown",
   "id": "94e6ee91",
   "metadata": {},
   "source": [
    "* **Courses:** Fall 2022-IE 532-Analysis of Network Data-Section AN\n",
    "* **Topic:** Homework_1\n",
    "* **Student name:**  Chen Wang\n",
    "* **collaborators:** Jo-Ting Wang/Jasmine Chao"
   ]
  },
  {
   "cell_type": "markdown",
   "id": "9b06acff",
   "metadata": {},
   "source": [
    "# Question 1.a\n",
    "![question 1.a](Figures/question_1.a.png)"
   ]
  },
  {
   "cell_type": "code",
   "execution_count": 1079,
   "id": "e5f299ea",
   "metadata": {},
   "outputs": [],
   "source": [
    "subsequences = ['CAT' , 'ATT' , 'ATG', 'TAT' , 'TTG', 'TGC', 'TGT' , 'GTA']"
   ]
  },
  {
   "cell_type": "code",
   "execution_count": 1080,
   "id": "70c12cda",
   "metadata": {},
   "outputs": [
    {
     "data": {
      "image/png": "[encoded data removed]",
      "text/plain": [
       "<Figure size 432x288 with 1 Axes>"
      ]
     },
     "metadata": {},
     "output_type": "display_data"
    }
   ],
   "source": [
    "import networkx as nx\n",
    "import matplotlib.pyplot as plt\n",
    "from itertools import combinations\n",
    "\n",
    "def construct_graph_from(sub):\n",
    "    G = nx.DiGraph()\n",
    "    for i in sub:\n",
    "        subseq1=i[0:2]\n",
    "        subseq2=i[1:3]\n",
    "        G.add_node(subseq1)\n",
    "        G.add_node(subseq2)\n",
    "    for (i,j) in combinations(G.nodes(),2):\n",
    "        subseq1=str(i)\n",
    "        subseq2=str(j)\n",
    "        subseq=subseq1[0:2]+subseq2[1]  # string operations between say \"CA\"+\"T\" -> \"CAT\"\n",
    "        if subseq1[1]==subseq2[0] and subseq in sub:\n",
    "            G.add_edge(i,j)\n",
    "        subseq=subseq2[0:2]+subseq1[1]\n",
    "        if subseq2[1]==subseq1[0] and subseq in sub:\n",
    "            G.add_edge(j,i)\n",
    "    return G\n",
    "\n",
    "G = construct_graph_from(subsequences) \n",
    "pos=nx.spring_layout(G)  \n",
    "nx.draw_networkx(G,pos)\n",
    "nx.draw_networkx_labels(G,pos)\n",
    "plt.show()"
   ]
  },
  {
   "cell_type": "code",
   "execution_count": 1081,
   "id": "c606017f",
   "metadata": {},
   "outputs": [
    {
     "name": "stdout",
     "output_type": "stream",
     "text": [
      "[('CA', 'AT'), ('AT', 'TT'), ('TT', 'TG'), ('TG', 'GT'), ('GT', 'TA'), ('TA', 'AT'), ('AT', 'TG'), ('TG', 'GC'), ('GC', 'CA')]\n",
      "CATTGTATGC\n"
     ]
    }
   ],
   "source": [
    "for i in G.nodes():\n",
    "    if G.in_degree(i)<G.out_degree(i):\n",
    "        start=i\n",
    "    elif G.in_degree(i)>G.out_degree(i):\n",
    "        stop=i\n",
    "\n",
    "G.add_edge(stop, start)\n",
    "cycle=list(nx.eulerian_circuit(G, start))\n",
    "print(cycle)\n",
    "DNA=[cycle[0][0]]\n",
    "for i in range(1,len(cycle)):\n",
    "    DNA.append(str(cycle[i][0][1])) ## Add 1st end ('CA', 'AT') 'T' or ('AT', 'TT') 'T'\n",
    "print(''.join(DNA))"
   ]
  },
  {
   "cell_type": "markdown",
   "id": "714970e0",
   "metadata": {},
   "source": [
    "## Answer 1.a\n",
    "\n",
    "![Answer 1.a](Figures/Answer_1a.png)"
   ]
  },
  {
   "cell_type": "markdown",
   "id": "e3a5812c",
   "metadata": {},
   "source": [
    "# Question 1.b\n",
    "![question 1.b](Figures/question_1.b.png)"
   ]
  },
  {
   "cell_type": "markdown",
   "id": "dc1ad650",
   "metadata": {},
   "source": [
    "### Wrong Try\n",
    "According to the Eulerian cycle, There can only allow two nodes that are not perfect, one lacks the input edge, and another lacks the output edge.\n",
    "\n",
    "Now we understand at the node \"CC\", \"AC\" requires one output edge; while in the node \"CT\", \"GG\",  it needs an input edge. Therefore, we need to eliminate one of \"CC\" and \"AC\", one of \"CT\" and \"GG\".\n",
    "\n",
    "If my goal is to eliminate the node \"CC\", and \"CT\" for example, we can not just create only one node. Because if we just create a node, the name of the node should be \"CC\", and the new subsequences should add \"CCC\", \"CCT\", reppectively. it will violate that each node should have its unique name. and when I execute the code it will show **\"This is not Eulerian.\"**"
   ]
  },
  {
   "cell_type": "code",
   "execution_count": 1082,
   "id": "89892915",
   "metadata": {},
   "outputs": [
    {
     "data": {
      "image/png": "[encoded data removed]",
      "text/plain": [
       "<Figure size 432x288 with 1 Axes>"
      ]
     },
     "metadata": {},
     "output_type": "display_data"
    },
    {
     "name": "stdout",
     "output_type": "stream",
     "text": [
      "\u001b[1m\u001b[91mNetworkXError error: subsequences_wrong is not Eulerian.\u001b[0m\n",
      "Original subsequences ['GGT', 'GTC', 'TCC', 'CCC', 'CCT', 'CTC', 'TCG', 'CGC', 'GCC', 'CTA', 'TAA', 'AAC']\n",
      "Newly added subsequences: 'CCT'\n",
      "--------------------------------------------------\n"
     ]
    }
   ],
   "source": [
    "import copy\n",
    "subsequences_2 = ['GGT', 'GTC', 'TCC', 'CCC', 'CCT', 'CTC', 'TCG', 'CGC', 'GCC', 'CTA', 'TAA', 'AAC']\n",
    "subsequences_wrong = copy.copy(subsequences_2)\n",
    "Newly_add = \"CCT\"\n",
    "subsequences_wrong.append(Newly_add)\n",
    "\n",
    "try:\n",
    "    G_2 = construct_graph_from(subsequences_wrong) \n",
    "    pos_2=nx.spring_layout(G_2) \n",
    "    nx.draw_networkx(G_2,pos_2)\n",
    "    nx.draw_networkx_labels(G_2,pos_2)\n",
    "    plt.show()\n",
    "        \n",
    "    for i in G_2.nodes():\n",
    "        if G_2.in_degree(i) < G_2.out_degree(i):\n",
    "            start = i\n",
    "        elif G_2.in_degree(i) > G_2.out_degree(i):\n",
    "            stop = i\n",
    "\n",
    "    G_2.add_edge(stop, start)\n",
    "    cycle_2=list(nx.eulerian_circuit(G_2, start))\n",
    "    print(cycle_2)\n",
    "    DNA_2 = [cycle_2[0][0]]\n",
    "    for i in range(1,len(cycle_2)):\n",
    "        DNA_2.append(str(cycle_2[i][0][1])) \n",
    "    print('The result is '.join(DNA_2))\n",
    "        \n",
    "except nx.NetworkXError:\n",
    "    print(\"\\033[1m\\033[91mNetworkXError error: subsequences_wrong is not Eulerian.\\033[0m\")\n",
    "    print(\"Original subsequences\", subsequences_2)\n",
    "    print(\"Newly added subsequences: '{}'\".format(Newly_add))\n",
    "    print(\"-\"*50)"
   ]
  },
  {
   "cell_type": "markdown",
   "id": "29ec7a7a",
   "metadata": {},
   "source": [
    "### Correct Try\n",
    "Hence, in order to meet the criteria, I create **2 nodes**, I name it to \"CK\", \"KC\". You can see in the below picture. Therefore, I should add **3 subsequences** into connection."
   ]
  },
  {
   "cell_type": "code",
   "execution_count": 1083,
   "id": "6f9b3fa4",
   "metadata": {},
   "outputs": [],
   "source": [
    "## define three new nodes --> that will create 3 edges and 3 subsequences\n",
    "New_add = ['CCK', 'CKC', 'KCT']\n",
    "subsequences_3 = copy.copy(subsequences_2)\n",
    "for i in New_add:\n",
    "    subsequences_3.append(i)"
   ]
  },
  {
   "cell_type": "code",
   "execution_count": 1084,
   "id": "fa29d060",
   "metadata": {},
   "outputs": [
    {
     "data": {
      "image/png": "[encoded data removed]",
      "text/plain": [
       "<Figure size 432x288 with 1 Axes>"
      ]
     },
     "metadata": {},
     "output_type": "display_data"
    }
   ],
   "source": [
    "import networkx as nx\n",
    "import matplotlib.pyplot as plt\n",
    "from itertools import combinations\n",
    "\n",
    "def construct_graph_from(sub):\n",
    "    G = nx.DiGraph()\n",
    "    for i in sub:\n",
    "        subseq1=i[0:2]\n",
    "        subseq2=i[1:3]\n",
    "        G.add_node(subseq1)\n",
    "        G.add_node(subseq2)\n",
    "    for (i,j) in combinations(G.nodes(),2):\n",
    "        subseq1=str(i)\n",
    "        subseq2=str(j)\n",
    "        subseq=subseq1[0:2]+subseq2[1]  # string operations between say \"CA\"+\"T\" -> \"CAT\"\n",
    "        if subseq1[1]==subseq2[0] and subseq in sub:\n",
    "            G.add_edge(i,j)\n",
    "        subseq=subseq2[0:2]+subseq1[1]\n",
    "        if subseq2[1]==subseq1[0] and subseq in sub:\n",
    "            G.add_edge(j,i)\n",
    "    return G\n",
    "\n",
    "G_3 = construct_graph_from(subsequences_3) \n",
    "pos_3 = nx.spring_layout(G_3) ## <- We can change this to other types of layouts, try some out yourselves\n",
    "nx.draw_networkx(G_3 ,pos_3)\n",
    "nx.draw_networkx_labels(G_3,pos_3)\n",
    "plt.show()"
   ]
  },
  {
   "cell_type": "code",
   "execution_count": 1085,
   "id": "97468b15",
   "metadata": {},
   "outputs": [
    {
     "name": "stdout",
     "output_type": "stream",
     "text": [
      "[('GG', 'GT'), ('GT', 'TC'), ('TC', 'CG'), ('CG', 'GC'), ('GC', 'CC'), ('CC', 'CK'), ('CK', 'KC'), ('KC', 'CT'), ('CT', 'TC'), ('TC', 'CC'), ('CC', 'CT'), ('CT', 'TA'), ('TA', 'AA'), ('AA', 'AC'), ('AC', 'GG')]\n",
      "GGTCGCCKCTCCTAAC\n"
     ]
    }
   ],
   "source": [
    "for i in G_3.nodes():\n",
    "    if G_3.in_degree(i) < G_3.out_degree(i):\n",
    "        start=i\n",
    "    elif G_3.in_degree(i) > G_3.out_degree(i):\n",
    "        stop=i\n",
    "\n",
    "G_3.add_edge(stop, start)\n",
    "cycle_3 = list(nx.eulerian_circuit(G_3, start))\n",
    "print(cycle_3)\n",
    "DNA_3=[cycle_3[0][0]]\n",
    "for i in range(1,len(cycle_3)):\n",
    "    DNA_3.append(str(cycle_3[i][0][1]))\n",
    "print(''.join(DNA_3))"
   ]
  },
  {
   "cell_type": "markdown",
   "id": "5a09284f",
   "metadata": {},
   "source": [
    "Bingo, the final result of the Eulerian cycle will be **\"GGTCGCCKRCTCCTAAC\"**"
   ]
  },
  {
   "cell_type": "markdown",
   "id": "e40732ea",
   "metadata": {},
   "source": [
    "## Answer 1.b\n",
    "\n",
    "![Answer 1.b](Figures/Answer_1b.png)"
   ]
  },
  {
   "cell_type": "markdown",
   "id": "5a242423",
   "metadata": {},
   "source": [
    "# Question 2.a\n",
    "![question 2.a](Figures/question_2.a.png)"
   ]
  },
  {
   "cell_type": "markdown",
   "id": "1adf6c55",
   "metadata": {},
   "source": [
    "## Answer 2.a\n",
    "\n",
    "![Answer 2.a](Figures/Answer_2a.png)"
   ]
  },
  {
   "cell_type": "markdown",
   "id": "0a5f9409",
   "metadata": {},
   "source": [
    "# Question 2.b\n",
    "![question 2.b](Figures/question_2.b.png)"
   ]
  },
  {
   "cell_type": "markdown",
   "id": "c561ce8f",
   "metadata": {},
   "source": [
    "## Answer 2.b\n",
    "\n",
    "![Answer 2.b](Figures/Answer_2b.png)"
   ]
  },
  {
   "cell_type": "markdown",
   "id": "3c67372d",
   "metadata": {},
   "source": [
    "# Question 3.a\n",
    "![question 3.a](Figures/question_3.a.png)"
   ]
  },
  {
   "cell_type": "markdown",
   "id": "98fd37f4",
   "metadata": {},
   "source": [
    "https://www.gurobi.com/documentation/9.5/examples/multiscenario_py.html"
   ]
  },
  {
   "cell_type": "code",
   "execution_count": 1086,
   "id": "07e4b136",
   "metadata": {},
   "outputs": [
    {
     "name": "stdout",
     "output_type": "stream",
     "text": [
      "N = range(0, 6), K = range(0, 10)\n"
     ]
    }
   ],
   "source": [
    "import gurobipy as gp\n",
    "from gurobipy import *\n",
    "\n",
    "cost = [[ 3,  5,  8, 12, 10, 11], \n",
    "        [ 6,  7, 10, 12,  8, 10], \n",
    "        [ 5,  3,  8, 10, 12, 10], \n",
    "        [ 7,  6,  7, 10,  9,  5],\n",
    "        [10,  8,  5,  8,  6,  5],\n",
    "        [12,  6,  4,  7,  5,  4],\n",
    "        [ 7, 10,  6,  6,  8,  3],\n",
    "        [ 5,  6,  9,  4,  4,  7],\n",
    "        [ 8, 10,  7,  5,  4,  6],\n",
    "        [10, 12,  8,  3,  4,  6]]\n",
    "\n",
    "fixed_cost = [1750000, 2000000, 2500000, 2250000, 1500000, 1000000]\n",
    "capacity = [75, 50, 120, 100, 60, 50]\n",
    "demand = [25, 15, 20, 10, 15, 15, 25, 20, 30, 20]\n",
    "\n",
    "N = range(len(capacity))\n",
    "K = range(len(demand))\n",
    "\n",
    "print(\"N = {}, K = {}\".format(N,K))"
   ]
  },
  {
   "cell_type": "code",
   "execution_count": 1087,
   "id": "b7efa0e5",
   "metadata": {},
   "outputs": [],
   "source": [
    "m = Model(\"facility\")"
   ]
  },
  {
   "cell_type": "code",
   "execution_count": 1088,
   "id": "1e215ff2",
   "metadata": {},
   "outputs": [],
   "source": [
    "## Create a variable to judge if the site should open or not\n",
    "open = m.addVars(N, vtype=GRB.BINARY, obj=fixed_cost, name=\"open\")"
   ]
  },
  {
   "cell_type": "code",
   "execution_count": 1089,
   "id": "b68788d0",
   "metadata": {},
   "outputs": [],
   "source": [
    "## Create a variable to judge how many product this site should provide\n",
    "transport = m.addVars(K, N, obj=cost, name=\"trans\")"
   ]
  },
  {
   "cell_type": "code",
   "execution_count": 1090,
   "id": "bbbcd328",
   "metadata": {
    "scrolled": true
   },
   "outputs": [
    {
     "data": {
      "text/plain": [
       "<gurobi.Model Continuous instance facility: 0 constrs, 0 vars, No parameter changes>"
      ]
     },
     "execution_count": 1090,
     "metadata": {},
     "output_type": "execute_result"
    }
   ],
   "source": [
    "## Calculate each column's sum: expr = x.sum('*', 3) # LinExpr: x[1,3] + x[2,3]\n",
    "## introduction guide: https://www.gurobi.com/documentation/9.5/refman/py_tupledict_sum.html\n",
    "m.addConstrs(\n",
    "    (transport.sum('*', i) <= capacity[i]*open[i] for i in N), \"Capacity\")\n",
    "m"
   ]
  },
  {
   "cell_type": "code",
   "execution_count": 1091,
   "id": "ba82ed3d",
   "metadata": {},
   "outputs": [
    {
     "data": {
      "text/plain": [
       "<gurobi.Model Continuous instance facility: 0 constrs, 0 vars, No parameter changes>"
      ]
     },
     "execution_count": 1091,
     "metadata": {},
     "output_type": "execute_result"
    }
   ],
   "source": [
    "m.addConstrs(\n",
    "    (transport.sum(j) == demand[j] for j in K),\n",
    "    \"Demand\")\n",
    "m"
   ]
  },
  {
   "cell_type": "code",
   "execution_count": 1092,
   "id": "0ef8e4f3",
   "metadata": {},
   "outputs": [],
   "source": [
    "for i in N:\n",
    "    open[i].Start = 1.0"
   ]
  },
  {
   "cell_type": "code",
   "execution_count": 1093,
   "id": "9ee5fe34",
   "metadata": {},
   "outputs": [
    {
     "name": "stdout",
     "output_type": "stream",
     "text": [
      "Initial guess:\n",
      "Closing plant 2\n",
      "\n"
     ]
    }
   ],
   "source": [
    "print('Initial guess:')\n",
    "maxFixed = max(fixed_cost)\n",
    "for i in N:\n",
    "    if fixed_cost[i] == maxFixed:\n",
    "        open[i].Start = 0.0\n",
    "        print('Closing plant %s' % i)\n",
    "        break\n",
    "print('')"
   ]
  },
  {
   "cell_type": "code",
   "execution_count": 1094,
   "id": "9e3c6a70",
   "metadata": {},
   "outputs": [
    {
     "name": "stdout",
     "output_type": "stream",
     "text": [
      "Set parameter Method to value 5\n"
     ]
    }
   ],
   "source": [
    "m.Params.Method = 5"
   ]
  },
  {
   "cell_type": "code",
   "execution_count": 1095,
   "id": "66684b57",
   "metadata": {},
   "outputs": [
    {
     "name": "stdout",
     "output_type": "stream",
     "text": [
      "Gurobi Optimizer version 9.5.2 build v9.5.2rc0 (win64)\n",
      "Thread count: 8 physical cores, 16 logical processors, using up to 16 threads\n",
      "Optimize a model with 16 rows, 66 columns and 126 nonzeros\n",
      "Model fingerprint: 0x01fedbb2\n",
      "Variable types: 60 continuous, 6 integer (6 binary)\n",
      "Coefficient statistics:\n",
      "  Matrix range     [1e+00, 1e+02]\n",
      "  Objective range  [3e+00, 3e+06]\n",
      "  Bounds range     [1e+00, 1e+00]\n",
      "  RHS range        [1e+01, 3e+01]\n",
      "\n",
      "User MIP start produced solution with objective 8.50076e+06 (0.02s)\n",
      "Loaded user MIP start with objective 8.50076e+06\n",
      "\n",
      "Presolve time: 0.00s\n",
      "Presolved: 16 rows, 66 columns, 126 nonzeros\n",
      "Variable types: 60 continuous, 6 integer (6 binary)\n",
      "\n",
      "Root relaxation: objective 4.063665e+06, 14 iterations, 0.00 seconds (0.00 work units)\n",
      "\n",
      "    Nodes    |    Current Node    |     Objective Bounds      |     Work\n",
      " Expl Unexpl |  Obj  Depth IntInf | Incumbent    BestBd   Gap | It/Node Time\n",
      "\n",
      "     0     0 4063665.00    0    1 8500760.00 4063665.00  52.2%     -    0s\n",
      "H    0     0                    5751165.0000 4063665.00  29.3%     -    0s\n",
      "H    0     0                    5250935.0000 4063665.00  22.6%     -    0s\n",
      "H    0     0                    5001170.0000 4251105.00  15.0%     -    0s\n",
      "H    0     0                    4251105.0000 4251105.00  0.00%     -    0s\n",
      "     0     0          -    0      4251105.00 4251105.00  0.00%     -    0s\n",
      "\n",
      "Cutting planes:\n",
      "  Gomory: 1\n",
      "  Implied bound: 1\n",
      "  MIR: 1\n",
      "\n",
      "Explored 1 nodes (27 simplex iterations) in 0.04 seconds (0.00 work units)\n",
      "Thread count was 16 (of 16 available processors)\n",
      "\n",
      "Solution count 5: 4.25111e+06 5.00117e+06 5.25094e+06 ... 8.50076e+06\n",
      "\n",
      "Optimal solution found (tolerance 1.00e-04)\n",
      "Best objective 4.251105000000e+06, best bound 4.251105000000e+06, gap 0.0000%\n"
     ]
    }
   ],
   "source": [
    "m.optimize()"
   ]
  },
  {
   "cell_type": "code",
   "execution_count": 1096,
   "id": "ce1a383e",
   "metadata": {},
   "outputs": [
    {
     "name": "stdout",
     "output_type": "stream",
     "text": [
      "Warehouse: [1, 2, 3, 4, 5, 6]\n",
      "Result:    [1, 0, 1, 0, 0, 0]\n",
      "\n",
      "\n",
      "We should build warehouse 0\n",
      "We should build warehouse 2\n"
     ]
    }
   ],
   "source": [
    "final_open = []\n",
    "for i in N:\n",
    "    final_open.append(int(open[i].x))\n",
    "print(\"Warehouse: [1, 2, 3, 4, 5, 6]\")\n",
    "print(\"Result:   \", final_open)\n",
    "\n",
    "print(\"\\n\")\n",
    "for non_zero in N:\n",
    "    if open[non_zero].x > 0:\n",
    "        print(\"We should build warehouse {}\".format(non_zero))"
   ]
  },
  {
   "cell_type": "code",
   "execution_count": 1097,
   "id": "03a2052e",
   "metadata": {
    "scrolled": true
   },
   "outputs": [
    {
     "name": "stdout",
     "output_type": "stream",
     "text": [
      "Number of products in each factory:\n",
      "\n",
      "25    0    0    0    0    0    \n",
      "15    0    0    0    0    0    \n",
      "15    0    5    0    0    0    \n",
      "0    0    10    0    0    0    \n",
      "0    0    15    0    0    0    \n",
      "0    0    15    0    0    0    \n",
      "0    0    25    0    0    0    \n",
      "20    0    0    0    0    0    \n",
      "0    0    30    0    0    0    \n",
      "0    0    20    0    0    0    \n"
     ]
    }
   ],
   "source": [
    "print(\"Number of products in each factory:\\n\")\n",
    "for i in K:\n",
    "    for j in N:\n",
    "\n",
    "        print(int(transport[i,j].x),sep='',end='    ')\n",
    "    print()\n",
    "\n",
    "\n",
    "    \n"
   ]
  },
  {
   "cell_type": "markdown",
   "id": "446c5391",
   "metadata": {},
   "source": [
    " "
   ]
  },
  {
   "cell_type": "markdown",
   "id": "78e777ed",
   "metadata": {},
   "source": [
    "# Question 3.b\n",
    "![question 3.b](Figures/question_3.b.png)"
   ]
  },
  {
   "cell_type": "code",
   "execution_count": 1098,
   "id": "2270d714",
   "metadata": {},
   "outputs": [],
   "source": [
    "capacity = [75, 50, 120, 100, 60, 50] ## rollback the capacity because in the final I will modify it to do test.\n",
    "model_2 = Model(\"only_one_facility\")"
   ]
  },
  {
   "cell_type": "code",
   "execution_count": 1099,
   "id": "4c4a4155",
   "metadata": {
    "scrolled": true
   },
   "outputs": [],
   "source": [
    "## Create a variable to judge if the site should open or not\n",
    "open_2 = model_2.addVars(N, vtype=GRB.BINARY, obj=fixed_cost, name=\"open\")\n",
    "\n",
    "## Create a variable to judge how many product this site should provide\n",
    "transport_2 = model_2.addVars(K, N, obj=cost, name=\"trans\")"
   ]
  },
  {
   "cell_type": "code",
   "execution_count": 1100,
   "id": "0068fb3b",
   "metadata": {},
   "outputs": [
    {
     "data": {
      "text/plain": [
       "{0: <gurobi.Constr *Awaiting Model Update*>,\n",
       " 1: <gurobi.Constr *Awaiting Model Update*>,\n",
       " 2: <gurobi.Constr *Awaiting Model Update*>,\n",
       " 3: <gurobi.Constr *Awaiting Model Update*>,\n",
       " 4: <gurobi.Constr *Awaiting Model Update*>,\n",
       " 5: <gurobi.Constr *Awaiting Model Update*>,\n",
       " 6: <gurobi.Constr *Awaiting Model Update*>,\n",
       " 7: <gurobi.Constr *Awaiting Model Update*>,\n",
       " 8: <gurobi.Constr *Awaiting Model Update*>,\n",
       " 9: <gurobi.Constr *Awaiting Model Update*>}"
      ]
     },
     "execution_count": 1100,
     "metadata": {},
     "output_type": "execute_result"
    }
   ],
   "source": [
    "## only revise here. Because I want to change my plan from nmultiple warehouse allowed to be constraint at one warehouse, \n",
    "## Therefore, summary of open_2 should be equal or less than 1, \n",
    "## notice, open_2.sum(i) for i in N means summary the inside data of open_2[i]. i.e: if open_2[0] = [1,2,3,4] then at at i = 0, \n",
    "## open_2.sum(i) for i in N wil be 10, \n",
    "\n",
    "## if we want to calculate all the summary of open_2[i] for i in N, we should use open_2.sum(). \n",
    "## However, at this point, an error \"'Missing constraint index'\" will happen because model_2.addConstrs can only be used at\n",
    "## Constraint number >2, That is, should use for loop\n",
    "## so we should use model_2.addConstr instead of model_2.addConstrs in order to execute the code smoothly.\n",
    "\n",
    "model_2.addConstrs(\n",
    "    (transport_2.sum('*', i) <= capacity[i]*open_2[i] for i in N), \"Capacity\")\n",
    "\n",
    "model_2.addConstr(\n",
    "    (open_2.sum() <= 1 ), \"check\")\n",
    "\n",
    "\n",
    "model_2.addConstrs(\n",
    "    (transport_2.sum(j) == demand[j] for j in K),\n",
    "    \"Demand\")"
   ]
  },
  {
   "cell_type": "code",
   "execution_count": 1101,
   "id": "f8645774",
   "metadata": {
    "scrolled": false
   },
   "outputs": [
    {
     "name": "stdout",
     "output_type": "stream",
     "text": [
      "Gurobi Optimizer version 9.5.2 build v9.5.2rc0 (win64)\n",
      "Thread count: 8 physical cores, 16 logical processors, using up to 16 threads\n",
      "Optimize a model with 17 rows, 66 columns and 132 nonzeros\n",
      "Model fingerprint: 0xad7d1dc6\n",
      "Variable types: 60 continuous, 6 integer (6 binary)\n",
      "Coefficient statistics:\n",
      "  Matrix range     [1e+00, 1e+02]\n",
      "  Objective range  [3e+00, 3e+06]\n",
      "  Bounds range     [1e+00, 1e+00]\n",
      "  RHS range        [1e+00, 3e+01]\n",
      "Presolve removed 0 rows and 2 columns\n",
      "Presolve time: 0.00s\n",
      "\n",
      "Explored 0 nodes (0 simplex iterations) in 0.00 seconds (0.00 work units)\n",
      "Thread count was 1 (of 16 available processors)\n",
      "\n",
      "Solution count 0\n",
      "\n",
      "Model is infeasible\n",
      "Best objective -, best bound -, gap -\n"
     ]
    }
   ],
   "source": [
    "model_2.optimize()"
   ]
  },
  {
   "cell_type": "code",
   "execution_count": 1102,
   "id": "c975da9d",
   "metadata": {
    "scrolled": true
   },
   "outputs": [
    {
     "data": {
      "text/plain": [
       "{0: <gurobi.Var open[0]>,\n",
       " 1: <gurobi.Var open[1]>,\n",
       " 2: <gurobi.Var open[2]>,\n",
       " 3: <gurobi.Var open[3]>,\n",
       " 4: <gurobi.Var open[4]>,\n",
       " 5: <gurobi.Var open[5]>}"
      ]
     },
     "execution_count": 1102,
     "metadata": {},
     "output_type": "execute_result"
    }
   ],
   "source": [
    "## the boolean open_2 can not find an open warehouse!!\n",
    "open_2"
   ]
  },
  {
   "cell_type": "markdown",
   "id": "b5f482fc",
   "metadata": {},
   "source": [
    "The result looks strange, but if we think about it twice, it can be easily understood. Let's imagine the question if we want to choose only one warehouse, which warehouse can save us the most money? Beyond the question we should understand one question, they should have at least one warehouse that satisfies the problem, and then we can do a comparison. But it no warehouse satisfy the basic requirements?\n",
    "\n",
    "The answer is no warehouse satisfies the basic requirement. Because one warehouse should satisfy the summary of demand, that is, 190 in total. But no warehouse has such capacity. Therefore, the function of optimize can not find an answer!!"
   ]
  },
  {
   "cell_type": "markdown",
   "id": "f6d28421",
   "metadata": {},
   "source": [
    "### Test \n",
    "if we want to get a result, we should modify the original data. Hence, I multiply each capacity by 10 to check what it will happen."
   ]
  },
  {
   "cell_type": "code",
   "execution_count": 1103,
   "id": "b0bde590",
   "metadata": {},
   "outputs": [],
   "source": [
    "## All capacity multiple by 10\n",
    "capacity = [750, 500, 1200, 1000, 600, 500]"
   ]
  },
  {
   "cell_type": "code",
   "execution_count": 1104,
   "id": "94a549f3",
   "metadata": {},
   "outputs": [],
   "source": [
    "model_3 = Model(\"test\")"
   ]
  },
  {
   "cell_type": "code",
   "execution_count": 1105,
   "id": "605d2b61",
   "metadata": {
    "scrolled": true
   },
   "outputs": [
    {
     "name": "stdout",
     "output_type": "stream",
     "text": [
      "Gurobi Optimizer version 9.5.2 build v9.5.2rc0 (win64)\n",
      "Thread count: 8 physical cores, 16 logical processors, using up to 16 threads\n",
      "Optimize a model with 17 rows, 66 columns and 132 nonzeros\n",
      "Model fingerprint: 0x14d96d45\n",
      "Variable types: 60 continuous, 6 integer (6 binary)\n",
      "Coefficient statistics:\n",
      "  Matrix range     [1e+00, 1e+03]\n",
      "  Objective range  [3e+00, 3e+06]\n",
      "  Bounds range     [1e+00, 1e+00]\n",
      "  RHS range        [1e+00, 3e+01]\n",
      "Presolve removed 17 rows and 66 columns\n",
      "Presolve time: 0.00s\n",
      "Presolve: All rows and columns removed\n",
      "\n",
      "Explored 0 nodes (0 simplex iterations) in 0.01 seconds (0.00 work units)\n",
      "Thread count was 1 (of 16 available processors)\n",
      "\n",
      "Solution count 1: 1.00133e+06 \n",
      "\n",
      "Optimal solution found (tolerance 1.00e-04)\n",
      "Best objective 1.001325000000e+06, best bound 1.001325000000e+06, gap 0.0000%\n"
     ]
    }
   ],
   "source": [
    "## Create a variable to judge if the site should open or not\n",
    "open_3 = model_3.addVars(N, vtype=GRB.BINARY, obj=fixed_cost, name=\"open\")\n",
    "\n",
    "## Create a variable to judge how many product this site should provide\n",
    "transport_3 = model_3.addVars(K, N, obj=cost, name=\"trans\")\n",
    "\n",
    "\n",
    "model_3.addConstrs(\n",
    "    (transport_3.sum('*', i) <= capacity[i]*open_3[i] for i in N), \"Capacity\")\n",
    "\n",
    "model_3.addConstr(\n",
    "    (open_3.sum() <= 1 ), \"check\")\n",
    "\n",
    "\n",
    "model_3.addConstrs(\n",
    "    (transport_3.sum(j) == demand[j] for j in K),\n",
    "    \"Demand\")\n",
    "\n",
    "model_3.optimize()\n",
    "\n"
   ]
  },
  {
   "cell_type": "code",
   "execution_count": 1106,
   "id": "48a1f286",
   "metadata": {},
   "outputs": [
    {
     "name": "stdout",
     "output_type": "stream",
     "text": [
      "If the capacity multiple with 10, we should choose build \u001b[1m\u001b[91mwarehouse 6\u001b[0m to storage our products.\n",
      "\n",
      "Warehouse: [1, 2, 3, 4, 5, 6]\n",
      "Result:    [0, 0, 0, 0, 0, 1]\n"
     ]
    }
   ],
   "source": [
    "final_open = []\n",
    "for i in N:\n",
    "    if int(open_3[i].x) != 0:\n",
    "        print(\"If the capacity multiple with 10, we should choose build \\033[1m\\033[91mwarehouse {}\\033[0m to storage our products.\\n\".format(i+1))\n",
    "    final_open.append(int(open_3[i].x))\n",
    "print(\"Warehouse: [1, 2, 3, 4, 5, 6]\")\n",
    "print(\"Result:   \", final_open)"
   ]
  },
  {
   "cell_type": "code",
   "execution_count": 1107,
   "id": "2f386ac3",
   "metadata": {},
   "outputs": [
    {
     "name": "stdout",
     "output_type": "stream",
     "text": [
      "Number of products in each factory:\n",
      "0    0    0    0    0    25    \n",
      "0    0    0    0    0    15    \n",
      "0    0    0    0    0    20    \n",
      "0    0    0    0    0    10    \n",
      "0    0    0    0    0    15    \n",
      "0    0    0    0    0    15    \n",
      "0    0    0    0    0    25    \n",
      "0    0    0    0    0    20    \n",
      "0    0    0    0    0    30    \n",
      "0    0    0    0    0    20    \n"
     ]
    }
   ],
   "source": [
    "print(\"Number of products in each factory:\")\n",
    "for i in K:\n",
    "    for j in N:\n",
    "\n",
    "        print(int(transport_3[i,j].x),sep='',end='    ')\n",
    "    print('')\n"
   ]
  },
  {
   "cell_type": "markdown",
   "id": "461a1050",
   "metadata": {},
   "source": [
    "We can see if the capacity is enough to fullfill the need, the most suitable warehouse will be warehouse 6. It make sense because the fixed_cost of warehouse is the lowest."
   ]
  },
  {
   "cell_type": "markdown",
   "id": "056f355e",
   "metadata": {},
   "source": [
    "# Question  4\n",
    "![question 4](Figures/question_4.png)"
   ]
  },
  {
   "cell_type": "code",
   "execution_count": 1108,
   "id": "0b0fd6e6",
   "metadata": {},
   "outputs": [],
   "source": [
    "m_Sudoku = Model(\"Sudoku\")"
   ]
  },
  {
   "cell_type": "code",
   "execution_count": 1109,
   "id": "1f8ceddc",
   "metadata": {},
   "outputs": [],
   "source": [
    "Grid = [\n",
    "[0,0,6, 0,8,0, 5,0,0],\n",
    "[9,0,0, 3,0,0, 0,2,0],\n",
    "[0,4,0, 0,0,1, 0,0,7],\n",
    "\n",
    "[0,0,0, 0,0,5, 6,0,0],\n",
    "[0,2,0, 0,4,0, 0,1,0],\n",
    "[3,0,0, 0,0,0, 0,0,9],\n",
    "\n",
    "[0,0,1, 9,0,0, 0,3,0],\n",
    "[0,0,0, 0,2,0, 4,0,0],\n",
    "[0,5,0, 0,0,7, 0,0,0]]\n",
    "\n",
    "#N represents the Big Square comprised of 9 smaller squares\n",
    "N = range(9)\n",
    "\n",
    "#K represents the numbers 1-9\n",
    "K = range(1,10)"
   ]
  },
  {
   "cell_type": "code",
   "execution_count": 1110,
   "id": "e330ce28",
   "metadata": {},
   "outputs": [],
   "source": [
    "## Create 9*9*9 variables, each can be 0 or 1\n",
    "X = {(i,j,k): m_Sudoku.addVar(vtype=GRB.BINARY) for i in N for j in N for k in K}"
   ]
  },
  {
   "cell_type": "code",
   "execution_count": 1111,
   "id": "367b2eef",
   "metadata": {},
   "outputs": [],
   "source": [
    "## Given True(1), when the opportunities of each item inside X is larger than 0\n",
    "PreAssign = {\n",
    "    (i,j): m_Sudoku.addConstr(X[i,j,Grid[i][j]]==1)\n",
    "    for i in N for j in N if Grid[i][j]>0}"
   ]
  },
  {
   "cell_type": "code",
   "execution_count": 1112,
   "id": "529b350f",
   "metadata": {},
   "outputs": [],
   "source": [
    "## each cell can be one number. For example, Grid[8][8] can be 1~9, meaning the sum of X: (8,8,k) can be only and only if 1\n",
    "OnePerSquare = {\n",
    "    (i,j): m_Sudoku.addConstr(quicksum(X[i,j,k] for k in K)==1)\n",
    "    for i in N for j in N}"
   ]
  },
  {
   "cell_type": "code",
   "execution_count": 1113,
   "id": "8205a7b7",
   "metadata": {},
   "outputs": [],
   "source": [
    "## each row can be one specific number. For example, Grid[8][j] can only put a 9, \n",
    "## which means the sum of X: (8, j, 9) can be only and only if 1.\n",
    "EachValueInRow = {\n",
    "    (i,k): m_Sudoku.addConstr(quicksum(X[i,j,k] for j in N)==1)\n",
    "    for i in N for k in K}"
   ]
  },
  {
   "cell_type": "code",
   "execution_count": 1114,
   "id": "a0fb7698",
   "metadata": {},
   "outputs": [],
   "source": [
    "## each column can be one specific number. For example, Grid[i][8] can only put a 9, \n",
    "## which means the sum of X: (i, 8, 9) can be only and only if 1.\n",
    "EachValueInCol = {\n",
    "    (j,k): m_Sudoku.addConstr(quicksum(X[i,j,k] for i in N)==1)\n",
    "    for j in N for k in K}"
   ]
  },
  {
   "cell_type": "code",
   "execution_count": 1115,
   "id": "b668b90b",
   "metadata": {},
   "outputs": [],
   "source": [
    "## Define each SubSquares can only include 1~9. (ii, jj, k) is a SubSquare\n",
    "EachValueInSubSquares = {\n",
    "    (ii,jj,k): m_Sudoku.addConstr(quicksum(X[i,j,k] \n",
    "                        for i in range(3*ii,3*ii+3)  ## ii transfer to i\n",
    "                        for j in range(3*jj,3*jj+3))==1) ## jj transfer to j\n",
    "    for ii in range(3) for jj in range(3) for k in K}"
   ]
  },
  {
   "cell_type": "code",
   "execution_count": 1116,
   "id": "e792c755",
   "metadata": {},
   "outputs": [
    {
     "name": "stdout",
     "output_type": "stream",
     "text": [
      "Gurobi Optimizer version 9.5.2 build v9.5.2rc0 (win64)\n",
      "Thread count: 8 physical cores, 16 logical processors, using up to 16 threads\n",
      "Optimize a model with 347 rows, 729 columns and 2939 nonzeros\n",
      "Model fingerprint: 0x92737a19\n",
      "Variable types: 0 continuous, 729 integer (729 binary)\n",
      "Coefficient statistics:\n",
      "  Matrix range     [1e+00, 1e+00]\n",
      "  Objective range  [0e+00, 0e+00]\n",
      "  Bounds range     [1e+00, 1e+00]\n",
      "  RHS range        [1e+00, 1e+00]\n",
      "Presolve removed 347 rows and 729 columns\n",
      "Presolve time: 0.00s\n",
      "Presolve: All rows and columns removed\n",
      "\n",
      "Explored 0 nodes (0 simplex iterations) in 0.01 seconds (0.00 work units)\n",
      "Thread count was 1 (of 16 available processors)\n",
      "\n",
      "Solution count 1: 0 \n",
      "\n",
      "Optimal solution found (tolerance 1.00e-04)\n",
      "Best objective 0.000000000000e+00, best bound 0.000000000000e+00, gap 0.0000%\n"
     ]
    }
   ],
   "source": [
    "m_Sudoku.optimize()"
   ]
  },
  {
   "cell_type": "code",
   "execution_count": 1117,
   "id": "59285ba3",
   "metadata": {},
   "outputs": [
    {
     "name": "stdout",
     "output_type": "stream",
     "text": [
      "The result is:\n",
      "\n",
      "---+---+---\n",
      "136|782|594\n",
      "987|354|126\n",
      "542|691|387\n",
      "---+---+---\n",
      "798|135|642\n",
      "625|849|713\n",
      "314|276|859\n",
      "---+---+---\n",
      "471|968|235\n",
      "869|523|471\n",
      "253|417|968\n",
      "---+---+---\n"
     ]
    }
   ],
   "source": [
    "print(\"The result is:\\n\")\n",
    "print('---+---+---')\n",
    "for i in N:\n",
    "    if i==3 or i==6:\n",
    "        print('---+---+---')\n",
    "    for j in N:\n",
    "        if j==3 or j==6:\n",
    "            print('|', end='')\n",
    "        for k in K:\n",
    "            if X[i,j,k].x > 0.9:\n",
    "                print(k,sep='',end='')\n",
    "    print('')\n",
    "print('---+---+---')"
   ]
  }
 ],
 "metadata": {
  "kernelspec": {
   "display_name": "Python 3 (ipykernel)",
   "language": "python",
   "name": "python3"
  },
  "language_info": {
   "codemirror_mode": {
    "name": "ipython",
    "version": 3
   },
   "file_extension": ".py",
   "mimetype": "text/x-python",
   "name": "python",
   "nbconvert_exporter": "python",
   "pygments_lexer": "ipython3",
   "version": "3.9.13"
  }
 },
 "nbformat": 4,
 "nbformat_minor": 5
}
