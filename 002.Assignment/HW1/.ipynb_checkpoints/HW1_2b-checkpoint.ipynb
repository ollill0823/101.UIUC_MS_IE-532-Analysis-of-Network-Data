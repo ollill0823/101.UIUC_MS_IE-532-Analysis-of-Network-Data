{
 "cells": [
  {
   "cell_type": "code",
   "execution_count": 1,
   "id": "750a9540",
   "metadata": {},
   "outputs": [],
   "source": [
    "# import gurobi\n",
    "from gurobipy import *"
   ]
  },
  {
   "cell_type": "code",
   "execution_count": 2,
   "id": "cb3a6c4b",
   "metadata": {},
   "outputs": [
    {
     "name": "stdout",
     "output_type": "stream",
     "text": [
      "Restricted license - for non-production use only - expires 2023-10-25\n"
     ]
    }
   ],
   "source": [
    "# creat model\n",
    "m = Model(\"portfolio\")"
   ]
  },
  {
   "cell_type": "code",
   "execution_count": 3,
   "id": "98acb624",
   "metadata": {},
   "outputs": [],
   "source": [
    "cov = [[]\n",
    "cov[1][1]\n",
    "returns = [5, 16, 3, 8, 3]"
   ]
  },
  {
   "cell_type": "code",
   "execution_count": 4,
   "id": "0fb47bc1",
   "metadata": {},
   "outputs": [],
   "source": [
    "min_return = 15\n",
    "budget = 1000"
   ]
  },
  {
   "cell_type": "code",
   "execution_count": 5,
   "id": "6e588833",
   "metadata": {},
   "outputs": [],
   "source": [
    "# variable definition and restriction\n",
    "\n",
    "## how many paths we want to define\n",
    "x = m.addVars(len(returns), lb = 0.0, ub = 1.0, vtype = GRB.CONTINUOUS)"
   ]
  },
  {
   "cell_type": "markdown",
   "id": "59c300ca",
   "metadata": {},
   "source": [
    "### quicksum\n",
    "**introduction:** https://github.com/wurmen/Gurobi-Python/blob/master/python-gurobi%20%20model/Python%2BGurobi%E5%9F%BA%E6%9C%AC%E6%9E%B6%E6%A7%8B.md"
   ]
  },
  {
   "cell_type": "code",
   "execution_count": 6,
   "id": "3fe653dd",
   "metadata": {},
   "outputs": [
    {
     "data": {
      "text/plain": [
       "<gurobi.Constr *Awaiting Model Update*>"
      ]
     },
     "execution_count": 6,
     "metadata": {},
     "output_type": "execute_result"
    }
   ],
   "source": [
    "# Constraint\n",
    "# budget \n",
    "m.addConstr(quicksum(x[i] for i in range(len(returns))) <= 1)\n",
    "# minimum return constraint\n",
    "m.addConstr(quicksum(returns[1]*x[i] for i in range(len(returns))) >= min_return)"
   ]
  },
  {
   "cell_type": "code",
   "execution_count": 7,
   "id": "8192acf5",
   "metadata": {},
   "outputs": [],
   "source": [
    "obj = 0\n",
    "for i in range(len(returns)):\n",
    "    for j in range(len(returns)):\n",
    "        obj += cov[i][j]*x[i]*x[j]\n",
    "m.setObjective(obj)"
   ]
  },
  {
   "cell_type": "code",
   "execution_count": 8,
   "id": "e13329fe",
   "metadata": {
    "scrolled": true
   },
   "outputs": [
    {
     "name": "stdout",
     "output_type": "stream",
     "text": [
      "Gurobi Optimizer version 9.5.2 build v9.5.2rc0 (win64)\n",
      "Thread count: 8 physical cores, 16 logical processors, using up to 16 threads\n",
      "Optimize a model with 2 rows, 5 columns and 10 nonzeros\n",
      "Model fingerprint: 0x1f1c5d4e\n",
      "Model has 15 quadratic objective terms\n",
      "Coefficient statistics:\n",
      "  Matrix range     [1e+00, 2e+01]\n",
      "  Objective range  [0e+00, 0e+00]\n",
      "  QObjective range [8e+00, 2e+02]\n",
      "  Bounds range     [1e+00, 1e+00]\n",
      "  RHS range        [1e+00, 2e+01]\n",
      "Presolve removed 1 rows and 0 columns\n",
      "Presolve time: 0.01s\n",
      "Presolved: 1 rows, 6 columns, 6 nonzeros\n",
      "Presolved model has 15 quadratic objective terms\n",
      "Ordering time: 0.00s\n",
      "\n",
      "Barrier statistics:\n",
      " Free vars  : 4\n",
      " AA' NZ     : 1.000e+01\n",
      " Factor NZ  : 1.500e+01\n",
      " Factor Ops : 5.500e+01 (less than 1 second per iteration)\n",
      " Threads    : 1\n",
      "\n",
      "                  Objective                Residual\n",
      "Iter       Primal          Dual         Primal    Dual     Compl     Time\n",
      "   0   2.85602374e+05 -2.85664874e+05  5.06e+03 4.90e-07  4.10e+05     0s\n",
      "   1   4.94303075e+04 -4.97533066e+04  2.83e+02 2.74e-08  2.86e+04     0s\n",
      "   2   4.42229511e+03 -5.10624361e+03  1.28e+01 1.24e-09  1.85e+03     0s\n",
      "   3   1.01817332e+02 -1.04692618e+03  1.13e-01 1.10e-11  1.08e+02     0s\n",
      "   4   8.21651599e+01 -1.66109865e+02  2.10e-02 2.03e-12  2.10e+01     0s\n",
      "   5   5.63795369e+00 -1.67926270e+02  2.10e-08 3.98e-13  1.45e+01     0s\n",
      "   6   4.60144961e+00 -9.71630192e-01  6.47e-10 2.84e-14  4.64e-01     0s\n",
      "   7   2.71030780e+00  1.95602764e+00  2.59e-12 5.55e-17  6.29e-02     0s\n",
      "   8   2.35581765e+00  2.25976171e+00  2.00e-15 8.88e-16  8.00e-03     0s\n",
      "   9   2.31202636e+00  2.30221591e+00  1.61e-15 6.83e-16  8.18e-04     0s\n",
      "  10   2.30806033e+00  2.30703412e+00  1.15e-14 1.11e-15  8.55e-05     0s\n",
      "  11   2.30789172e+00  2.30782385e+00  1.96e-14 9.19e-16  5.66e-06     0s\n",
      "  12   2.30788966e+00  2.30788950e+00  1.49e-14 9.26e-16  1.31e-08     0s\n",
      "  13   2.30788966e+00  2.30788966e+00  3.54e-14 0.00e+00  1.31e-11     0s\n",
      "\n",
      "Barrier solved model in 13 iterations and 0.01 seconds (0.00 work units)\n",
      "Optimal objective 2.30788966e+00\n",
      "\n"
     ]
    }
   ],
   "source": [
    "m.optimize()"
   ]
  },
  {
   "cell_type": "code",
   "execution_count": 9,
   "id": "fb849fc3",
   "metadata": {},
   "outputs": [
    {
     "name": "stdout",
     "output_type": "stream",
     "text": [
      "0 0.48\n",
      "1 0.003\n",
      "2 0.174\n",
      "3 0.28\n",
      "4 0.0\n"
     ]
    }
   ],
   "source": [
    "for i in range(len(returns)):\n",
    "    print(i, round(x[i].X, 3))"
   ]
  },
  {
   "cell_type": "code",
   "execution_count": 10,
   "id": "c3d2a79e",
   "metadata": {},
   "outputs": [
    {
     "data": {
      "text/plain": [
       "2.3078896601286196"
      ]
     },
     "execution_count": 10,
     "metadata": {},
     "output_type": "execute_result"
    }
   ],
   "source": [
    "m.ObjVal"
   ]
  }
 ],
 "metadata": {
  "kernelspec": {
   "display_name": "Python 3 (ipykernel)",
   "language": "python",
   "name": "python3"
  },
  "language_info": {
   "codemirror_mode": {
    "name": "ipython",
    "version": 3
   },
   "file_extension": ".py",
   "mimetype": "text/x-python",
   "name": "python",
   "nbconvert_exporter": "python",
   "pygments_lexer": "ipython3",
   "version": "3.9.7"
  }
 },
 "nbformat": 4,
 "nbformat_minor": 5
}
