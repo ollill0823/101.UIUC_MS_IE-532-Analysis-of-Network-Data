{
 "cells": [
  {
   "cell_type": "code",
   "execution_count": 5,
   "id": "289a4e1b",
   "metadata": {},
   "outputs": [
    {
     "data": {
      "text/plain": [
       "['orange', 'grape']"
      ]
     },
     "execution_count": 5,
     "metadata": {},
     "output_type": "execute_result"
    }
   ],
   "source": [
    "fruits = [\"apple\", \"banana\", \"orange\", \"grape\"]\n",
    "fruits[2:4]"
   ]
  },
  {
   "cell_type": "code",
   "execution_count": 7,
   "id": "80a69363",
   "metadata": {},
   "outputs": [],
   "source": [
    "fruits2 = fruits\n",
    "fruits2[2:4] = 'pear'"
   ]
  },
  {
   "cell_type": "code",
   "execution_count": 8,
   "id": "3600e9d3",
   "metadata": {},
   "outputs": [
    {
     "data": {
      "text/plain": [
       "['apple', 'banana', 'pear', 'grape']"
      ]
     },
     "execution_count": 8,
     "metadata": {},
     "output_type": "execute_result"
    }
   ],
   "source": [
    "fruits2"
   ]
  }
 ],
 "metadata": {
  "kernelspec": {
   "display_name": "Python 3 (ipykernel)",
   "language": "python",
   "name": "python3"
  },
  "language_info": {
   "codemirror_mode": {
    "name": "ipython",
    "version": 3
   },
   "file_extension": ".py",
   "mimetype": "text/x-python",
   "name": "python",
   "nbconvert_exporter": "python",
   "pygments_lexer": "ipython3",
   "version": "3.9.7"
  }
 },
 "nbformat": 4,
 "nbformat_minor": 5
}
