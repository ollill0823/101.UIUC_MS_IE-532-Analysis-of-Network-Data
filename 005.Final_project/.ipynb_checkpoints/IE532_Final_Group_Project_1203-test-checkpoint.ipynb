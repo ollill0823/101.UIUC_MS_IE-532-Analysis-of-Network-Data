{
 "cells": [
  {
   "cell_type": "markdown",
   "id": "2a1c440f",
   "metadata": {
    "id": "2a1c440f"
   },
   "source": [
    "* **Courses:** Fall 2022-IE 532-Analysis of Network Data\n",
    "* **Topic:** Final Group project\n",
    "* **Student name:**  Chen Wang/JoTing Wang/SzuMin Chao"
   ]
  },
  {
   "cell_type": "markdown",
   "id": "bfc32320",
   "metadata": {
    "id": "bfc32320"
   },
   "source": [
    "# Table of contents\n",
    "\n",
    "1. [Data-preprocessing](#preprocessing)\n",
    "2. [Visualization](#visualization)\n",
    "3. [LinearRegression](#LinearRegression)"
   ]
  },
  {
   "cell_type": "markdown",
   "id": "c4c97e5d",
   "metadata": {
    "colab": {
     "base_uri": "https://localhost:8080/"
    },
    "id": "xhRQ63C5wC3e",
    "outputId": "2d862edc-2238-4a6e-905b-d6faac0ee10e"
   },
   "source": [
    "!pip install gurobipy"
   ]
  },
  {
   "cell_type": "code",
   "execution_count": 1,
   "id": "db38dd79",
   "metadata": {
    "id": "db38dd79"
   },
   "outputs": [],
   "source": [
    "import numpy as np\n",
    "import pandas as pd\n",
    "import random\n",
    "import matplotlib.pyplot as plt\n",
    "import zipfile\n",
    "import torch\n",
    "import seaborn as sns\n",
    "import time\n",
    "import networkx as nx\n",
    "from gurobipy import *\n",
    "\n",
    "import matplotlib.offsetbox as offsetbox\n",
    "import networkx as nx\n",
    "from gurobipy import *\n",
    "from itertools import combinations\n",
    "import heapq as hq\n",
    "from random import sample\n",
    "import math\n",
    "import csv\n",
    "\n",
    "import warnings\n",
    "warnings.filterwarnings(\"ignore\")"
   ]
  },
  {
   "cell_type": "code",
   "execution_count": 2,
   "id": "95b33de8",
   "metadata": {
    "id": "95b33de8"
   },
   "outputs": [],
   "source": [
    "data_color = \"red\"\n",
    "markersize = 5\n",
    "thinlinesize=2"
   ]
  },
  {
   "cell_type": "code",
   "execution_count": 3,
   "id": "2de7ca98",
   "metadata": {
    "id": "2de7ca98"
   },
   "outputs": [],
   "source": [
    "def textbox(txt,fname=None):\n",
    "    plt.figure(figsize=(1,1))\n",
    "    plt.gca().add_artist(offsetbox.AnchoredText(\"\\n\".join(txt), loc=\"center\",prop=dict(size=30)))\n",
    "    plt.axis('off')\n",
    "    if fname is not None:\n",
    "        saver(fname)\n",
    "    plt.show()\n",
    "    plt.close()"
   ]
  },
  {
   "cell_type": "code",
   "execution_count": 4,
   "id": "3a349fff",
   "metadata": {
    "id": "3a349fff"
   },
   "outputs": [],
   "source": [
    "def legend(pos=\"bottom\",ncol=3,extra=False):\n",
    "    if pos==\"bottom\":\n",
    "        extra = 0.15 if extra else 0\n",
    "        plt.legend(bbox_to_anchor=(0.5,-0.2-extra), loc='upper center',facecolor=\"lightgray\",ncol=ncol)\n",
    "    elif pos==\"side\":\n",
    "        plt.legend(bbox_to_anchor=(1.1,0.5), loc='center left',facecolor=\"lightgray\",ncol=1)"
   ]
  },
  {
   "cell_type": "code",
   "execution_count": 5,
   "id": "11a14dbb",
   "metadata": {
    "colab": {
     "base_uri": "https://localhost:8080/",
     "height": 461
    },
    "id": "11a14dbb",
    "outputId": "872b6aee-ec6f-4ce5-a83b-548f128f9ccf",
    "scrolled": false
   },
   "outputs": [
    {
     "name": "stdout",
     "output_type": "stream",
     "text": [
      "(625, 5)\n"
     ]
    },
    {
     "data": {
      "text/html": [
       "<div>\n",
       "<style scoped>\n",
       "    .dataframe tbody tr th:only-of-type {\n",
       "        vertical-align: middle;\n",
       "    }\n",
       "\n",
       "    .dataframe tbody tr th {\n",
       "        vertical-align: top;\n",
       "    }\n",
       "\n",
       "    .dataframe thead th {\n",
       "        text-align: right;\n",
       "    }\n",
       "</style>\n",
       "<table border=\"1\" class=\"dataframe\">\n",
       "  <thead>\n",
       "    <tr style=\"text-align: right;\">\n",
       "      <th></th>\n",
       "      <th>legislator_district</th>\n",
       "      <th>district</th>\n",
       "      <th>village</th>\n",
       "      <th>DPP</th>\n",
       "      <th>KMT</th>\n",
       "    </tr>\n",
       "  </thead>\n",
       "  <tbody>\n",
       "    <tr>\n",
       "      <th>0</th>\n",
       "      <td>1</td>\n",
       "      <td>大甲區</td>\n",
       "      <td>朝陽里</td>\n",
       "      <td>620</td>\n",
       "      <td>301</td>\n",
       "    </tr>\n",
       "    <tr>\n",
       "      <th>1</th>\n",
       "      <td>1</td>\n",
       "      <td>大甲區</td>\n",
       "      <td>大甲里</td>\n",
       "      <td>492</td>\n",
       "      <td>219</td>\n",
       "    </tr>\n",
       "    <tr>\n",
       "      <th>2</th>\n",
       "      <td>1</td>\n",
       "      <td>大甲區</td>\n",
       "      <td>順天里</td>\n",
       "      <td>755</td>\n",
       "      <td>341</td>\n",
       "    </tr>\n",
       "    <tr>\n",
       "      <th>3</th>\n",
       "      <td>1</td>\n",
       "      <td>大甲區</td>\n",
       "      <td>孔門里</td>\n",
       "      <td>311</td>\n",
       "      <td>176</td>\n",
       "    </tr>\n",
       "    <tr>\n",
       "      <th>4</th>\n",
       "      <td>1</td>\n",
       "      <td>大甲區</td>\n",
       "      <td>平安里</td>\n",
       "      <td>977</td>\n",
       "      <td>472</td>\n",
       "    </tr>\n",
       "  </tbody>\n",
       "</table>\n",
       "</div>"
      ],
      "text/plain": [
       "   legislator_district district village  DPP  KMT\n",
       "0                    1     　大甲區     朝陽里  620  301\n",
       "1                    1     　大甲區     大甲里  492  219\n",
       "2                    1     　大甲區     順天里  755  341\n",
       "3                    1     　大甲區     孔門里  311  176\n",
       "4                    1     　大甲區     平安里  977  472"
      ]
     },
     "execution_count": 5,
     "metadata": {},
     "output_type": "execute_result"
    }
   ],
   "source": [
    "# Try to get local version and then defaults to google drive version\n",
    "# Can open CSV OR Zip file  \n",
    "def get_file(location_pair, names = None, **kwargs):\n",
    "    ## Open zip file\n",
    "    if len(location_pair) == 3:\n",
    "        (loc,zipname,gdrive)=location_pair  \n",
    "        try:\n",
    "            with zipfile.ZipFile(zipname) as z:\n",
    "                with z.open(loc) as f:\n",
    "                    out = pd.read_excel(f)\n",
    "        except FileNotFoundError:\n",
    "            print(\"local file not found; accessing Google Drive\")\n",
    "            zipname = gdrive + zipname\n",
    "            with zipfile.ZipFile(zipname) as z:\n",
    "                with z.open(loc) as f:\n",
    "                    out = pd.read_excel(f, engine='openpyxl')\n",
    "    ## Open xlsx file\n",
    "    elif len(location_pair) == 2:\n",
    "        (loc,gdrive)=location_pair\n",
    "        try:\n",
    "            out= pd.read_excel(loc, engine='openpyxl')\n",
    "        except FileNotFoundError:\n",
    "            print(\"local file not found; accessing Google Drive\")\n",
    "            loc = \"https://docs.google.com/spreadsheets/d/1dognp7WSgiO0zFA0HdTn7AzUl4HEWrEw/edit?usp=share_link&ouid=117434447847034760525&rtpof=true&sd=true\"\n",
    "            out= pd.read_excel(loc)\n",
    "        \n",
    "    return out\n",
    "\n",
    "fname=(\"Taiwan_Taichung_2018_legislator_election_distribution.xlsx\", \"https://drive.google.com/drive/folders/1mNrvxv_t6OrfyhOO023cc5Bi4QPORQLX?usp=share_link\")\n",
    "Taichung = get_file(fname)\n",
    "print(Taichung.shape)\n",
    "Taichung.head()"
   ]
  },
  {
   "cell_type": "code",
   "execution_count": 6,
   "id": "076bb181",
   "metadata": {
    "id": "076bb181",
    "outputId": "86010d3d-8e95-4ead-9b07-1f7532ca6508"
   },
   "outputs": [
    {
     "data": {
      "text/plain": [
       "'\\u3000大甲區'"
      ]
     },
     "execution_count": 6,
     "metadata": {},
     "output_type": "execute_result"
    }
   ],
   "source": [
    "# Need to remove the \\u3000\n",
    "Taichung[\"district\"][0]"
   ]
  },
  {
   "cell_type": "code",
   "execution_count": 7,
   "id": "9ca11917",
   "metadata": {
    "id": "9ca11917"
   },
   "outputs": [],
   "source": [
    "Taichung[\"district\"] = Taichung[\"district\"].apply(lambda x: x[1:])\n",
    "Taichung[\"bias\"] = Taichung[\"DPP\"] - Taichung[\"KMT\"]\n",
    "Taichung[\"sum\"] = Taichung[\"DPP\"] + Taichung[\"KMT\"]"
   ]
  },
  {
   "cell_type": "markdown",
   "id": "369688e4",
   "metadata": {
    "id": "369688e4"
   },
   "source": [
    "## Data preprocessing<a name=\"preprocessing\"></a>"
   ]
  },
  {
   "cell_type": "code",
   "execution_count": 8,
   "id": "d6da087a",
   "metadata": {
    "id": "d6da087a",
    "outputId": "d8574566-41ef-4670-c6f1-f02925055dd9"
   },
   "outputs": [
    {
     "data": {
      "text/html": [
       "<div>\n",
       "<style scoped>\n",
       "    .dataframe tbody tr th:only-of-type {\n",
       "        vertical-align: middle;\n",
       "    }\n",
       "\n",
       "    .dataframe tbody tr th {\n",
       "        vertical-align: top;\n",
       "    }\n",
       "\n",
       "    .dataframe thead th {\n",
       "        text-align: right;\n",
       "    }\n",
       "</style>\n",
       "<table border=\"1\" class=\"dataframe\">\n",
       "  <thead>\n",
       "    <tr style=\"text-align: right;\">\n",
       "      <th></th>\n",
       "      <th>0</th>\n",
       "    </tr>\n",
       "  </thead>\n",
       "  <tbody>\n",
       "    <tr>\n",
       "      <th>legislator_district</th>\n",
       "      <td>0</td>\n",
       "    </tr>\n",
       "    <tr>\n",
       "      <th>district</th>\n",
       "      <td>0</td>\n",
       "    </tr>\n",
       "    <tr>\n",
       "      <th>village</th>\n",
       "      <td>0</td>\n",
       "    </tr>\n",
       "    <tr>\n",
       "      <th>DPP</th>\n",
       "      <td>0</td>\n",
       "    </tr>\n",
       "    <tr>\n",
       "      <th>KMT</th>\n",
       "      <td>0</td>\n",
       "    </tr>\n",
       "    <tr>\n",
       "      <th>bias</th>\n",
       "      <td>0</td>\n",
       "    </tr>\n",
       "    <tr>\n",
       "      <th>sum</th>\n",
       "      <td>0</td>\n",
       "    </tr>\n",
       "  </tbody>\n",
       "</table>\n",
       "</div>"
      ],
      "text/plain": [
       "                     0\n",
       "legislator_district  0\n",
       "district             0\n",
       "village              0\n",
       "DPP                  0\n",
       "KMT                  0\n",
       "bias                 0\n",
       "sum                  0"
      ]
     },
     "execution_count": 8,
     "metadata": {},
     "output_type": "execute_result"
    }
   ],
   "source": [
    "# Check issing data \n",
    "# Will use dropna to remove missing data in the postcode columns; get rid of \"paon\", \"street\", \"locality\" column \n",
    "# because it contains useless information\n",
    "Taichung.isnull().sum().to_frame()"
   ]
  },
  {
   "cell_type": "code",
   "execution_count": 9,
   "id": "18c57463",
   "metadata": {
    "id": "18c57463",
    "outputId": "cd6a4f35-2ab7-44dd-8696-7e6ef1d90fc7"
   },
   "outputs": [
    {
     "data": {
      "text/plain": [
       "Index(['legislator_district', 'district', 'village', 'DPP', 'KMT', 'bias',\n",
       "       'sum'],\n",
       "      dtype='object')"
      ]
     },
     "execution_count": 9,
     "metadata": {},
     "output_type": "execute_result"
    }
   ],
   "source": [
    "## Check dataframe's keys()\n",
    "Taichung.keys()"
   ]
  },
  {
   "cell_type": "code",
   "execution_count": 10,
   "id": "281de3ea",
   "metadata": {
    "id": "281de3ea",
    "outputId": "45983b11-1fa5-4ca3-dfb5-20e0c1e33173",
    "scrolled": true
   },
   "outputs": [
    {
     "name": "stdout",
     "output_type": "stream",
     "text": [
      "<class 'pandas.core.frame.DataFrame'>\n",
      "RangeIndex: 625 entries, 0 to 624\n",
      "Data columns (total 7 columns):\n",
      " #   Column               Non-Null Count  Dtype \n",
      "---  ------               --------------  ----- \n",
      " 0   legislator_district  625 non-null    int64 \n",
      " 1   district             625 non-null    object\n",
      " 2   village              625 non-null    object\n",
      " 3   DPP                  625 non-null    int64 \n",
      " 4   KMT                  625 non-null    int64 \n",
      " 5   bias                 625 non-null    int64 \n",
      " 6   sum                  625 non-null    int64 \n",
      "dtypes: int64(5), object(2)\n",
      "memory usage: 34.3+ KB\n"
     ]
    }
   ],
   "source": [
    "Taichung.info()"
   ]
  },
  {
   "cell_type": "code",
   "execution_count": 11,
   "id": "f22a2645",
   "metadata": {
    "id": "f22a2645",
    "outputId": "ba007833-0ed4-44b5-83b8-64953da417af"
   },
   "outputs": [
    {
     "name": "stdout",
     "output_type": "stream",
     "text": [
      "<class 'pandas.core.frame.DataFrame'>\n",
      "RangeIndex: 625 entries, 0 to 624\n",
      "Data columns (total 7 columns):\n",
      " #   Column               Non-Null Count  Dtype \n",
      "---  ------               --------------  ----- \n",
      " 0   legislator_district  625 non-null    object\n",
      " 1   district             625 non-null    object\n",
      " 2   village              625 non-null    object\n",
      " 3   DPP                  625 non-null    int64 \n",
      " 4   KMT                  625 non-null    int64 \n",
      " 5   bias                 625 non-null    int64 \n",
      " 6   sum                  625 non-null    int64 \n",
      "dtypes: int64(4), object(3)\n",
      "memory usage: 34.3+ KB\n"
     ]
    }
   ],
   "source": [
    "Taichung[\"legislator_district\"] = Taichung[\"legislator_district\"].astype(str)\n",
    "Taichung.info()"
   ]
  },
  {
   "cell_type": "code",
   "execution_count": 12,
   "id": "8dbee9df",
   "metadata": {
    "id": "8dbee9df",
    "outputId": "7fdf319f-0500-4f3b-8923-d21348bba543",
    "scrolled": true
   },
   "outputs": [
    {
     "name": "stdout",
     "output_type": "stream",
     "text": [
      "Extract \u001b[1m\u001b[91mTaichung_by_legislator_district\u001b[0m from the Pickle folder.\n",
      "\n",
      "Get Taichung_by_legislator_district file \u001b[1m\u001b[94mready\u001b[0m.\n",
      "\n"
     ]
    },
    {
     "data": {
      "text/html": [
       "<div>\n",
       "<style scoped>\n",
       "    .dataframe tbody tr th:only-of-type {\n",
       "        vertical-align: middle;\n",
       "    }\n",
       "\n",
       "    .dataframe tbody tr th {\n",
       "        vertical-align: top;\n",
       "    }\n",
       "\n",
       "    .dataframe thead th {\n",
       "        text-align: right;\n",
       "    }\n",
       "</style>\n",
       "<table border=\"1\" class=\"dataframe\">\n",
       "  <thead>\n",
       "    <tr style=\"text-align: right;\">\n",
       "      <th></th>\n",
       "      <th>legislator_district</th>\n",
       "      <th>DPP</th>\n",
       "      <th>KMT</th>\n",
       "      <th>bias</th>\n",
       "      <th>sum</th>\n",
       "    </tr>\n",
       "  </thead>\n",
       "  <tbody>\n",
       "    <tr>\n",
       "      <th>0</th>\n",
       "      <td>1</td>\n",
       "      <td>106376</td>\n",
       "      <td>47050</td>\n",
       "      <td>59326</td>\n",
       "      <td>153426</td>\n",
       "    </tr>\n",
       "    <tr>\n",
       "      <th>1</th>\n",
       "      <td>2</td>\n",
       "      <td>112839</td>\n",
       "      <td>107766</td>\n",
       "      <td>5073</td>\n",
       "      <td>220605</td>\n",
       "    </tr>\n",
       "    <tr>\n",
       "      <th>2</th>\n",
       "      <td>3</td>\n",
       "      <td>90213</td>\n",
       "      <td>91182</td>\n",
       "      <td>-969</td>\n",
       "      <td>181395</td>\n",
       "    </tr>\n",
       "    <tr>\n",
       "      <th>3</th>\n",
       "      <td>4</td>\n",
       "      <td>119886</td>\n",
       "      <td>96460</td>\n",
       "      <td>23426</td>\n",
       "      <td>216346</td>\n",
       "    </tr>\n",
       "    <tr>\n",
       "      <th>4</th>\n",
       "      <td>5</td>\n",
       "      <td>114738</td>\n",
       "      <td>109466</td>\n",
       "      <td>5272</td>\n",
       "      <td>224204</td>\n",
       "    </tr>\n",
       "  </tbody>\n",
       "</table>\n",
       "</div>"
      ],
      "text/plain": [
       "  legislator_district     DPP     KMT   bias     sum\n",
       "0                   1  106376   47050  59326  153426\n",
       "1                   2  112839  107766   5073  220605\n",
       "2                   3   90213   91182   -969  181395\n",
       "3                   4  119886   96460  23426  216346\n",
       "4                   5  114738  109466   5272  224204"
      ]
     },
     "execution_count": 12,
     "metadata": {},
     "output_type": "execute_result"
    }
   ],
   "source": [
    "# Get Taichung_by_legislator_district aggregation\n",
    "try:\n",
    "    print(\"Extract \\033[1m\\033[91mTaichung_by_legislator_district\\033[0m from the Pickle folder.\\n\")\n",
    "    Taichung_by_legislator_district = pd.read_pickle(\"Pickle/Taichung_by_legislator_district.pkl\")\n",
    "except FileNotFoundError:\n",
    "    print(\"\\033[1m\\033[91mDid not\\033[0m find the file from pickle file. Extract data from the aggregation.\\n\")\n",
    "    \n",
    "    Taichung_by_legislator_district = Taichung.groupby(\"legislator_district\").sum()\n",
    "    Taichung_by_legislator_district = Taichung_by_legislator_district.reset_index()\n",
    "    \n",
    "    Taichung_by_legislator_district.to_pickle(\"Pickle/Taichung_by_legislator_district.pkl\") \n",
    "\n",
    "print(\"Get Taichung_by_legislator_district file \\033[1m\\033[94mready\\033[0m.\\n\")\n",
    "Taichung_by_legislator_district.head()"
   ]
  },
  {
   "cell_type": "code",
   "execution_count": 13,
   "id": "ef01c032",
   "metadata": {
    "id": "ef01c032",
    "outputId": "2acecaa1-2cc9-4cfe-e0a5-d15bd7b33e67",
    "scrolled": false
   },
   "outputs": [
    {
     "name": "stdout",
     "output_type": "stream",
     "text": [
      "Extract \u001b[1m\u001b[91mTaichung_by_district file \u001b[0m from the pickle folder.\n",
      "Get Taichung_by_district file \u001b[1m\u001b[94mready\u001b[0m.\n"
     ]
    },
    {
     "data": {
      "text/html": [
       "<div>\n",
       "<style scoped>\n",
       "    .dataframe tbody tr th:only-of-type {\n",
       "        vertical-align: middle;\n",
       "    }\n",
       "\n",
       "    .dataframe tbody tr th {\n",
       "        vertical-align: top;\n",
       "    }\n",
       "\n",
       "    .dataframe thead th {\n",
       "        text-align: right;\n",
       "    }\n",
       "</style>\n",
       "<table border=\"1\" class=\"dataframe\">\n",
       "  <thead>\n",
       "    <tr style=\"text-align: right;\">\n",
       "      <th></th>\n",
       "      <th>node</th>\n",
       "      <th>district</th>\n",
       "      <th>DPP</th>\n",
       "      <th>KMT</th>\n",
       "      <th>bias</th>\n",
       "      <th>sum</th>\n",
       "      <th>legislator_district</th>\n",
       "    </tr>\n",
       "  </thead>\n",
       "  <tbody>\n",
       "    <tr>\n",
       "      <th>0</th>\n",
       "      <td>0</td>\n",
       "      <td>中區</td>\n",
       "      <td>5617</td>\n",
       "      <td>3842</td>\n",
       "      <td>1775</td>\n",
       "      <td>9459</td>\n",
       "      <td>6</td>\n",
       "    </tr>\n",
       "    <tr>\n",
       "      <th>1</th>\n",
       "      <td>1</td>\n",
       "      <td>北區</td>\n",
       "      <td>39514</td>\n",
       "      <td>38272</td>\n",
       "      <td>1242</td>\n",
       "      <td>77786</td>\n",
       "      <td>5</td>\n",
       "    </tr>\n",
       "    <tr>\n",
       "      <th>2</th>\n",
       "      <td>2</td>\n",
       "      <td>北屯區</td>\n",
       "      <td>75224</td>\n",
       "      <td>71194</td>\n",
       "      <td>4030</td>\n",
       "      <td>146418</td>\n",
       "      <td>5</td>\n",
       "    </tr>\n",
       "    <tr>\n",
       "      <th>3</th>\n",
       "      <td>3</td>\n",
       "      <td>南區</td>\n",
       "      <td>41568</td>\n",
       "      <td>31519</td>\n",
       "      <td>10049</td>\n",
       "      <td>73087</td>\n",
       "      <td>6</td>\n",
       "    </tr>\n",
       "    <tr>\n",
       "      <th>4</th>\n",
       "      <td>4</td>\n",
       "      <td>南屯區</td>\n",
       "      <td>52398</td>\n",
       "      <td>39732</td>\n",
       "      <td>12666</td>\n",
       "      <td>92130</td>\n",
       "      <td>4</td>\n",
       "    </tr>\n",
       "  </tbody>\n",
       "</table>\n",
       "</div>"
      ],
      "text/plain": [
       "   node district    DPP    KMT   bias     sum legislator_district\n",
       "0     0       中區   5617   3842   1775    9459                   6\n",
       "1     1       北區  39514  38272   1242   77786                   5\n",
       "2     2      北屯區  75224  71194   4030  146418                   5\n",
       "3     3       南區  41568  31519  10049   73087                   6\n",
       "4     4      南屯區  52398  39732  12666   92130                   4"
      ]
     },
     "execution_count": 13,
     "metadata": {},
     "output_type": "execute_result"
    }
   ],
   "source": [
    "# Get Taichung_by_legislator_district aggregation\n",
    "try:\n",
    "    print(\"Extract \\033[1m\\033[91mTaichung_by_district file \\033[0m from the pickle folder.\")\n",
    "    Taichung_by_district = pd.read_pickle(\"Pickle/Taichung_by_district.pkl\")\n",
    "except FileNotFoundError:\n",
    "    print(\"\\033[1m\\033[91mDid not\\033[0m find the file from pickle file. Extract data from the aggregation.\")\n",
    "    \n",
    "    Taichung_by_district = Taichung.groupby(\"district\").sum()\n",
    "    Taichung_by_district = Taichung_by_district.reset_index()\n",
    "    Taichung_by_district = Taichung_by_district.rename_axis('node').reset_index()\n",
    "    Taichung_by_district = pd.merge(Taichung_by_district, Taichung.iloc[:,0:2].drop_duplicates(), on = \"district\", how = \"left\")\n",
    "    \n",
    "    Taichung_by_district.to_pickle(\"Pickle/Taichung_by_district.pkl\") \n",
    "\n",
    "print(\"Get Taichung_by_district file \\033[1m\\033[94mready\\033[0m.\")\n",
    "Taichung_by_district.head()"
   ]
  },
  {
   "cell_type": "code",
   "execution_count": 14,
   "id": "-XnQ_nmJvWw3",
   "metadata": {
    "id": "-XnQ_nmJvWw3"
   },
   "outputs": [
    {
     "data": {
      "text/html": [
       "<div>\n",
       "<style scoped>\n",
       "    .dataframe tbody tr th:only-of-type {\n",
       "        vertical-align: middle;\n",
       "    }\n",
       "\n",
       "    .dataframe tbody tr th {\n",
       "        vertical-align: top;\n",
       "    }\n",
       "\n",
       "    .dataframe thead th {\n",
       "        text-align: right;\n",
       "    }\n",
       "</style>\n",
       "<table border=\"1\" class=\"dataframe\">\n",
       "  <thead>\n",
       "    <tr style=\"text-align: right;\">\n",
       "      <th></th>\n",
       "      <th>node</th>\n",
       "      <th>district</th>\n",
       "      <th>DPP</th>\n",
       "      <th>KMT</th>\n",
       "      <th>bias</th>\n",
       "      <th>sum</th>\n",
       "      <th>legislator_district</th>\n",
       "    </tr>\n",
       "  </thead>\n",
       "  <tbody>\n",
       "    <tr>\n",
       "      <th>0</th>\n",
       "      <td>0</td>\n",
       "      <td>中區</td>\n",
       "      <td>5617</td>\n",
       "      <td>3842</td>\n",
       "      <td>1775</td>\n",
       "      <td>9459</td>\n",
       "      <td>6</td>\n",
       "    </tr>\n",
       "    <tr>\n",
       "      <th>1</th>\n",
       "      <td>1</td>\n",
       "      <td>北區</td>\n",
       "      <td>39514</td>\n",
       "      <td>38272</td>\n",
       "      <td>1242</td>\n",
       "      <td>77786</td>\n",
       "      <td>5</td>\n",
       "    </tr>\n",
       "    <tr>\n",
       "      <th>2</th>\n",
       "      <td>2</td>\n",
       "      <td>北屯區</td>\n",
       "      <td>75224</td>\n",
       "      <td>71194</td>\n",
       "      <td>4030</td>\n",
       "      <td>146418</td>\n",
       "      <td>5</td>\n",
       "    </tr>\n",
       "    <tr>\n",
       "      <th>3</th>\n",
       "      <td>3</td>\n",
       "      <td>南區</td>\n",
       "      <td>41568</td>\n",
       "      <td>31519</td>\n",
       "      <td>10049</td>\n",
       "      <td>73087</td>\n",
       "      <td>6</td>\n",
       "    </tr>\n",
       "    <tr>\n",
       "      <th>4</th>\n",
       "      <td>4</td>\n",
       "      <td>南屯區</td>\n",
       "      <td>52398</td>\n",
       "      <td>39732</td>\n",
       "      <td>12666</td>\n",
       "      <td>92130</td>\n",
       "      <td>4</td>\n",
       "    </tr>\n",
       "  </tbody>\n",
       "</table>\n",
       "</div>"
      ],
      "text/plain": [
       "   node district    DPP    KMT   bias     sum legislator_district\n",
       "0     0       中區   5617   3842   1775    9459                   6\n",
       "1     1       北區  39514  38272   1242   77786                   5\n",
       "2     2      北屯區  75224  71194   4030  146418                   5\n",
       "3     3       南區  41568  31519  10049   73087                   6\n",
       "4     4      南屯區  52398  39732  12666   92130                   4"
      ]
     },
     "execution_count": 14,
     "metadata": {},
     "output_type": "execute_result"
    }
   ],
   "source": [
    "Taichung_by_district.head()"
   ]
  },
  {
   "cell_type": "code",
   "execution_count": 15,
   "id": "uOUZ8B5iveRH",
   "metadata": {
    "id": "uOUZ8B5iveRH"
   },
   "outputs": [],
   "source": [
    "translation = {}\n",
    "for i in range(Taichung_by_district.shape[0]):\n",
    "  translation[Taichung_by_district[\"district\"][i]] = \"\""
   ]
  },
  {
   "cell_type": "code",
   "execution_count": 16,
   "id": "ks5Kw8ievgwW",
   "metadata": {
    "id": "ks5Kw8ievgwW"
   },
   "outputs": [
    {
     "name": "stdout",
     "output_type": "stream",
     "text": [
      "{'中區': '', '北區': '', '北屯區': '', '南區': '', '南屯區': '', '后里區': '', '和平區': '', '外埔區': '', '大安區': '', '大甲區': '', '大肚區': '', '大里區': '', '大雅區': '', '太平區': '', '新社區': '', '東勢區': '', '東區': '', '梧棲區': '', '沙鹿區': '', '清水區': '', '潭子區': '', '烏日區': '', '石岡區': '', '神岡區': '', '西區': '', '西屯區': '', '豐原區': '', '霧峰區': '', '龍井區': ''}\n"
     ]
    }
   ],
   "source": [
    "print(translation)"
   ]
  },
  {
   "cell_type": "code",
   "execution_count": 17,
   "id": "6ind-N54via1",
   "metadata": {
    "id": "6ind-N54via1"
   },
   "outputs": [],
   "source": [
    "translation2 = {'中區': 'Central Dist.', '北區': 'North Dist.', '北屯區': 'Beitun Dist.', '南區': 'South Dist.', '南屯區': 'Nantun Dist.', '后里區': 'Houli Dist.', '和平區': 'Heping Dist.', '外埔區': 'Waipu Dist.', '大安區': 'Daan Dist.', '大甲區': 'Dajia Dist.', '大肚區': 'Dadu Dist.', '大里區': 'Dali Dist.', '大雅區': 'Daya Dist.', '太平區': 'Taiping Dist.', '新社區': 'Xinshe Dist.', '東勢區': 'Dongshi Dist.', '東區': 'East Dist.', '梧棲區': 'Wuqi Dist.', '沙鹿區': 'Shalu Dist.', '清水區': 'Qingshui Dist.', '潭子區': 'Tanzi Dist.', '烏日區': 'Wuri Dist.', '石岡區': 'Shigang Dist.', '神岡區': 'Shengang Dist.', '西區': 'West Dist.', '西屯區': 'Xitun Dist.', '豐原區': 'Fongyuan Dist.', '霧峰區': 'WuFong Dist.', '龍井區': 'Longjing Dist.'}"
   ]
  },
  {
   "cell_type": "code",
   "execution_count": 18,
   "id": "Y2UpOE-YvlaK",
   "metadata": {
    "id": "Y2UpOE-YvlaK"
   },
   "outputs": [
    {
     "name": "stdout",
     "output_type": "stream",
     "text": [
      "{'中區': 'Central Dist.', '北區': 'North Dist.', '北屯區': 'Beitun Dist.', '南區': 'South Dist.', '南屯區': 'Nantun Dist.', '后里區': 'Houli Dist.', '和平區': 'Heping Dist.', '外埔區': 'Waipu Dist.', '大安區': 'Daan Dist.', '大甲區': 'Dajia Dist.', '大肚區': 'Dadu Dist.', '大里區': 'Dali Dist.', '大雅區': 'Daya Dist.', '太平區': 'Taiping Dist.', '新社區': 'Xinshe Dist.', '東勢區': 'Dongshi Dist.', '東區': 'East Dist.', '梧棲區': 'Wuqi Dist.', '沙鹿區': 'Shalu Dist.', '清水區': 'Qingshui Dist.', '潭子區': 'Tanzi Dist.', '烏日區': 'Wuri Dist.', '石岡區': 'Shigang Dist.', '神岡區': 'Shengang Dist.', '西區': 'West Dist.', '西屯區': 'Xitun Dist.', '豐原區': 'Fongyuan Dist.', '霧峰區': 'WuFong Dist.', '龍井區': 'Longjing Dist.'}\n"
     ]
    }
   ],
   "source": [
    "print(translation2)"
   ]
  },
  {
   "cell_type": "code",
   "execution_count": 19,
   "id": "Wr8S2MPlvpLX",
   "metadata": {
    "id": "Wr8S2MPlvpLX"
   },
   "outputs": [
    {
     "name": "stdout",
     "output_type": "stream",
     "text": [
      "Central Dist.\n",
      "North Dist.\n",
      "Beitun Dist.\n",
      "South Dist.\n",
      "Nantun Dist.\n",
      "Houli Dist.\n",
      "Heping Dist.\n",
      "Waipu Dist.\n",
      "Daan Dist.\n",
      "Dajia Dist.\n",
      "Dadu Dist.\n",
      "Dali Dist.\n",
      "Daya Dist.\n",
      "Taiping Dist.\n",
      "Xinshe Dist.\n",
      "Dongshi Dist.\n",
      "East Dist.\n",
      "Wuqi Dist.\n",
      "Shalu Dist.\n",
      "Qingshui Dist.\n",
      "Tanzi Dist.\n",
      "Wuri Dist.\n",
      "Shigang Dist.\n",
      "Shengang Dist.\n",
      "West Dist.\n",
      "Xitun Dist.\n",
      "Fongyuan Dist.\n",
      "WuFong Dist.\n",
      "Longjing Dist.\n"
     ]
    }
   ],
   "source": [
    "for i in range(Taichung_by_district.shape[0]):\n",
    "    print(translation2[Taichung_by_district[\"district\"][i]])"
   ]
  },
  {
   "cell_type": "code",
   "execution_count": 24,
   "id": "09f1c836",
   "metadata": {},
   "outputs": [
    {
     "data": {
      "text/plain": [
       "{'中區': 'Central Dist.',\n",
       " '北區': 'North Dist.',\n",
       " '北屯區': 'Beitun Dist.',\n",
       " '南區': 'South Dist.',\n",
       " '南屯區': 'Nantun Dist.',\n",
       " '后里區': 'Houli Dist.',\n",
       " '和平區': 'Heping Dist.',\n",
       " '外埔區': 'Waipu Dist.',\n",
       " '大安區': 'Daan Dist.',\n",
       " '大甲區': 'Dajia Dist.',\n",
       " '大肚區': 'Dadu Dist.',\n",
       " '大里區': 'Dali Dist.',\n",
       " '大雅區': 'Daya Dist.',\n",
       " '太平區': 'Taiping Dist.',\n",
       " '新社區': 'Xinshe Dist.',\n",
       " '東勢區': 'Dongshi Dist.',\n",
       " '東區': 'East Dist.',\n",
       " '梧棲區': 'Wuqi Dist.',\n",
       " '沙鹿區': 'Shalu Dist.',\n",
       " '清水區': 'Qingshui Dist.',\n",
       " '潭子區': 'Tanzi Dist.',\n",
       " '烏日區': 'Wuri Dist.',\n",
       " '石岡區': 'Shigang Dist.',\n",
       " '神岡區': 'Shengang Dist.',\n",
       " '西區': 'West Dist.',\n",
       " '西屯區': 'Xitun Dist.',\n",
       " '豐原區': 'Fongyuan Dist.',\n",
       " '霧峰區': 'WuFong Dist.',\n",
       " '龍井區': 'Longjing Dist.'}"
      ]
     },
     "execution_count": 24,
     "metadata": {},
     "output_type": "execute_result"
    }
   ],
   "source": [
    "translation2"
   ]
  },
  {
   "cell_type": "code",
   "execution_count": null,
   "id": "fdbec0da",
   "metadata": {},
   "outputs": [],
   "source": [
    "Taichung_by_district[\"district\"][i]"
   ]
  },
  {
   "cell_type": "code",
   "execution_count": 23,
   "id": "k8N_bxQLvpoN",
   "metadata": {
    "id": "k8N_bxQLvpoN"
   },
   "outputs": [
    {
     "ename": "KeyError",
     "evalue": "'translation'",
     "output_type": "error",
     "traceback": [
      "\u001b[1;31m---------------------------------------------------------------------------\u001b[0m",
      "\u001b[1;31mKeyError\u001b[0m                                  Traceback (most recent call last)",
      "File \u001b[1;32m~\\anaconda3\\lib\\site-packages\\pandas\\core\\indexes\\base.py:3629\u001b[0m, in \u001b[0;36mIndex.get_loc\u001b[1;34m(self, key, method, tolerance)\u001b[0m\n\u001b[0;32m   3628\u001b[0m \u001b[38;5;28;01mtry\u001b[39;00m:\n\u001b[1;32m-> 3629\u001b[0m     \u001b[38;5;28;01mreturn\u001b[39;00m \u001b[38;5;28;43mself\u001b[39;49m\u001b[38;5;241;43m.\u001b[39;49m\u001b[43m_engine\u001b[49m\u001b[38;5;241;43m.\u001b[39;49m\u001b[43mget_loc\u001b[49m\u001b[43m(\u001b[49m\u001b[43mcasted_key\u001b[49m\u001b[43m)\u001b[49m\n\u001b[0;32m   3630\u001b[0m \u001b[38;5;28;01mexcept\u001b[39;00m \u001b[38;5;167;01mKeyError\u001b[39;00m \u001b[38;5;28;01mas\u001b[39;00m err:\n",
      "File \u001b[1;32m~\\anaconda3\\lib\\site-packages\\pandas\\_libs\\index.pyx:136\u001b[0m, in \u001b[0;36mpandas._libs.index.IndexEngine.get_loc\u001b[1;34m()\u001b[0m\n",
      "File \u001b[1;32m~\\anaconda3\\lib\\site-packages\\pandas\\_libs\\index.pyx:163\u001b[0m, in \u001b[0;36mpandas._libs.index.IndexEngine.get_loc\u001b[1;34m()\u001b[0m\n",
      "File \u001b[1;32mpandas\\_libs\\hashtable_class_helper.pxi:5198\u001b[0m, in \u001b[0;36mpandas._libs.hashtable.PyObjectHashTable.get_item\u001b[1;34m()\u001b[0m\n",
      "File \u001b[1;32mpandas\\_libs\\hashtable_class_helper.pxi:5206\u001b[0m, in \u001b[0;36mpandas._libs.hashtable.PyObjectHashTable.get_item\u001b[1;34m()\u001b[0m\n",
      "\u001b[1;31mKeyError\u001b[0m: 'translation'",
      "\nThe above exception was the direct cause of the following exception:\n",
      "\u001b[1;31mKeyError\u001b[0m                                  Traceback (most recent call last)",
      "Cell \u001b[1;32mIn [23], line 2\u001b[0m\n\u001b[0;32m      1\u001b[0m \u001b[38;5;28;01mfor\u001b[39;00m i \u001b[38;5;129;01min\u001b[39;00m \u001b[38;5;28mrange\u001b[39m(Taichung_by_district\u001b[38;5;241m.\u001b[39mshape[\u001b[38;5;241m0\u001b[39m]):\n\u001b[1;32m----> 2\u001b[0m     \u001b[43mTaichung_by_district\u001b[49m\u001b[43m[\u001b[49m\u001b[38;5;124;43m\"\u001b[39;49m\u001b[38;5;124;43mtranslation\u001b[39;49m\u001b[38;5;124;43m\"\u001b[39;49m\u001b[43m]\u001b[49m[i] \u001b[38;5;241m=\u001b[39m translation2[Taichung_by_district[\u001b[38;5;124m\"\u001b[39m\u001b[38;5;124mdistrict\u001b[39m\u001b[38;5;124m\"\u001b[39m][i]]\n",
      "File \u001b[1;32m~\\anaconda3\\lib\\site-packages\\pandas\\core\\frame.py:3505\u001b[0m, in \u001b[0;36mDataFrame.__getitem__\u001b[1;34m(self, key)\u001b[0m\n\u001b[0;32m   3503\u001b[0m \u001b[38;5;28;01mif\u001b[39;00m \u001b[38;5;28mself\u001b[39m\u001b[38;5;241m.\u001b[39mcolumns\u001b[38;5;241m.\u001b[39mnlevels \u001b[38;5;241m>\u001b[39m \u001b[38;5;241m1\u001b[39m:\n\u001b[0;32m   3504\u001b[0m     \u001b[38;5;28;01mreturn\u001b[39;00m \u001b[38;5;28mself\u001b[39m\u001b[38;5;241m.\u001b[39m_getitem_multilevel(key)\n\u001b[1;32m-> 3505\u001b[0m indexer \u001b[38;5;241m=\u001b[39m \u001b[38;5;28;43mself\u001b[39;49m\u001b[38;5;241;43m.\u001b[39;49m\u001b[43mcolumns\u001b[49m\u001b[38;5;241;43m.\u001b[39;49m\u001b[43mget_loc\u001b[49m\u001b[43m(\u001b[49m\u001b[43mkey\u001b[49m\u001b[43m)\u001b[49m\n\u001b[0;32m   3506\u001b[0m \u001b[38;5;28;01mif\u001b[39;00m is_integer(indexer):\n\u001b[0;32m   3507\u001b[0m     indexer \u001b[38;5;241m=\u001b[39m [indexer]\n",
      "File \u001b[1;32m~\\anaconda3\\lib\\site-packages\\pandas\\core\\indexes\\base.py:3631\u001b[0m, in \u001b[0;36mIndex.get_loc\u001b[1;34m(self, key, method, tolerance)\u001b[0m\n\u001b[0;32m   3629\u001b[0m     \u001b[38;5;28;01mreturn\u001b[39;00m \u001b[38;5;28mself\u001b[39m\u001b[38;5;241m.\u001b[39m_engine\u001b[38;5;241m.\u001b[39mget_loc(casted_key)\n\u001b[0;32m   3630\u001b[0m \u001b[38;5;28;01mexcept\u001b[39;00m \u001b[38;5;167;01mKeyError\u001b[39;00m \u001b[38;5;28;01mas\u001b[39;00m err:\n\u001b[1;32m-> 3631\u001b[0m     \u001b[38;5;28;01mraise\u001b[39;00m \u001b[38;5;167;01mKeyError\u001b[39;00m(key) \u001b[38;5;28;01mfrom\u001b[39;00m \u001b[38;5;21;01merr\u001b[39;00m\n\u001b[0;32m   3632\u001b[0m \u001b[38;5;28;01mexcept\u001b[39;00m \u001b[38;5;167;01mTypeError\u001b[39;00m:\n\u001b[0;32m   3633\u001b[0m     \u001b[38;5;66;03m# If we have a listlike key, _check_indexing_error will raise\u001b[39;00m\n\u001b[0;32m   3634\u001b[0m     \u001b[38;5;66;03m#  InvalidIndexError. Otherwise we fall through and re-raise\u001b[39;00m\n\u001b[0;32m   3635\u001b[0m     \u001b[38;5;66;03m#  the TypeError.\u001b[39;00m\n\u001b[0;32m   3636\u001b[0m     \u001b[38;5;28mself\u001b[39m\u001b[38;5;241m.\u001b[39m_check_indexing_error(key)\n",
      "\u001b[1;31mKeyError\u001b[0m: 'translation'"
     ]
    }
   ],
   "source": [
    "for i in range(Taichung_by_district.shape[0]):\n",
    "    Taichung_by_district[\"translation\"][i] = translation2[Taichung_by_district[\"district\"][i]]"
   ]
  },
  {
   "cell_type": "markdown",
   "id": "8eb49358",
   "metadata": {
    "id": "tMcsESVfvrRa"
   },
   "source": [
    "!pip install folium"
   ]
  },
  {
   "cell_type": "code",
   "execution_count": 21,
   "id": "1c3d5485",
   "metadata": {
    "id": "1c3d5485",
    "outputId": "2b101c40-6349-498a-d4d0-9595770502d7",
    "scrolled": false
   },
   "outputs": [
    {
     "name": "stdout",
     "output_type": "stream",
     "text": [
      "Check if Geo_json_file folder exists \u001b[1m\u001b[91mTaichung_json.json file\u001b[0m.\n",
      "\u001b[1m\u001b[94mHave found\u001b[0m Taichung_json.json file.\n",
      "Get Taichung_json.json file \u001b[1m\u001b[94mready\u001b[0m.\n"
     ]
    }
   ],
   "source": [
    "# First, I have downloaded geojson file from https://github.com/missinglink/uk-postcode-polygons/tree/master/geojson\n",
    "# But I should merge multi geojson files to one file for map drawing.\n",
    "# Instruction from https://blog.csdn.net/Ssbusbusbsubs/article/details/114855353 to merge json files\n",
    "import glob\n",
    "import json\n",
    "import folium\n",
    "\n",
    "try:\n",
    "    print(\"Check if Geo_json_file folder exists \\033[1m\\033[91mTaichung_json.json file\\033[0m.\")\n",
    "    Taichung_json = json.load(open(\"Geo_json_file/Taichung_json.json\", \"r\"))\n",
    "    print(\"\\033[1m\\033[94mHave found\\033[0m Taichung_json.json file.\")\n",
    "except FileNotFoundError:\n",
    "    print(\"\\033[1m\\033[91mDid not\\033[0m find Taichung_json.json file. Extract Taichung json file from \\033[1m\\033[95mTaiwan-village-boundaries.json\\033[0m\")\n",
    "    Taiwan_geojson = json.load(open(\"Geo_json_file/Taiwan-village-boundaries.json\", \"r\"))\n",
    "    Taichung_json = Taiwan_geojson.copy()\n",
    "    Taichung_json[\"features\"] = []\n",
    "    for i in range(len(Taiwan_geojson[\"features\"])):\n",
    "        if Taiwan_geojson[\"features\"][i][\"properties\"][\"C_Name\"] == \"臺中市\":\n",
    "            Taichung_json[\"features\"].append(Taiwan_geojson[\"features\"][i])\n",
    "            \n",
    "    # Output the combination of Taichung_json.json file.            \n",
    "    with open(\"Geo_json_file/Taichung_json.json\", \"w\", encoding = \"utf-8\") as outfile:\n",
    "        json.dump(Taichung_json, outfile, ensure_ascii = False)\n",
    "\n",
    "print(\"Get Taichung_json.json file \\033[1m\\033[94mready\\033[0m.\")"
   ]
  },
  {
   "cell_type": "code",
   "execution_count": 22,
   "id": "fc7ee35b",
   "metadata": {
    "id": "fc7ee35b",
    "outputId": "fa0329c1-aec5-4a4b-d03e-a3cb0bdcd9a1"
   },
   "outputs": [
    {
     "ename": "KeyError",
     "evalue": "'translation'",
     "output_type": "error",
     "traceback": [
      "\u001b[1;31m---------------------------------------------------------------------------\u001b[0m",
      "\u001b[1;31mKeyError\u001b[0m                                  Traceback (most recent call last)",
      "File \u001b[1;32m~\\anaconda3\\lib\\site-packages\\pandas\\core\\indexes\\base.py:3629\u001b[0m, in \u001b[0;36mIndex.get_loc\u001b[1;34m(self, key, method, tolerance)\u001b[0m\n\u001b[0;32m   3628\u001b[0m \u001b[38;5;28;01mtry\u001b[39;00m:\n\u001b[1;32m-> 3629\u001b[0m     \u001b[38;5;28;01mreturn\u001b[39;00m \u001b[38;5;28;43mself\u001b[39;49m\u001b[38;5;241;43m.\u001b[39;49m\u001b[43m_engine\u001b[49m\u001b[38;5;241;43m.\u001b[39;49m\u001b[43mget_loc\u001b[49m\u001b[43m(\u001b[49m\u001b[43mcasted_key\u001b[49m\u001b[43m)\u001b[49m\n\u001b[0;32m   3630\u001b[0m \u001b[38;5;28;01mexcept\u001b[39;00m \u001b[38;5;167;01mKeyError\u001b[39;00m \u001b[38;5;28;01mas\u001b[39;00m err:\n",
      "File \u001b[1;32m~\\anaconda3\\lib\\site-packages\\pandas\\_libs\\index.pyx:136\u001b[0m, in \u001b[0;36mpandas._libs.index.IndexEngine.get_loc\u001b[1;34m()\u001b[0m\n",
      "File \u001b[1;32m~\\anaconda3\\lib\\site-packages\\pandas\\_libs\\index.pyx:163\u001b[0m, in \u001b[0;36mpandas._libs.index.IndexEngine.get_loc\u001b[1;34m()\u001b[0m\n",
      "File \u001b[1;32mpandas\\_libs\\hashtable_class_helper.pxi:5198\u001b[0m, in \u001b[0;36mpandas._libs.hashtable.PyObjectHashTable.get_item\u001b[1;34m()\u001b[0m\n",
      "File \u001b[1;32mpandas\\_libs\\hashtable_class_helper.pxi:5206\u001b[0m, in \u001b[0;36mpandas._libs.hashtable.PyObjectHashTable.get_item\u001b[1;34m()\u001b[0m\n",
      "\u001b[1;31mKeyError\u001b[0m: 'translation'",
      "\nThe above exception was the direct cause of the following exception:\n",
      "\u001b[1;31mKeyError\u001b[0m                                  Traceback (most recent call last)",
      "Cell \u001b[1;32mIn [22], line 36\u001b[0m\n\u001b[0;32m     34\u001b[0m     s[\u001b[38;5;124m'\u001b[39m\u001b[38;5;124mproperties\u001b[39m\u001b[38;5;124m'\u001b[39m][\u001b[38;5;124m'\u001b[39m\u001b[38;5;124msum\u001b[39m\u001b[38;5;124m'\u001b[39m] \u001b[38;5;241m=\u001b[39m \u001b[38;5;28mstr\u001b[39m(data\u001b[38;5;241m.\u001b[39mloc[s[\u001b[38;5;124m\"\u001b[39m\u001b[38;5;124mproperties\u001b[39m\u001b[38;5;124m\"\u001b[39m][\u001b[38;5;124m\"\u001b[39m\u001b[38;5;124mT_Name\u001b[39m\u001b[38;5;124m\"\u001b[39m], \u001b[38;5;124m'\u001b[39m\u001b[38;5;124msum\u001b[39m\u001b[38;5;124m'\u001b[39m])\n\u001b[0;32m     35\u001b[0m     s[\u001b[38;5;124m'\u001b[39m\u001b[38;5;124mproperties\u001b[39m\u001b[38;5;124m'\u001b[39m][\u001b[38;5;124m'\u001b[39m\u001b[38;5;124mnode\u001b[39m\u001b[38;5;124m'\u001b[39m] \u001b[38;5;241m=\u001b[39m \u001b[38;5;28mstr\u001b[39m(data\u001b[38;5;241m.\u001b[39mloc[s[\u001b[38;5;124m\"\u001b[39m\u001b[38;5;124mproperties\u001b[39m\u001b[38;5;124m\"\u001b[39m][\u001b[38;5;124m\"\u001b[39m\u001b[38;5;124mT_Name\u001b[39m\u001b[38;5;124m\"\u001b[39m], \u001b[38;5;124m'\u001b[39m\u001b[38;5;124mnode\u001b[39m\u001b[38;5;124m'\u001b[39m])\n\u001b[1;32m---> 36\u001b[0m     s[\u001b[38;5;124m'\u001b[39m\u001b[38;5;124mproperties\u001b[39m\u001b[38;5;124m'\u001b[39m][\u001b[38;5;124m'\u001b[39m\u001b[38;5;124mtranslation\u001b[39m\u001b[38;5;124m'\u001b[39m] \u001b[38;5;241m=\u001b[39m \u001b[38;5;28mstr\u001b[39m(\u001b[43mdata\u001b[49m\u001b[38;5;241;43m.\u001b[39;49m\u001b[43mloc\u001b[49m\u001b[43m[\u001b[49m\u001b[43ms\u001b[49m\u001b[43m[\u001b[49m\u001b[38;5;124;43m\"\u001b[39;49m\u001b[38;5;124;43mproperties\u001b[39;49m\u001b[38;5;124;43m\"\u001b[39;49m\u001b[43m]\u001b[49m\u001b[43m[\u001b[49m\u001b[38;5;124;43m\"\u001b[39;49m\u001b[38;5;124;43mT_Name\u001b[39;49m\u001b[38;5;124;43m\"\u001b[39;49m\u001b[43m]\u001b[49m\u001b[43m,\u001b[49m\u001b[43m \u001b[49m\u001b[38;5;124;43m'\u001b[39;49m\u001b[38;5;124;43mtranslation\u001b[39;49m\u001b[38;5;124;43m'\u001b[39;49m\u001b[43m]\u001b[49m)\n\u001b[0;32m     39\u001b[0m \u001b[38;5;66;03m# Add marker\u001b[39;00m\n\u001b[0;32m     40\u001b[0m folium\u001b[38;5;241m.\u001b[39mGeoJsonTooltip([\u001b[38;5;124m'\u001b[39m\u001b[38;5;124mT_Name\u001b[39m\u001b[38;5;124m'\u001b[39m, \u001b[38;5;124m\"\u001b[39m\u001b[38;5;124mnode\u001b[39m\u001b[38;5;124m\"\u001b[39m, \u001b[38;5;124m\"\u001b[39m\u001b[38;5;124msum\u001b[39m\u001b[38;5;124m\"\u001b[39m, \u001b[38;5;124m\"\u001b[39m\u001b[38;5;124mbias\u001b[39m\u001b[38;5;124m\"\u001b[39m, \u001b[38;5;124m\"\u001b[39m\u001b[38;5;124mtranslation\u001b[39m\u001b[38;5;124m\"\u001b[39m])\u001b[38;5;241m.\u001b[39madd_to(cp\u001b[38;5;241m.\u001b[39mgeojson)\n",
      "File \u001b[1;32m~\\anaconda3\\lib\\site-packages\\pandas\\core\\indexing.py:960\u001b[0m, in \u001b[0;36m_LocationIndexer.__getitem__\u001b[1;34m(self, key)\u001b[0m\n\u001b[0;32m    958\u001b[0m     key \u001b[38;5;241m=\u001b[39m \u001b[38;5;28mtuple\u001b[39m(com\u001b[38;5;241m.\u001b[39mapply_if_callable(x, \u001b[38;5;28mself\u001b[39m\u001b[38;5;241m.\u001b[39mobj) \u001b[38;5;28;01mfor\u001b[39;00m x \u001b[38;5;129;01min\u001b[39;00m key)\n\u001b[0;32m    959\u001b[0m     \u001b[38;5;28;01mif\u001b[39;00m \u001b[38;5;28mself\u001b[39m\u001b[38;5;241m.\u001b[39m_is_scalar_access(key):\n\u001b[1;32m--> 960\u001b[0m         \u001b[38;5;28;01mreturn\u001b[39;00m \u001b[38;5;28;43mself\u001b[39;49m\u001b[38;5;241;43m.\u001b[39;49m\u001b[43mobj\u001b[49m\u001b[38;5;241;43m.\u001b[39;49m\u001b[43m_get_value\u001b[49m\u001b[43m(\u001b[49m\u001b[38;5;241;43m*\u001b[39;49m\u001b[43mkey\u001b[49m\u001b[43m,\u001b[49m\u001b[43m \u001b[49m\u001b[43mtakeable\u001b[49m\u001b[38;5;241;43m=\u001b[39;49m\u001b[38;5;28;43mself\u001b[39;49m\u001b[38;5;241;43m.\u001b[39;49m\u001b[43m_takeable\u001b[49m\u001b[43m)\u001b[49m\n\u001b[0;32m    961\u001b[0m     \u001b[38;5;28;01mreturn\u001b[39;00m \u001b[38;5;28mself\u001b[39m\u001b[38;5;241m.\u001b[39m_getitem_tuple(key)\n\u001b[0;32m    962\u001b[0m \u001b[38;5;28;01melse\u001b[39;00m:\n\u001b[0;32m    963\u001b[0m     \u001b[38;5;66;03m# we by definition only have the 0th axis\u001b[39;00m\n",
      "File \u001b[1;32m~\\anaconda3\\lib\\site-packages\\pandas\\core\\frame.py:3615\u001b[0m, in \u001b[0;36mDataFrame._get_value\u001b[1;34m(self, index, col, takeable)\u001b[0m\n\u001b[0;32m   3612\u001b[0m     series \u001b[38;5;241m=\u001b[39m \u001b[38;5;28mself\u001b[39m\u001b[38;5;241m.\u001b[39m_ixs(col, axis\u001b[38;5;241m=\u001b[39m\u001b[38;5;241m1\u001b[39m)\n\u001b[0;32m   3613\u001b[0m     \u001b[38;5;28;01mreturn\u001b[39;00m series\u001b[38;5;241m.\u001b[39m_values[index]\n\u001b[1;32m-> 3615\u001b[0m series \u001b[38;5;241m=\u001b[39m \u001b[38;5;28;43mself\u001b[39;49m\u001b[38;5;241;43m.\u001b[39;49m\u001b[43m_get_item_cache\u001b[49m\u001b[43m(\u001b[49m\u001b[43mcol\u001b[49m\u001b[43m)\u001b[49m\n\u001b[0;32m   3616\u001b[0m engine \u001b[38;5;241m=\u001b[39m \u001b[38;5;28mself\u001b[39m\u001b[38;5;241m.\u001b[39mindex\u001b[38;5;241m.\u001b[39m_engine\n\u001b[0;32m   3618\u001b[0m \u001b[38;5;28;01mif\u001b[39;00m \u001b[38;5;129;01mnot\u001b[39;00m \u001b[38;5;28misinstance\u001b[39m(\u001b[38;5;28mself\u001b[39m\u001b[38;5;241m.\u001b[39mindex, MultiIndex):\n\u001b[0;32m   3619\u001b[0m     \u001b[38;5;66;03m# CategoricalIndex: Trying to use the engine fastpath may give incorrect\u001b[39;00m\n\u001b[0;32m   3620\u001b[0m     \u001b[38;5;66;03m#  results if our categories are integers that dont match our codes\u001b[39;00m\n\u001b[0;32m   3621\u001b[0m     \u001b[38;5;66;03m# IntervalIndex: IntervalTree has no get_loc\u001b[39;00m\n",
      "File \u001b[1;32m~\\anaconda3\\lib\\site-packages\\pandas\\core\\frame.py:3931\u001b[0m, in \u001b[0;36mDataFrame._get_item_cache\u001b[1;34m(self, item)\u001b[0m\n\u001b[0;32m   3926\u001b[0m res \u001b[38;5;241m=\u001b[39m cache\u001b[38;5;241m.\u001b[39mget(item)\n\u001b[0;32m   3927\u001b[0m \u001b[38;5;28;01mif\u001b[39;00m res \u001b[38;5;129;01mis\u001b[39;00m \u001b[38;5;28;01mNone\u001b[39;00m:\n\u001b[0;32m   3928\u001b[0m     \u001b[38;5;66;03m# All places that call _get_item_cache have unique columns,\u001b[39;00m\n\u001b[0;32m   3929\u001b[0m     \u001b[38;5;66;03m#  pending resolution of GH#33047\u001b[39;00m\n\u001b[1;32m-> 3931\u001b[0m     loc \u001b[38;5;241m=\u001b[39m \u001b[38;5;28;43mself\u001b[39;49m\u001b[38;5;241;43m.\u001b[39;49m\u001b[43mcolumns\u001b[49m\u001b[38;5;241;43m.\u001b[39;49m\u001b[43mget_loc\u001b[49m\u001b[43m(\u001b[49m\u001b[43mitem\u001b[49m\u001b[43m)\u001b[49m\n\u001b[0;32m   3932\u001b[0m     res \u001b[38;5;241m=\u001b[39m \u001b[38;5;28mself\u001b[39m\u001b[38;5;241m.\u001b[39m_ixs(loc, axis\u001b[38;5;241m=\u001b[39m\u001b[38;5;241m1\u001b[39m)\n\u001b[0;32m   3934\u001b[0m     cache[item] \u001b[38;5;241m=\u001b[39m res\n",
      "File \u001b[1;32m~\\anaconda3\\lib\\site-packages\\pandas\\core\\indexes\\base.py:3631\u001b[0m, in \u001b[0;36mIndex.get_loc\u001b[1;34m(self, key, method, tolerance)\u001b[0m\n\u001b[0;32m   3629\u001b[0m     \u001b[38;5;28;01mreturn\u001b[39;00m \u001b[38;5;28mself\u001b[39m\u001b[38;5;241m.\u001b[39m_engine\u001b[38;5;241m.\u001b[39mget_loc(casted_key)\n\u001b[0;32m   3630\u001b[0m \u001b[38;5;28;01mexcept\u001b[39;00m \u001b[38;5;167;01mKeyError\u001b[39;00m \u001b[38;5;28;01mas\u001b[39;00m err:\n\u001b[1;32m-> 3631\u001b[0m     \u001b[38;5;28;01mraise\u001b[39;00m \u001b[38;5;167;01mKeyError\u001b[39;00m(key) \u001b[38;5;28;01mfrom\u001b[39;00m \u001b[38;5;21;01merr\u001b[39;00m\n\u001b[0;32m   3632\u001b[0m \u001b[38;5;28;01mexcept\u001b[39;00m \u001b[38;5;167;01mTypeError\u001b[39;00m:\n\u001b[0;32m   3633\u001b[0m     \u001b[38;5;66;03m# If we have a listlike key, _check_indexing_error will raise\u001b[39;00m\n\u001b[0;32m   3634\u001b[0m     \u001b[38;5;66;03m#  InvalidIndexError. Otherwise we fall through and re-raise\u001b[39;00m\n\u001b[0;32m   3635\u001b[0m     \u001b[38;5;66;03m#  the TypeError.\u001b[39;00m\n\u001b[0;32m   3636\u001b[0m     \u001b[38;5;28mself\u001b[39m\u001b[38;5;241m.\u001b[39m_check_indexing_error(key)\n",
      "\u001b[1;31mKeyError\u001b[0m: 'translation'"
     ]
    }
   ],
   "source": [
    "data = Taichung_by_district.copy()\n",
    "\n",
    "# mapping scale. I define the scale into ten division\n",
    "custom_scale = (data['bias'].quantile((0,0.1,0.2,0.3,0.4,0.5,0.6,0.7,0.8,0.9,1))).tolist()\n",
    "\n",
    "# Create a map and define its location, map formation, and plotting scale\n",
    "m = folium.Map([24.21 ,120.98],tiles='Stamen Terrain',     \n",
    "                        zoom_start=10,\n",
    "                        width=\"%80\",\n",
    "                        height=\"%80\")\n",
    "# Mapping parameters\n",
    "cp = folium.Choropleth(\n",
    "    data=data,\n",
    "    geo_data=Taichung_json,\n",
    "    nan_fill_color=\"black\",\n",
    "    line_weight=2,\n",
    "    fill_color='PRGn',\n",
    "    fill_opacity=0.7,\n",
    "    line_opacity=0.5,\n",
    "    name = Taichung_by_district[\"district\"],\n",
    "    threshold_scale=custom_scale,\n",
    "    columns=['district', 'bias'],   \n",
    "    legend_name='2018 Taichung legislation distribution',\n",
    "    key_on='feature.properties.T_Name'\n",
    "    ).add_to(m)\n",
    "\n",
    "\n",
    "# I follow the instruction of the website(https://stackoverflow.com/questions/70471888/text-as-tooltip-popup-or-labels-in-folium-choropleth-geojson-polygons)\n",
    "# to produce markers into the map\n",
    "data = data.set_index('district')\n",
    "\n",
    "for s in cp.geojson.data['features']:\n",
    "    s['properties']['bias'] = str(data.loc[s[\"properties\"][\"T_Name\"], 'bias'])\n",
    "    s['properties']['sum'] = str(data.loc[s[\"properties\"][\"T_Name\"], 'sum'])\n",
    "    s['properties']['node'] = str(data.loc[s[\"properties\"][\"T_Name\"], 'node'])\n",
    "    s['properties']['translation'] = str(data.loc[s[\"properties\"][\"T_Name\"], 'translation'])\n",
    "\n",
    "\n",
    "# Add marker\n",
    "folium.GeoJsonTooltip(['T_Name', \"node\", \"sum\", \"bias\", \"translation\"]).add_to(cp.geojson)\n",
    "\n",
    "  \n",
    "m"
   ]
  },
  {
   "cell_type": "code",
   "execution_count": null,
   "id": "ed3a65e3",
   "metadata": {
    "id": "ed3a65e3"
   },
   "outputs": [],
   "source": [
    "import networkx as nx\n",
    "from gurobipy import *\n",
    "G=nx.Graph()\n",
    "node_tuple = [(0,1),(0,3),(0,16),(0,24),(1,2),(1,13),(1,16),(1,24),(1,25),(2,12),(2,13),(2,14),(2,20),(2,25),(2,26),\n",
    "              (3,4),(3,11),(3,16),(3,21),(3,24),(4,10),(4,21),(4,24),(4,25),(5,7),(5,15),(5,19),(5,23),(5,26),\n",
    "              (6,14),(6,15),(7,9),(7,19),(7,23),(8,9),(8,19),(9,19),(10,21),(10,25),(10,28),(11,13),(11,16),(11,21),(11,27),\n",
    "              (12,18),(12,19),(12,20),(12,23),(12,25),(13,14),(13,16),(13,27),(14,15),(14,22),(14,26),(15,22),(15,26),(16,24),\n",
    "              (17,18),(17,19),(17,28),(18,19),(18,23),(18,25),(18,28),(19,23),(20,23),(20,26),(21,27),(22,26),(23,26),\n",
    "              (24,25),(25,28)]\n",
    "G.add_edges_from(node_tuple)"
   ]
  },
  {
   "cell_type": "code",
   "execution_count": null,
   "id": "a6bd14e0",
   "metadata": {
    "id": "a6bd14e0",
    "outputId": "7e7259dc-3ae7-4e93-e4cb-4236abe99fc5"
   },
   "outputs": [
    {
     "data": {
      "image/png": "[encoded data removed]",
      "text/plain": [
       "<Figure size 640x480 with 1 Axes>"
      ]
     },
     "metadata": {},
     "output_type": "display_data"
    }
   ],
   "source": [
    "import networkx as nx\n",
    "pos=nx.spring_layout(G)\n",
    "nx.draw(G,pos, with_labels=True, node_size=500,  node_color='yellow', alpha = 0.9, edge_color = \"blue\")"
   ]
  },
  {
   "cell_type": "code",
   "execution_count": null,
   "id": "5e1cdc06",
   "metadata": {
    "id": "5e1cdc06",
    "outputId": "c1dd7fcf-6e86-4118-f7fa-1b64d2930e28"
   },
   "outputs": [
    {
     "data": {
      "text/plain": [
       "NodeDataView({0: {}, 1: {}, 3: {}, 16: {}, 24: {}, 2: {}, 13: {}, 25: {}, 12: {}, 14: {}, 20: {}, 26: {}, 4: {}, 11: {}, 21: {}, 10: {}, 5: {}, 7: {}, 15: {}, 19: {}, 23: {}, 6: {}, 9: {}, 8: {}, 28: {}, 27: {}, 18: {}, 22: {}, 17: {}})"
      ]
     },
     "execution_count": 18,
     "metadata": {},
     "output_type": "execute_result"
    }
   ],
   "source": [
    "G.nodes(data = True)"
   ]
  },
  {
   "cell_type": "code",
   "execution_count": null,
   "id": "c9f258e7",
   "metadata": {
    "id": "c9f258e7"
   },
   "outputs": [],
   "source": [
    "for i,d in G.nodes(data = True):\n",
    "    for j in range(data.shape[0]):\n",
    "        if data.iloc[j,0] == i: ## if data node equal to the G.node\n",
    "            d[\"sum\"] = data.iloc[j,4]\n",
    "            d[\"bias\"] = data.iloc[j,3]"
   ]
  },
  {
   "cell_type": "code",
   "execution_count": null,
   "id": "333d531c",
   "metadata": {
    "id": "333d531c"
   },
   "outputs": [],
   "source": [
    "p=7\n",
    "avg_pop = sum(data[\"sum\"])/p\n",
    "tolerance = 0.5"
   ]
  },
  {
   "cell_type": "code",
   "execution_count": null,
   "id": "0ef4bbb1",
   "metadata": {
    "id": "0ef4bbb1",
    "outputId": "d7ef5d6f-9173-4aa7-d01e-7d48b318d09c"
   },
   "outputs": [
    {
     "name": "stdout",
     "output_type": "stream",
     "text": [
      "225191.57142857142\n"
     ]
    }
   ],
   "source": [
    "print(avg_pop)"
   ]
  },
  {
   "cell_type": "code",
   "execution_count": null,
   "id": "2bb689db",
   "metadata": {
    "id": "2bb689db"
   },
   "outputs": [],
   "source": [
    "distance = {}\n",
    "for i in G.nodes():\n",
    "    for j in G.nodes():\n",
    "        distance[(i,j)] = nx.shortest_path_length(G, i, j)"
   ]
  },
  {
   "cell_type": "markdown",
   "id": "bfc28417",
   "metadata": {
    "id": "bfc28417"
   },
   "source": [
    "#### Define variables:\n",
    "\n",
    "$$\\text{Define}~~y_{i,j} ~\\forall \\left(i,j\\right)\\in V$$\n",
    "$$y_{i,i} \\in\\left\\{0,1\\right\\}  \\text{{1, if parcel i is the center of the nodes, 0, others}}$$\n",
    "$$y_{i,j} \\in\\left\\{0,1\\right\\}  \\text{{1, if parcel i is assigned to parcel j, 0, others}}$$\n",
    "\n",
    "Reminding: directed path $y_{ij}$ (respectively, $y_{ji}$) means **from i to j (respectively from j to i)** can not be equal."
   ]
  },
  {
   "cell_type": "code",
   "execution_count": null,
   "id": "162ffe6c",
   "metadata": {
    "id": "162ffe6c",
    "outputId": "ce20868b-6693-4d7a-be1f-a686f8e85550"
   },
   "outputs": [
    {
     "name": "stdout",
     "output_type": "stream",
     "text": [
      "Set parameter Username\n",
      "Academic license - for non-commercial use only - expires 2023-11-27\n"
     ]
    }
   ],
   "source": [
    "model = Model(\"Taichung_re-distribution\")\n",
    "y_edges = {}\n",
    "\n",
    "for i in G.nodes():\n",
    "    for j in G.nodes():\n",
    "        y_edges[(i,j)] =model.addVar(vtype=GRB.BINARY, name='y_edges('+str(i)+','+str(j)+')')"
   ]
  },
  {
   "cell_type": "markdown",
   "id": "c7e47afe",
   "metadata": {
    "id": "c7e47afe"
   },
   "source": [
    "#### Define constraint:\n",
    "\n",
    "$$~~\\sum_{i\\in V} y_{ii} = k$$"
   ]
  },
  {
   "cell_type": "code",
   "execution_count": null,
   "id": "aefe88cf",
   "metadata": {
    "id": "aefe88cf",
    "outputId": "b50cdff6-7364-47da-af25-ff2d34fecd94"
   },
   "outputs": [
    {
     "data": {
      "text/plain": [
       "<gurobi.Constr *Awaiting Model Update*>"
      ]
     },
     "execution_count": 25,
     "metadata": {},
     "output_type": "execute_result"
    }
   ],
   "source": [
    "# Add constraint xii\n",
    "expr = 0\n",
    "for i in G.nodes():\n",
    "    expr += y_edges[(i,i)]\n",
    "model.addConstr(expr == p)"
   ]
  },
  {
   "cell_type": "markdown",
   "id": "adecaa3e",
   "metadata": {
    "id": "adecaa3e"
   },
   "source": [
    "#### Define constraint:\n",
    "\n",
    "$$~~\\sum_{i\\in V,j\\in V} y_{ij} = 1 \\text{(from i to j)}$$\n",
    "\n",
    "Reminding: \n",
    "Control i, changing j node, there will have 4 conditions:\n",
    "<blockquote>\n",
    "    <b> Condition1:</b> if <b>i</b> is a center node, and <b>j1</b> is a center node: \n",
    "    $$ y_{ii} = 1, y_{ij_{1}} = 0 $$\n",
    "    <b> Condition2:</b> if <b>i</b> is a center node, and <b>j2</b> is a edge node: \n",
    "    $$ y_{ij_{2}} = 0 $$\n",
    "    Therefore, combined <b>Condition1</b> and <b>Condition2</b>:\n",
    "    $$~~\\sum_{i\\in V,j\\in V} y_{ij} = y_{ii} + y_{ij_{1}} + y_{ij_{2}}+.... = 1 \\text{(i is a center node)}$$\n",
    "    <b> Condition3:</b> if <b>i</b> is a edge node, and <b>j1</b> is a center node: \n",
    "    $$ y_{ii} = 0, y_{ij_{1}} = 1$$\n",
    "    <b> Condition4:</b> if <b>i</b> is a edge node, and <b>j2</b> is a edge node: \n",
    "    $$ y_{ij_{2}} = 0 $$\n",
    "    Therefore, combined <b>Condition3</b> and <b>Condition4</b>:\n",
    "    $$~~\\sum_{i\\in V,j\\in V} y_{ij} = y_{ii} + y_{ij_{1}} + y_{ij_{2}}+.... = 1 \\text{(i is a edge node)}$$\n",
    "<blockquote>"
   ]
  },
  {
   "cell_type": "code",
   "execution_count": null,
   "id": "cb0161a9",
   "metadata": {
    "id": "cb0161a9"
   },
   "outputs": [],
   "source": [
    "for i in G.nodes():\n",
    "    head_to_tail = 0\n",
    "    for j in G.nodes():\n",
    "            head_to_tail += y_edges[(i,j)]\n",
    "    model.addConstr(head_to_tail == 1)"
   ]
  },
  {
   "cell_type": "markdown",
   "id": "96f7fb6c",
   "metadata": {
    "id": "96f7fb6c"
   },
   "source": [
    "#### Define constraint:\n",
    "\n",
    "$$~~\\sum_{i\\in V,j\\in V} y_{ij} \\leq y_{jj} \\text{(from i to j)}$$\n",
    "\n",
    "Reminding: \n",
    "Control j, changing i node, there will have 4 conditions:\n",
    "<blockquote>\n",
    "    <b> Condition1:</b> if <b>i1</b> is a center node, and <b>j</b> is a center node: \n",
    "    $$ y_{i_{1}j} = 0, y_{jj} = 1 $$\n",
    "    <b> Condition2:</b> if<b>i2</b> is a edge node, and <b>j</b> is a center node: \n",
    "    $$ y_{i_{2}j} = 1 $$\n",
    "    Therefore, combined <b>Condition1</b> and <b>Condition2</b>:\n",
    "    $$~~ 0 = y_{i_{1}j} = y_{i_{3}j} = .... \\leq y_{i_{2}j} = y_{jj} = 1 \\text{(j is a center node)}$$\n",
    "    <b> Condition3:</b> <b>i</b> is a center node, and <b>j</b> is a edge node: \n",
    "    $$ y_{i_{1}j} = 0, y_{jj} = 0 $$\n",
    "    <b> Condition4:</b> <b>i2</b> is a edge node, and <b>j</b> is a edge node: \n",
    "    $$ y_{i_{2}j} = 0 $$\n",
    "    Therefore, combined <b>Condition3</b> and <b>Condition4</b>:\n",
    "    $$~~ y_{i_{1}j} = y_{i_{3}j} = .... = y_{i_{2}j} = y_{jj} = 0 \\text{(j is a edge node)}$$\n",
    "<blockquote>"
   ]
  },
  {
   "cell_type": "code",
   "execution_count": null,
   "id": "9bdba03c",
   "metadata": {
    "id": "9bdba03c"
   },
   "outputs": [],
   "source": [
    "for j in G.nodes():\n",
    "    for i in G.nodes():\n",
    "            model.addConstr(y_edges[(i,j)] <= y_edges[(j,j)])"
   ]
  },
  {
   "cell_type": "markdown",
   "id": "2119ac0f",
   "metadata": {
    "id": "2119ac0f"
   },
   "source": [
    "#### Define constraint:\n",
    "Reminding: \n",
    "Control j, changing i node, summarize the distance (because distance is located at node j)\n",
    "$$~~\\sum_{i\\in V, j\\in V} y_{ij}distance_{i} \\leq (\\frac{population}{k_{district}})( 1 + tolerance)y_{jj}$$ \n",
    "$$~~\\sum_{i\\in V, j\\in V} y_{ij}distance_{i} \\geq (\\frac{population}{k_{district}})( 1 - tolerance)y_{jj}$$"
   ]
  },
  {
   "cell_type": "code",
   "execution_count": null,
   "id": "0576e41b",
   "metadata": {
    "id": "0576e41b"
   },
   "outputs": [],
   "source": [
    "# Add constraint xii\n",
    "for j in G.nodes():\n",
    "    summary = 0\n",
    "    for i,d1 in G.nodes(data = True):\n",
    "            summary += y_edges[(i,j)]*d1[\"sum\"]\n",
    "    model.addConstr(summary <= avg_pop*(1 + tolerance)*y_edges[(j,j)])\n",
    "    model.addConstr(summary >= avg_pop*(1 - tolerance)*y_edges[(j,j)])"
   ]
  },
  {
   "cell_type": "markdown",
   "id": "5285497d",
   "metadata": {
    "id": "5285497d"
   },
   "source": [
    "#### Define objective function:\n",
    "Reminding: \n",
    "summarize the shortest path from i to j \n",
    "$$\\text{min}~~\\sum_{i\\in V, j\\in V} y_{ij}distance_{i,j} $$ "
   ]
  },
  {
   "cell_type": "code",
   "execution_count": null,
   "id": "3958c472",
   "metadata": {
    "id": "3958c472"
   },
   "outputs": [],
   "source": [
    "obj = 0\n",
    "for i in G.nodes():\n",
    "    for j in G.nodes():\n",
    "        obj += distance[(i,j)]*y_edges[(i,j)]\n",
    "model.setObjective(obj, GRB.MINIMIZE)"
   ]
  },
  {
   "cell_type": "code",
   "execution_count": null,
   "id": "a8ce6b1a",
   "metadata": {
    "id": "a8ce6b1a"
   },
   "outputs": [],
   "source": [
    "model.write(\"test2.lp\")"
   ]
  },
  {
   "cell_type": "code",
   "execution_count": null,
   "id": "e99f694e",
   "metadata": {
    "id": "e99f694e",
    "outputId": "007862a1-2297-4358-cf62-ae40bfdd4d7a"
   },
   "outputs": [
    {
     "name": "stdout",
     "output_type": "stream",
     "text": [
      "Gurobi Optimizer version 10.0.0 build v10.0.0rc2 (mac64[rosetta2])\n",
      "\n",
      "CPU model: Apple M2\n",
      "Thread count: 8 physical cores, 8 logical processors, using up to 8 threads\n",
      "\n",
      "Optimize a model with 929 rows, 841 columns and 4176 nonzeros\n",
      "Model fingerprint: 0xa6524954\n",
      "Variable types: 0 continuous, 841 integer (841 binary)\n",
      "Coefficient statistics:\n",
      "  Matrix range     [1e+00, 3e+05]\n",
      "  Objective range  [1e+00, 5e+00]\n",
      "  Bounds range     [1e+00, 1e+00]\n",
      "  RHS range        [1e+00, 7e+00]\n",
      "Presolve removed 46 rows and 0 columns\n",
      "Presolve time: 0.01s\n",
      "Presolved: 883 rows, 841 columns, 4099 nonzeros\n",
      "Variable types: 0 continuous, 841 integer (841 binary)\n",
      "Found heuristic solution: objective 31.0000000\n",
      "\n",
      "Root relaxation: objective 2.200000e+01, 105 iterations, 0.00 seconds (0.00 work units)\n",
      "\n",
      "    Nodes    |    Current Node    |     Objective Bounds      |     Work\n",
      " Expl Unexpl |  Obj  Depth IntInf | Incumbent    BestBd   Gap | It/Node Time\n",
      "\n",
      "     0     0   22.00000    0    4   31.00000   22.00000  29.0%     -    0s\n",
      "H    0     0                      22.0000000   22.00000  0.00%     -    0s\n",
      "     0     0   22.00000    0    4   22.00000   22.00000  0.00%     -    0s\n",
      "\n",
      "Explored 1 nodes (105 simplex iterations) in 0.04 seconds (0.02 work units)\n",
      "Thread count was 8 (of 8 available processors)\n",
      "\n",
      "Solution count 2: 22 31 \n",
      "\n",
      "Optimal solution found (tolerance 1.00e-04)\n",
      "Best objective 2.200000000000e+01, best bound 2.200000000000e+01, gap 0.0000%\n"
     ]
    }
   ],
   "source": [
    "model.optimize()"
   ]
  },
  {
   "cell_type": "code",
   "execution_count": null,
   "id": "3d8a2d2f",
   "metadata": {
    "id": "3d8a2d2f",
    "outputId": "010adf49-7d11-48db-b078-57c9376a3ce8"
   },
   "outputs": [
    {
     "data": {
      "text/plain": [
       "22.0"
      ]
     },
     "execution_count": 32,
     "metadata": {},
     "output_type": "execute_result"
    }
   ],
   "source": [
    "obj.getValue()"
   ]
  },
  {
   "cell_type": "code",
   "execution_count": null,
   "id": "4811bc9e",
   "metadata": {
    "id": "4811bc9e"
   },
   "outputs": [],
   "source": [
    "cluster_group = {}"
   ]
  },
  {
   "cell_type": "code",
   "execution_count": null,
   "id": "b7832e0d",
   "metadata": {
    "id": "b7832e0d",
    "outputId": "fb3cbdd4-2ed9-4fb1-eead-2b0d4aba0a6f"
   },
   "outputs": [
    {
     "name": "stdout",
     "output_type": "stream",
     "text": [
      "<gurobi.Var y_edges(3,3) (value 1.0)>\n",
      "<gurobi.Var y_edges(2,2) (value 1.0)>\n",
      "<gurobi.Var y_edges(25,25) (value 1.0)>\n",
      "<gurobi.Var y_edges(11,11) (value 1.0)>\n",
      "<gurobi.Var y_edges(15,15) (value 1.0)>\n",
      "<gurobi.Var y_edges(9,9) (value 1.0)>\n",
      "<gurobi.Var y_edges(18,18) (value 1.0)>\n"
     ]
    }
   ],
   "source": [
    "for j in G.nodes():\n",
    "    if y_edges[(j,j)].X == 1:\n",
    "        cluster_group[j] = []\n",
    "#         cluster_group[j].append(j)\n",
    "        print(y_edges[(j,j)])"
   ]
  },
  {
   "cell_type": "code",
   "execution_count": null,
   "id": "8a5f6446",
   "metadata": {
    "id": "8a5f6446",
    "outputId": "c41861f8-f994-495b-8798-892aafcf9a00"
   },
   "outputs": [
    {
     "name": "stdout",
     "output_type": "stream",
     "text": [
      "<gurobi.Var y_edges(0,3) (value 1.0)>\n",
      "<gurobi.Var y_edges(1,2) (value 1.0)>\n",
      "<gurobi.Var y_edges(3,3) (value 1.0)>\n",
      "<gurobi.Var y_edges(16,3) (value 1.0)>\n",
      "<gurobi.Var y_edges(24,25) (value 1.0)>\n",
      "<gurobi.Var y_edges(2,2) (value 1.0)>\n",
      "<gurobi.Var y_edges(13,11) (value 1.0)>\n",
      "<gurobi.Var y_edges(25,25) (value 1.0)>\n",
      "<gurobi.Var y_edges(12,25) (value 1.0)>\n",
      "<gurobi.Var y_edges(14,15) (value 1.0)>\n",
      "<gurobi.Var y_edges(20,2) (value 1.0)>\n",
      "<gurobi.Var y_edges(26,15) (value 1.0)>\n",
      "<gurobi.Var y_edges(4,3) (value 1.0)>\n",
      "<gurobi.Var y_edges(11,11) (value 1.0)>\n",
      "<gurobi.Var y_edges(21,11) (value 1.0)>\n",
      "<gurobi.Var y_edges(10,25) (value 1.0)>\n",
      "<gurobi.Var y_edges(5,15) (value 1.0)>\n",
      "<gurobi.Var y_edges(7,9) (value 1.0)>\n",
      "<gurobi.Var y_edges(15,15) (value 1.0)>\n",
      "<gurobi.Var y_edges(19,9) (value 1.0)>\n",
      "<gurobi.Var y_edges(23,18) (value 1.0)>\n",
      "<gurobi.Var y_edges(6,15) (value 1.0)>\n",
      "<gurobi.Var y_edges(9,9) (value 1.0)>\n",
      "<gurobi.Var y_edges(8,9) (value 1.0)>\n",
      "<gurobi.Var y_edges(28,25) (value 1.0)>\n",
      "<gurobi.Var y_edges(27,11) (value 1.0)>\n",
      "<gurobi.Var y_edges(18,18) (value 1.0)>\n",
      "<gurobi.Var y_edges(22,15) (value 1.0)>\n",
      "<gurobi.Var y_edges(17,18) (value 1.0)>\n"
     ]
    }
   ],
   "source": [
    "for i in G.nodes():\n",
    "    for j in G.nodes():\n",
    "        if y_edges[(i,j)].X == 1:\n",
    "            cluster_group[j].append(i)\n",
    "            print(y_edges[(i,j)])"
   ]
  },
  {
   "cell_type": "code",
   "execution_count": null,
   "id": "7141c761",
   "metadata": {
    "id": "7141c761",
    "outputId": "55b7adc1-a28a-429f-f8ee-983406197d80",
    "scrolled": true
   },
   "outputs": [
    {
     "name": "stdout",
     "output_type": "stream",
     "text": [
      "{3: [0, 3, 16, 4], 2: [1, 2, 20], 25: [24, 25, 12, 10, 28], 11: [13, 11, 21, 27], 15: [14, 26, 5, 15, 6, 22], 9: [7, 19, 9, 8], 18: [23, 18, 17]}\n"
     ]
    }
   ],
   "source": [
    "print(cluster_group)"
   ]
  },
  {
   "cell_type": "code",
   "execution_count": null,
   "id": "75d666e7",
   "metadata": {
    "id": "75d666e7",
    "outputId": "0c032c86-e40f-4dc5-abb0-80f302c956d2"
   },
   "outputs": [
    {
     "data": {
      "text/plain": [
       "{3: 219858,\n",
       " 2: 285599,\n",
       " 25: 320698,\n",
       " 11: 315243,\n",
       " 15: 188893,\n",
       " 9: 121491,\n",
       " 18: 124559}"
      ]
     },
     "execution_count": 37,
     "metadata": {},
     "output_type": "execute_result"
    }
   ],
   "source": [
    "summary_pop = {}\n",
    "for j in cluster_group:\n",
    "    local_pop = 0\n",
    "    for k in cluster_group[j]:\n",
    "        for i,d in G.nodes(data = True):\n",
    "            if i == k:\n",
    "                local_pop += d[\"sum\"]\n",
    "    summary_pop[j] = local_pop    \n",
    "summary_pop"
   ]
  },
  {
   "cell_type": "code",
   "execution_count": null,
   "id": "4f685134",
   "metadata": {
    "id": "4f685134",
    "outputId": "0e54f616-208b-4982-d3b5-16b24212920e"
   },
   "outputs": [
    {
     "data": {
      "text/plain": [
       "{3: [0, 3, 16, 4],\n",
       " 2: [1, 2, 20],\n",
       " 25: [24, 25, 12, 10, 28],\n",
       " 11: [13, 11, 21, 27],\n",
       " 15: [14, 26, 5, 15, 6, 22],\n",
       " 9: [7, 19, 9, 8],\n",
       " 18: [23, 18, 17]}"
      ]
     },
     "execution_count": 38,
     "metadata": {},
     "output_type": "execute_result"
    }
   ],
   "source": [
    "cluster_group"
   ]
  },
  {
   "cell_type": "code",
   "execution_count": null,
   "id": "6e524961",
   "metadata": {
    "id": "6e524961",
    "outputId": "9b80d9e6-7dc1-415d-a8bd-19538d39a84d"
   },
   "outputs": [
    {
     "data": {
      "image/png": "[encoded data removed]",
      "text/plain": [
       "<Figure size 640x480 with 1 Axes>"
      ]
     },
     "metadata": {},
     "output_type": "display_data"
    }
   ],
   "source": [
    "nx.draw(G,pos, with_labels=True, node_size=500,  node_color='yellow', alpha = 0.9, edge_color = \"black\", width=0.1)\n",
    "color = [\"red\", \"gold\", \"greenyellow\", \"blue\", \"purple\", \"darkviolet\", \"deeppink\", \"crimson\", \"black\", \"turquoise\"]\n",
    "for cluster in range(len(list(cluster_group.keys()))):\n",
    "    H = G.subgraph(cluster_group[list(cluster_group.keys())[cluster]])\n",
    "    T = nx.minimum_spanning_tree(H)\n",
    "    ered=[(i,j) for (i,j) in T.edges()] \n",
    "    nx.draw_networkx_edges(G,pos,edgelist=ered, edge_color=color[cluster], width=5)"
   ]
  },
  {
   "cell_type": "code",
   "execution_count": null,
   "id": "910006d2",
   "metadata": {
    "id": "910006d2",
    "outputId": "5cbf3b0c-5011-4684-bd4d-24655029e5ff"
   },
   "outputs": [
    {
     "data": {
      "text/plain": [
       "dict_items([(3, [0, 3, 16, 4]), (2, [1, 2, 20]), (25, [24, 25, 12, 10, 28]), (11, [13, 11, 21, 27]), (15, [14, 26, 5, 15, 6, 22]), (9, [7, 19, 9, 8]), (18, [23, 18, 17])])"
      ]
     },
     "execution_count": 40,
     "metadata": {},
     "output_type": "execute_result"
    }
   ],
   "source": [
    "cluster_group.items()"
   ]
  },
  {
   "cell_type": "markdown",
   "id": "818f0575",
   "metadata": {
    "id": "818f0575"
   },
   "source": [
    "### p = 6"
   ]
  },
  {
   "cell_type": "code",
   "execution_count": null,
   "id": "6d8b994a",
   "metadata": {
    "id": "6d8b994a",
    "outputId": "9da6eaab-d64f-47ca-f383-6fac4de92948"
   },
   "outputs": [
    {
     "data": {
      "text/plain": [
       "NodeDataView({0: {'sum': 9459, 'bias': 1775}, 1: {'sum': 77786, 'bias': 1242}, 3: {'sum': 73087, 'bias': 10049}, 16: {'sum': 45182, 'bias': 8136}, 24: {'sum': 65878, 'bias': 12690}, 2: {'sum': 146418, 'bias': 4030}, 13: {'sum': 109147, 'bias': 28549}, 25: {'sum': 124216, 'bias': 10760}, 12: {'sum': 50552, 'bias': -4146}, 14: {'sum': 14749, 'bias': -5769}, 20: {'sum': 61395, 'bias': 47}, 26: {'sum': 99214, 'bias': -10336}, 4: {'sum': 92130, 'bias': 12666}, 11: {'sum': 120391, 'bias': 40989}, 21: {'sum': 45525, 'bias': 2633}, 10: {'sum': 34340, 'bias': 74}, 5: {'sum': 31672, 'bias': 714}, 7: {'sum': 18346, 'bias': 5308}, 15: {'sum': 30117, 'bias': -11561}, 19: {'sum': 49168, 'bias': 20300}, 23: {'sum': 37776, 'bias': 2416}, 6: {'sum': 3949, 'bias': -1583}, 9: {'sum': 42838, 'bias': 16860}, 8: {'sum': 11139, 'bias': 4293}, 28: {'sum': 45712, 'bias': 88}, 27: {'sum': 40180, 'bias': 1400}, 18: {'sum': 54848, 'bias': 878}, 22: {'sum': 9192, 'bias': -3030}, 17: {'sum': 31935, 'bias': 12565}})"
      ]
     },
     "execution_count": 46,
     "metadata": {},
     "output_type": "execute_result"
    }
   ],
   "source": [
    "G.nodes(data = True)"
   ]
  },
  {
   "cell_type": "code",
   "execution_count": null,
   "id": "614554ee",
   "metadata": {
    "id": "614554ee"
   },
   "outputs": [],
   "source": [
    "for i,d in G.nodes(data = True):\n",
    "    for j in range(data.shape[0]):\n",
    "        if data.iloc[j,0] == i: ## if data node equal to the G.node\n",
    "            d[\"sum\"] = data.iloc[j,4]\n",
    "            d[\"bias\"] = data.iloc[j,3]"
   ]
  },
  {
   "cell_type": "code",
   "execution_count": null,
   "id": "292b29f4",
   "metadata": {
    "id": "292b29f4"
   },
   "outputs": [],
   "source": [
    "p=6\n",
    "avg_pop = sum(data[\"sum\"])/p\n",
    "tolerance = 0.5"
   ]
  },
  {
   "cell_type": "code",
   "execution_count": null,
   "id": "de8beb24",
   "metadata": {
    "id": "de8beb24",
    "outputId": "8f15832d-81a4-4879-df2d-1f930ae884c2"
   },
   "outputs": [
    {
     "name": "stdout",
     "output_type": "stream",
     "text": [
      "262723.5\n"
     ]
    }
   ],
   "source": [
    "print(avg_pop)"
   ]
  },
  {
   "cell_type": "code",
   "execution_count": null,
   "id": "010eb055",
   "metadata": {
    "id": "010eb055"
   },
   "outputs": [],
   "source": [
    "distance = {}\n",
    "for i in G.nodes():\n",
    "    for j in G.nodes():\n",
    "        distance[(i,j)] = nx.shortest_path_length(G, i, j)"
   ]
  },
  {
   "cell_type": "code",
   "execution_count": null,
   "id": "dc5d4f32",
   "metadata": {
    "id": "dc5d4f32"
   },
   "outputs": [],
   "source": [
    "model = Model(\"Taichung_re-distribution\")\n",
    "y_edges = {}\n",
    "\n",
    "for i in G.nodes():\n",
    "    for j in G.nodes():\n",
    "        y_edges[(i,j)] =model.addVar(vtype=GRB.BINARY, name='y_edges('+str(i)+','+str(j)+')')"
   ]
  },
  {
   "cell_type": "code",
   "execution_count": null,
   "id": "0897aafa",
   "metadata": {
    "id": "0897aafa",
    "outputId": "ad4699d8-73c1-4c7e-824c-db5582a18ae4"
   },
   "outputs": [
    {
     "data": {
      "text/plain": [
       "<gurobi.Constr *Awaiting Model Update*>"
      ]
     },
     "execution_count": 52,
     "metadata": {},
     "output_type": "execute_result"
    }
   ],
   "source": [
    "# Add constraint xii\n",
    "expr = 0\n",
    "for i in G.nodes():\n",
    "    expr += y_edges[(i,i)]\n",
    "model.addConstr(expr == p)"
   ]
  },
  {
   "cell_type": "code",
   "execution_count": null,
   "id": "3286f650",
   "metadata": {
    "id": "3286f650"
   },
   "outputs": [],
   "source": [
    "for i in G.nodes():\n",
    "    head_to_tail = 0\n",
    "    for j in G.nodes():\n",
    "            head_to_tail += y_edges[(i,j)]\n",
    "    model.addConstr(head_to_tail == 1)"
   ]
  },
  {
   "cell_type": "code",
   "execution_count": null,
   "id": "c94c946a",
   "metadata": {
    "id": "c94c946a"
   },
   "outputs": [],
   "source": [
    "for j in G.nodes():\n",
    "    for i in G.nodes():\n",
    "            model.addConstr(y_edges[(i,j)] <= y_edges[(j,j)])"
   ]
  },
  {
   "cell_type": "code",
   "execution_count": null,
   "id": "3469d8bd",
   "metadata": {
    "id": "3469d8bd"
   },
   "outputs": [],
   "source": [
    "# Add constraint xii\n",
    "for j in G.nodes():\n",
    "    summary = 0\n",
    "    for i,d1 in G.nodes(data = True):\n",
    "            summary += y_edges[(i,j)]*d1[\"sum\"]\n",
    "    model.addConstr(summary <= avg_pop*(1 + tolerance)*y_edges[(j,j)])\n",
    "    model.addConstr(summary >= avg_pop*(1 - tolerance)*y_edges[(j,j)])"
   ]
  },
  {
   "cell_type": "code",
   "execution_count": null,
   "id": "08df9015",
   "metadata": {
    "id": "08df9015"
   },
   "outputs": [],
   "source": [
    "obj = 0\n",
    "for i in G.nodes():\n",
    "    for j in G.nodes():\n",
    "        obj += distance[(i,j)]*y_edges[(i,j)]\n",
    "model.setObjective(obj, GRB.MINIMIZE)"
   ]
  },
  {
   "cell_type": "code",
   "execution_count": null,
   "id": "3ae0cd35",
   "metadata": {
    "id": "3ae0cd35"
   },
   "outputs": [],
   "source": [
    "model.write(\"test2.lp\")"
   ]
  },
  {
   "cell_type": "code",
   "execution_count": null,
   "id": "dc62e246",
   "metadata": {
    "id": "dc62e246",
    "outputId": "06f199a9-f597-4d35-8894-07efcd8344c6"
   },
   "outputs": [
    {
     "name": "stdout",
     "output_type": "stream",
     "text": [
      "Gurobi Optimizer version 10.0.0 build v10.0.0rc2 (mac64[rosetta2])\n",
      "\n",
      "CPU model: Apple M2\n",
      "Thread count: 8 physical cores, 8 logical processors, using up to 8 threads\n",
      "\n",
      "Optimize a model with 929 rows, 841 columns and 4176 nonzeros\n",
      "Model fingerprint: 0xe874521a\n",
      "Variable types: 0 continuous, 841 integer (841 binary)\n",
      "Coefficient statistics:\n",
      "  Matrix range     [1e+00, 4e+05]\n",
      "  Objective range  [1e+00, 5e+00]\n",
      "  Bounds range     [1e+00, 1e+00]\n",
      "  RHS range        [1e+00, 6e+00]\n",
      "Presolve removed 30 rows and 0 columns\n",
      "Presolve time: 0.01s\n",
      "Presolved: 899 rows, 841 columns, 4146 nonzeros\n",
      "Variable types: 0 continuous, 841 integer (841 binary)\n",
      "Found heuristic solution: objective 33.0000000\n",
      "\n",
      "Root relaxation: objective 2.300000e+01, 205 iterations, 0.00 seconds (0.00 work units)\n",
      "\n",
      "    Nodes    |    Current Node    |     Objective Bounds      |     Work\n",
      " Expl Unexpl |  Obj  Depth IntInf | Incumbent    BestBd   Gap | It/Node Time\n",
      "\n",
      "H    0     0                      23.0000000    0.00000   100%     -    0s\n",
      "     0     0          -    0        23.00000   23.00000  0.00%     -    0s\n",
      "\n",
      "Explored 1 nodes (267 simplex iterations) in 0.02 seconds (0.02 work units)\n",
      "Thread count was 8 (of 8 available processors)\n",
      "\n",
      "Solution count 2: 23 33 \n",
      "\n",
      "Optimal solution found (tolerance 1.00e-04)\n",
      "Best objective 2.300000000000e+01, best bound 2.300000000000e+01, gap 0.0000%\n"
     ]
    }
   ],
   "source": [
    "model.optimize()"
   ]
  },
  {
   "cell_type": "code",
   "execution_count": null,
   "id": "c55f4608",
   "metadata": {
    "id": "c55f4608",
    "outputId": "e8f0df31-5a29-4b85-8418-2c339995d513"
   },
   "outputs": [
    {
     "data": {
      "text/plain": [
       "23.0"
      ]
     },
     "execution_count": 59,
     "metadata": {},
     "output_type": "execute_result"
    }
   ],
   "source": [
    "obj.getValue()"
   ]
  },
  {
   "cell_type": "code",
   "execution_count": null,
   "id": "39ad37b5",
   "metadata": {
    "id": "39ad37b5"
   },
   "outputs": [],
   "source": [
    "cluster_group = {}"
   ]
  },
  {
   "cell_type": "code",
   "execution_count": null,
   "id": "6e261b3f",
   "metadata": {
    "id": "6e261b3f",
    "outputId": "d088a76c-9ba8-45d4-ab60-f897f6f88247"
   },
   "outputs": [
    {
     "name": "stdout",
     "output_type": "stream",
     "text": [
      "<gurobi.Var y_edges(24,24) (value 1.0)>\n",
      "<gurobi.Var y_edges(25,25) (value 1.0)>\n",
      "<gurobi.Var y_edges(14,14) (value 1.0)>\n",
      "<gurobi.Var y_edges(26,26) (value 1.0)>\n",
      "<gurobi.Var y_edges(11,11) (value 1.0)>\n",
      "<gurobi.Var y_edges(19,19) (value 1.0)>\n"
     ]
    }
   ],
   "source": [
    "for j in G.nodes():\n",
    "    if y_edges[(j,j)].X == 1:\n",
    "        cluster_group[j] = []\n",
    "#         cluster_group[j].append(j)\n",
    "        print(y_edges[(j,j)])"
   ]
  },
  {
   "cell_type": "code",
   "execution_count": null,
   "id": "4bcebca5",
   "metadata": {
    "id": "4bcebca5",
    "outputId": "cd216418-1c03-4025-8793-2a1cc2f8c7c3"
   },
   "outputs": [
    {
     "name": "stdout",
     "output_type": "stream",
     "text": [
      "<gurobi.Var y_edges(0,24) (value 1.0)>\n",
      "<gurobi.Var y_edges(1,24) (value 1.0)>\n",
      "<gurobi.Var y_edges(3,24) (value 1.0)>\n",
      "<gurobi.Var y_edges(16,11) (value 1.0)>\n",
      "<gurobi.Var y_edges(24,24) (value 1.0)>\n",
      "<gurobi.Var y_edges(2,26) (value 1.0)>\n",
      "<gurobi.Var y_edges(13,14) (value 1.0)>\n",
      "<gurobi.Var y_edges(25,25) (value 1.0)>\n",
      "<gurobi.Var y_edges(12,25) (value 1.0)>\n",
      "<gurobi.Var y_edges(14,14) (value 1.0)>\n",
      "<gurobi.Var y_edges(20,26) (value 1.0)>\n",
      "<gurobi.Var y_edges(26,26) (value 1.0)>\n",
      "<gurobi.Var y_edges(4,25) (value 1.0)>\n",
      "<gurobi.Var y_edges(11,11) (value 1.0)>\n",
      "<gurobi.Var y_edges(21,11) (value 1.0)>\n",
      "<gurobi.Var y_edges(10,25) (value 1.0)>\n",
      "<gurobi.Var y_edges(5,19) (value 1.0)>\n",
      "<gurobi.Var y_edges(7,19) (value 1.0)>\n",
      "<gurobi.Var y_edges(15,14) (value 1.0)>\n",
      "<gurobi.Var y_edges(19,19) (value 1.0)>\n",
      "<gurobi.Var y_edges(23,26) (value 1.0)>\n",
      "<gurobi.Var y_edges(6,14) (value 1.0)>\n",
      "<gurobi.Var y_edges(9,19) (value 1.0)>\n",
      "<gurobi.Var y_edges(8,19) (value 1.0)>\n",
      "<gurobi.Var y_edges(28,25) (value 1.0)>\n",
      "<gurobi.Var y_edges(27,11) (value 1.0)>\n",
      "<gurobi.Var y_edges(18,19) (value 1.0)>\n",
      "<gurobi.Var y_edges(22,26) (value 1.0)>\n",
      "<gurobi.Var y_edges(17,19) (value 1.0)>\n"
     ]
    }
   ],
   "source": [
    "for i in G.nodes():\n",
    "    for j in G.nodes():\n",
    "        if y_edges[(i,j)].X == 1:\n",
    "            cluster_group[j].append(i)\n",
    "            print(y_edges[(i,j)])"
   ]
  },
  {
   "cell_type": "code",
   "execution_count": null,
   "id": "ddb01af7",
   "metadata": {
    "id": "ddb01af7",
    "outputId": "22b1ade0-455e-41ef-a8ad-798c13fe53af"
   },
   "outputs": [
    {
     "name": "stdout",
     "output_type": "stream",
     "text": [
      "{24: [0, 1, 3, 24], 25: [25, 12, 4, 10, 28], 14: [13, 14, 15, 6], 26: [2, 20, 26, 23, 22], 11: [16, 11, 21, 27], 19: [5, 7, 19, 9, 8, 18, 17]}\n"
     ]
    }
   ],
   "source": [
    "print(cluster_group)"
   ]
  },
  {
   "cell_type": "code",
   "execution_count": null,
   "id": "54b52344",
   "metadata": {
    "id": "54b52344",
    "outputId": "b80e60e0-4d3f-45d8-831e-bf9a1e5f7b1a"
   },
   "outputs": [
    {
     "data": {
      "text/plain": [
       "{24: 226210, 25: 346950, 14: 157962, 26: 353995, 11: 251278, 19: 239946}"
      ]
     },
     "execution_count": 64,
     "metadata": {},
     "output_type": "execute_result"
    }
   ],
   "source": [
    "summary_pop = {}\n",
    "for j in cluster_group:\n",
    "    local_pop = 0\n",
    "    for k in cluster_group[j]:\n",
    "        for i,d in G.nodes(data = True):\n",
    "            if i == k:\n",
    "                local_pop += d[\"sum\"]\n",
    "    summary_pop[j] = local_pop    \n",
    "summary_pop"
   ]
  },
  {
   "cell_type": "code",
   "execution_count": null,
   "id": "feecf276",
   "metadata": {
    "id": "feecf276",
    "outputId": "c3d0f7dc-4f0a-472d-f9a3-6e4a3bfe5744"
   },
   "outputs": [
    {
     "data": {
      "text/plain": [
       "{24: [0, 1, 3, 24],\n",
       " 25: [25, 12, 4, 10, 28],\n",
       " 14: [13, 14, 15, 6],\n",
       " 26: [2, 20, 26, 23, 22],\n",
       " 11: [16, 11, 21, 27],\n",
       " 19: [5, 7, 19, 9, 8, 18, 17]}"
      ]
     },
     "execution_count": 65,
     "metadata": {},
     "output_type": "execute_result"
    }
   ],
   "source": [
    "cluster_group"
   ]
  },
  {
   "cell_type": "code",
   "execution_count": null,
   "id": "650126cb",
   "metadata": {
    "id": "650126cb",
    "outputId": "fadefbeb-a3a9-4449-d14a-c000ddf7765f"
   },
   "outputs": [
    {
     "data": {
      "image/png": "[encoded data removed]",
      "text/plain": [
       "<Figure size 640x480 with 1 Axes>"
      ]
     },
     "metadata": {},
     "output_type": "display_data"
    }
   ],
   "source": [
    "nx.draw(G,pos, with_labels=True, node_size=500,  node_color='yellow', alpha = 0.9, edge_color = \"black\", width=0.1)\n",
    "color = [\"red\", \"gold\", \"greenyellow\", \"blue\", \"purple\", \"darkviolet\", \"deeppink\", \"crimson\", \"black\", \"turquoise\"]\n",
    "for cluster in range(len(list(cluster_group.keys()))):\n",
    "    H = G.subgraph(cluster_group[list(cluster_group.keys())[cluster]])\n",
    "    T = nx.minimum_spanning_tree(H)\n",
    "    ered=[(i,j) for (i,j) in T.edges()] \n",
    "    nx.draw_networkx_edges(G,pos,edgelist=ered, edge_color=color[cluster], width=5)"
   ]
  },
  {
   "cell_type": "code",
   "execution_count": null,
   "id": "395420c7",
   "metadata": {
    "id": "395420c7",
    "outputId": "5d280e2b-e397-4834-b8cd-cea019b4dd38"
   },
   "outputs": [
    {
     "data": {
      "text/plain": [
       "dict_items([(24, [0, 1, 3, 24]), (25, [25, 12, 4, 10, 28]), (14, [13, 14, 15, 6]), (26, [2, 20, 26, 23, 22]), (11, [16, 11, 21, 27]), (19, [5, 7, 19, 9, 8, 18, 17])])"
      ]
     },
     "execution_count": 67,
     "metadata": {},
     "output_type": "execute_result"
    }
   ],
   "source": [
    "cluster_group.items()"
   ]
  },
  {
   "cell_type": "markdown",
   "id": "1032c8e8",
   "metadata": {
    "id": "1032c8e8"
   },
   "source": [
    "### p = 5"
   ]
  },
  {
   "cell_type": "code",
   "execution_count": null,
   "id": "04b340d4",
   "metadata": {
    "id": "04b340d4",
    "outputId": "7b49ddd9-fd38-409b-866f-d3867b19d88e"
   },
   "outputs": [
    {
     "data": {
      "text/plain": [
       "NodeDataView({0: {'sum': 9459, 'bias': 1775}, 1: {'sum': 77786, 'bias': 1242}, 3: {'sum': 73087, 'bias': 10049}, 16: {'sum': 45182, 'bias': 8136}, 24: {'sum': 65878, 'bias': 12690}, 2: {'sum': 146418, 'bias': 4030}, 13: {'sum': 109147, 'bias': 28549}, 25: {'sum': 124216, 'bias': 10760}, 12: {'sum': 50552, 'bias': -4146}, 14: {'sum': 14749, 'bias': -5769}, 20: {'sum': 61395, 'bias': 47}, 26: {'sum': 99214, 'bias': -10336}, 4: {'sum': 92130, 'bias': 12666}, 11: {'sum': 120391, 'bias': 40989}, 21: {'sum': 45525, 'bias': 2633}, 10: {'sum': 34340, 'bias': 74}, 5: {'sum': 31672, 'bias': 714}, 7: {'sum': 18346, 'bias': 5308}, 15: {'sum': 30117, 'bias': -11561}, 19: {'sum': 49168, 'bias': 20300}, 23: {'sum': 37776, 'bias': 2416}, 6: {'sum': 3949, 'bias': -1583}, 9: {'sum': 42838, 'bias': 16860}, 8: {'sum': 11139, 'bias': 4293}, 28: {'sum': 45712, 'bias': 88}, 27: {'sum': 40180, 'bias': 1400}, 18: {'sum': 54848, 'bias': 878}, 22: {'sum': 9192, 'bias': -3030}, 17: {'sum': 31935, 'bias': 12565}})"
      ]
     },
     "execution_count": 69,
     "metadata": {},
     "output_type": "execute_result"
    }
   ],
   "source": [
    "G.nodes(data = True)"
   ]
  },
  {
   "cell_type": "code",
   "execution_count": null,
   "id": "d05a00aa",
   "metadata": {
    "id": "d05a00aa",
    "outputId": "4fd44c3e-4cdd-4d89-da26-55bcf1382cad"
   },
   "outputs": [
    {
     "name": "stdout",
     "output_type": "stream",
     "text": [
      "315268.2\n"
     ]
    }
   ],
   "source": [
    "for i,d in G.nodes(data = True):\n",
    "    for j in range(data.shape[0]):\n",
    "        if data.iloc[j,0] == i: ## if data node equal to the G.node\n",
    "            d[\"sum\"] = data.iloc[j,4]\n",
    "            d[\"bias\"] = data.iloc[j,3]\n",
    "            \n",
    "p=5\n",
    "avg_pop = sum(data[\"sum\"])/p\n",
    "tolerance = 0.5\n",
    "\n",
    "print(avg_pop)"
   ]
  },
  {
   "cell_type": "code",
   "execution_count": null,
   "id": "c7dad064",
   "metadata": {
    "id": "c7dad064"
   },
   "outputs": [],
   "source": [
    "distance = {}\n",
    "for i in G.nodes():\n",
    "    for j in G.nodes():\n",
    "        distance[(i,j)] = nx.shortest_path_length(G, i, j)"
   ]
  },
  {
   "cell_type": "code",
   "execution_count": null,
   "id": "fcba2d47",
   "metadata": {
    "id": "fcba2d47"
   },
   "outputs": [],
   "source": [
    "model = Model(\"Taichung_re-distribution\")\n",
    "y_edges = {}\n",
    "\n",
    "for i in G.nodes():\n",
    "    for j in G.nodes():\n",
    "        y_edges[(i,j)] =model.addVar(vtype=GRB.BINARY, name='y_edges('+str(i)+','+str(j)+')')"
   ]
  },
  {
   "cell_type": "code",
   "execution_count": null,
   "id": "aa0c2b36",
   "metadata": {
    "id": "aa0c2b36",
    "outputId": "4b8df9cf-21fd-4155-bb2a-1e3899a70382"
   },
   "outputs": [
    {
     "data": {
      "text/plain": [
       "<gurobi.Constr *Awaiting Model Update*>"
      ]
     },
     "execution_count": 73,
     "metadata": {},
     "output_type": "execute_result"
    }
   ],
   "source": [
    "# Add constraint xii\n",
    "expr = 0\n",
    "for i in G.nodes():\n",
    "    expr += y_edges[(i,i)]\n",
    "model.addConstr(expr == p)"
   ]
  },
  {
   "cell_type": "code",
   "execution_count": null,
   "id": "1711871f",
   "metadata": {
    "id": "1711871f"
   },
   "outputs": [],
   "source": [
    "for i in G.nodes():\n",
    "    head_to_tail = 0\n",
    "    for j in G.nodes():\n",
    "            head_to_tail += y_edges[(i,j)]\n",
    "    model.addConstr(head_to_tail == 1)"
   ]
  },
  {
   "cell_type": "code",
   "execution_count": null,
   "id": "57e3c740",
   "metadata": {
    "id": "57e3c740"
   },
   "outputs": [],
   "source": [
    "for j in G.nodes():\n",
    "    for i in G.nodes():\n",
    "            model.addConstr(y_edges[(i,j)] <= y_edges[(j,j)])"
   ]
  },
  {
   "cell_type": "code",
   "execution_count": null,
   "id": "f1b84457",
   "metadata": {
    "id": "f1b84457"
   },
   "outputs": [],
   "source": [
    "# Add constraint xii\n",
    "for j in G.nodes():\n",
    "    summary = 0\n",
    "    for i,d1 in G.nodes(data = True):\n",
    "            summary += y_edges[(i,j)]*d1[\"sum\"]\n",
    "    model.addConstr(summary <= avg_pop*(1 + tolerance)*y_edges[(j,j)])\n",
    "    model.addConstr(summary >= avg_pop*(1 - tolerance)*y_edges[(j,j)])"
   ]
  },
  {
   "cell_type": "code",
   "execution_count": null,
   "id": "0473caa7",
   "metadata": {
    "id": "0473caa7"
   },
   "outputs": [],
   "source": [
    "obj = 0\n",
    "for i in G.nodes():\n",
    "    for j in G.nodes():\n",
    "        obj += distance[(i,j)]*y_edges[(i,j)]\n",
    "model.setObjective(obj, GRB.MINIMIZE)"
   ]
  },
  {
   "cell_type": "code",
   "execution_count": null,
   "id": "58463bd3",
   "metadata": {
    "id": "58463bd3"
   },
   "outputs": [],
   "source": [
    "model.write(\"test2.lp\")"
   ]
  },
  {
   "cell_type": "code",
   "execution_count": null,
   "id": "36855379",
   "metadata": {
    "id": "36855379",
    "outputId": "e3433c1b-b897-4842-e516-7e34adeded7d"
   },
   "outputs": [
    {
     "name": "stdout",
     "output_type": "stream",
     "text": [
      "Gurobi Optimizer version 10.0.0 build v10.0.0rc2 (mac64[rosetta2])\n",
      "\n",
      "CPU model: Apple M2\n",
      "Thread count: 8 physical cores, 8 logical processors, using up to 8 threads\n",
      "\n",
      "Optimize a model with 929 rows, 841 columns and 4176 nonzeros\n",
      "Model fingerprint: 0xdde549f2\n",
      "Variable types: 0 continuous, 841 integer (841 binary)\n",
      "Coefficient statistics:\n",
      "  Matrix range     [1e+00, 5e+05]\n",
      "  Objective range  [1e+00, 5e+00]\n",
      "  Bounds range     [1e+00, 1e+00]\n",
      "  RHS range        [1e+00, 5e+00]\n",
      "Presolve removed 29 rows and 0 columns\n",
      "Presolve time: 0.01s\n",
      "Presolved: 900 rows, 841 columns, 4176 nonzeros\n",
      "Variable types: 0 continuous, 841 integer (841 binary)\n",
      "Found heuristic solution: objective 33.0000000\n",
      "\n",
      "Root relaxation: objective 2.500000e+01, 170 iterations, 0.00 seconds (0.00 work units)\n",
      "\n",
      "    Nodes    |    Current Node    |     Objective Bounds      |     Work\n",
      " Expl Unexpl |  Obj  Depth IntInf | Incumbent    BestBd   Gap | It/Node Time\n",
      "\n",
      "*    0     0               0      25.0000000   25.00000  0.00%     -    0s\n",
      "\n",
      "Explored 1 nodes (170 simplex iterations) in 0.02 seconds (0.02 work units)\n",
      "Thread count was 8 (of 8 available processors)\n",
      "\n",
      "Solution count 2: 25 33 \n",
      "\n",
      "Optimal solution found (tolerance 1.00e-04)\n",
      "Best objective 2.500000000000e+01, best bound 2.500000000000e+01, gap 0.0000%\n"
     ]
    }
   ],
   "source": [
    "model.optimize()"
   ]
  },
  {
   "cell_type": "code",
   "execution_count": null,
   "id": "84dda32a",
   "metadata": {
    "id": "84dda32a",
    "outputId": "73140843-2966-430f-e48e-81c6e60a3b6c"
   },
   "outputs": [
    {
     "data": {
      "text/plain": [
       "25.0"
      ]
     },
     "execution_count": 80,
     "metadata": {},
     "output_type": "execute_result"
    }
   ],
   "source": [
    "obj.getValue()"
   ]
  },
  {
   "cell_type": "code",
   "execution_count": null,
   "id": "58acef83",
   "metadata": {
    "id": "58acef83"
   },
   "outputs": [],
   "source": [
    "cluster_group = {}"
   ]
  },
  {
   "cell_type": "code",
   "execution_count": null,
   "id": "17bbdaa0",
   "metadata": {
    "id": "17bbdaa0",
    "outputId": "dc94db4c-74fa-4c72-87b2-4dc4abc33457"
   },
   "outputs": [
    {
     "name": "stdout",
     "output_type": "stream",
     "text": [
      "<gurobi.Var y_edges(2,2) (value 1.0)>\n",
      "<gurobi.Var y_edges(25,25) (value 1.0)>\n",
      "<gurobi.Var y_edges(14,14) (value 1.0)>\n",
      "<gurobi.Var y_edges(11,11) (value 1.0)>\n",
      "<gurobi.Var y_edges(19,19) (value 1.0)>\n"
     ]
    }
   ],
   "source": [
    "for j in G.nodes():\n",
    "    if y_edges[(j,j)].X == 1:\n",
    "        cluster_group[j] = []\n",
    "#         cluster_group[j].append(j)\n",
    "        print(y_edges[(j,j)])"
   ]
  },
  {
   "cell_type": "code",
   "execution_count": null,
   "id": "0b87a285",
   "metadata": {
    "id": "0b87a285",
    "outputId": "2ebb6901-2d30-4b18-b9f3-5b2a93448ec1"
   },
   "outputs": [
    {
     "name": "stdout",
     "output_type": "stream",
     "text": [
      "<gurobi.Var y_edges(0,25) (value 1.0)>\n",
      "<gurobi.Var y_edges(1,2) (value 1.0)>\n",
      "<gurobi.Var y_edges(3,11) (value 1.0)>\n",
      "<gurobi.Var y_edges(16,11) (value 1.0)>\n",
      "<gurobi.Var y_edges(24,25) (value 1.0)>\n",
      "<gurobi.Var y_edges(2,2) (value 1.0)>\n",
      "<gurobi.Var y_edges(13,14) (value 1.0)>\n",
      "<gurobi.Var y_edges(25,25) (value 1.0)>\n",
      "<gurobi.Var y_edges(12,2) (value 1.0)>\n",
      "<gurobi.Var y_edges(14,14) (value 1.0)>\n",
      "<gurobi.Var y_edges(20,2) (value 1.0)>\n",
      "<gurobi.Var y_edges(26,2) (value 1.0)>\n",
      "<gurobi.Var y_edges(4,25) (value 1.0)>\n",
      "<gurobi.Var y_edges(11,11) (value 1.0)>\n",
      "<gurobi.Var y_edges(21,11) (value 1.0)>\n",
      "<gurobi.Var y_edges(10,25) (value 1.0)>\n",
      "<gurobi.Var y_edges(5,19) (value 1.0)>\n",
      "<gurobi.Var y_edges(7,19) (value 1.0)>\n",
      "<gurobi.Var y_edges(15,14) (value 1.0)>\n",
      "<gurobi.Var y_edges(19,19) (value 1.0)>\n",
      "<gurobi.Var y_edges(23,19) (value 1.0)>\n",
      "<gurobi.Var y_edges(6,14) (value 1.0)>\n",
      "<gurobi.Var y_edges(9,19) (value 1.0)>\n",
      "<gurobi.Var y_edges(8,19) (value 1.0)>\n",
      "<gurobi.Var y_edges(28,25) (value 1.0)>\n",
      "<gurobi.Var y_edges(27,11) (value 1.0)>\n",
      "<gurobi.Var y_edges(18,25) (value 1.0)>\n",
      "<gurobi.Var y_edges(22,14) (value 1.0)>\n",
      "<gurobi.Var y_edges(17,19) (value 1.0)>\n"
     ]
    }
   ],
   "source": [
    "for i in G.nodes():\n",
    "    for j in G.nodes():\n",
    "        if y_edges[(i,j)].X == 1:\n",
    "            cluster_group[j].append(i)\n",
    "            print(y_edges[(i,j)])"
   ]
  },
  {
   "cell_type": "code",
   "execution_count": null,
   "id": "9b10dc07",
   "metadata": {
    "id": "9b10dc07",
    "outputId": "4b47905b-9f43-405a-f6e7-68d862a415de"
   },
   "outputs": [
    {
     "name": "stdout",
     "output_type": "stream",
     "text": [
      "{2: [1, 2, 12, 20, 26], 25: [0, 24, 25, 4, 10, 28, 18], 14: [13, 14, 15, 6, 22], 11: [3, 16, 11, 21, 27], 19: [5, 7, 19, 23, 9, 8, 17]}\n"
     ]
    }
   ],
   "source": [
    "print(cluster_group)"
   ]
  },
  {
   "cell_type": "code",
   "execution_count": null,
   "id": "c30435fe",
   "metadata": {
    "id": "c30435fe",
    "outputId": "cd5ad3e3-27c0-447b-96fa-76dd8dff07eb"
   },
   "outputs": [
    {
     "data": {
      "text/plain": [
       "{2: 435365, 25: 426583, 14: 167154, 11: 324365, 19: 222874}"
      ]
     },
     "execution_count": 85,
     "metadata": {},
     "output_type": "execute_result"
    }
   ],
   "source": [
    "summary_pop = {}\n",
    "for j in cluster_group:\n",
    "    local_pop = 0\n",
    "    for k in cluster_group[j]:\n",
    "        for i,d in G.nodes(data = True):\n",
    "            if i == k:\n",
    "                local_pop += d[\"sum\"]\n",
    "    summary_pop[j] = local_pop    \n",
    "summary_pop"
   ]
  },
  {
   "cell_type": "code",
   "execution_count": null,
   "id": "ac6443cb",
   "metadata": {
    "id": "ac6443cb",
    "outputId": "cc06b8d0-08dc-46e8-da91-6845f97096fc"
   },
   "outputs": [
    {
     "data": {
      "text/plain": [
       "{2: [1, 2, 12, 20, 26],\n",
       " 25: [0, 24, 25, 4, 10, 28, 18],\n",
       " 14: [13, 14, 15, 6, 22],\n",
       " 11: [3, 16, 11, 21, 27],\n",
       " 19: [5, 7, 19, 23, 9, 8, 17]}"
      ]
     },
     "execution_count": 86,
     "metadata": {},
     "output_type": "execute_result"
    }
   ],
   "source": [
    "cluster_group"
   ]
  },
  {
   "cell_type": "code",
   "execution_count": null,
   "id": "d075e61a",
   "metadata": {
    "id": "d075e61a",
    "outputId": "6ff6625c-4f55-49ee-8af8-cd4f62af7c29"
   },
   "outputs": [
    {
     "data": {
      "image/png": "[encoded data removed]",
      "text/plain": [
       "<Figure size 640x480 with 1 Axes>"
      ]
     },
     "metadata": {},
     "output_type": "display_data"
    }
   ],
   "source": [
    "nx.draw(G,pos, with_labels=True, node_size=500,  node_color='yellow', alpha = 0.9, edge_color = \"black\", width=0.1)\n",
    "color = [\"red\", \"gold\", \"greenyellow\", \"blue\", \"purple\", \"darkviolet\", \"deeppink\", \"crimson\", \"black\", \"turquoise\"]\n",
    "for cluster in range(len(list(cluster_group.keys()))):\n",
    "    H = G.subgraph(cluster_group[list(cluster_group.keys())[cluster]])\n",
    "    T = nx.minimum_spanning_tree(H)\n",
    "    ered=[(i,j) for (i,j) in T.edges()] \n",
    "    nx.draw_networkx_edges(G,pos,edgelist=ered, edge_color=color[cluster], width=5)"
   ]
  },
  {
   "cell_type": "code",
   "execution_count": null,
   "id": "b2b4d7f1",
   "metadata": {
    "id": "b2b4d7f1",
    "outputId": "3ee60132-d3bf-4d0b-8ea7-99dafd797600"
   },
   "outputs": [
    {
     "data": {
      "text/plain": [
       "dict_items([(2, [1, 2, 12, 20, 26]), (25, [0, 24, 25, 4, 10, 28, 18]), (14, [13, 14, 15, 6, 22]), (11, [3, 16, 11, 21, 27]), (19, [5, 7, 19, 23, 9, 8, 17])])"
      ]
     },
     "execution_count": 88,
     "metadata": {},
     "output_type": "execute_result"
    }
   ],
   "source": [
    "cluster_group.items()"
   ]
  },
  {
   "cell_type": "markdown",
   "id": "6b06ac90",
   "metadata": {
    "id": "6b06ac90"
   },
   "source": [
    "### p = 4"
   ]
  },
  {
   "cell_type": "code",
   "execution_count": null,
   "id": "7701f382",
   "metadata": {
    "id": "7701f382",
    "outputId": "8fe2b670-2f28-470a-c052-645aebfa0381"
   },
   "outputs": [
    {
     "data": {
      "text/plain": [
       "NodeDataView({0: {'sum': 9459, 'bias': 1775}, 1: {'sum': 77786, 'bias': 1242}, 3: {'sum': 73087, 'bias': 10049}, 16: {'sum': 45182, 'bias': 8136}, 24: {'sum': 65878, 'bias': 12690}, 2: {'sum': 146418, 'bias': 4030}, 13: {'sum': 109147, 'bias': 28549}, 25: {'sum': 124216, 'bias': 10760}, 12: {'sum': 50552, 'bias': -4146}, 14: {'sum': 14749, 'bias': -5769}, 20: {'sum': 61395, 'bias': 47}, 26: {'sum': 99214, 'bias': -10336}, 4: {'sum': 92130, 'bias': 12666}, 11: {'sum': 120391, 'bias': 40989}, 21: {'sum': 45525, 'bias': 2633}, 10: {'sum': 34340, 'bias': 74}, 5: {'sum': 31672, 'bias': 714}, 7: {'sum': 18346, 'bias': 5308}, 15: {'sum': 30117, 'bias': -11561}, 19: {'sum': 49168, 'bias': 20300}, 23: {'sum': 37776, 'bias': 2416}, 6: {'sum': 3949, 'bias': -1583}, 9: {'sum': 42838, 'bias': 16860}, 8: {'sum': 11139, 'bias': 4293}, 28: {'sum': 45712, 'bias': 88}, 27: {'sum': 40180, 'bias': 1400}, 18: {'sum': 54848, 'bias': 878}, 22: {'sum': 9192, 'bias': -3030}, 17: {'sum': 31935, 'bias': 12565}})"
      ]
     },
     "execution_count": 89,
     "metadata": {},
     "output_type": "execute_result"
    }
   ],
   "source": [
    "G.nodes(data = True)"
   ]
  },
  {
   "cell_type": "code",
   "execution_count": null,
   "id": "33c38836",
   "metadata": {
    "id": "33c38836",
    "outputId": "f1a64e77-d8f7-4d02-ee85-862a6f4f8092"
   },
   "outputs": [
    {
     "name": "stdout",
     "output_type": "stream",
     "text": [
      "394085.25\n"
     ]
    }
   ],
   "source": [
    "for i,d in G.nodes(data = True):\n",
    "    for j in range(data.shape[0]):\n",
    "        if data.iloc[j,0] == i: ## if data node equal to the G.node\n",
    "            d[\"sum\"] = data.iloc[j,4]\n",
    "            d[\"bias\"] = data.iloc[j,3]\n",
    "            \n",
    "p=4\n",
    "avg_pop = sum(data[\"sum\"])/p\n",
    "tolerance = 0.5\n",
    "\n",
    "print(avg_pop)"
   ]
  },
  {
   "cell_type": "code",
   "execution_count": null,
   "id": "6b3e4dff",
   "metadata": {
    "id": "6b3e4dff"
   },
   "outputs": [],
   "source": [
    "distance = {}\n",
    "for i in G.nodes():\n",
    "    for j in G.nodes():\n",
    "        distance[(i,j)] = nx.shortest_path_length(G, i, j)"
   ]
  },
  {
   "cell_type": "code",
   "execution_count": null,
   "id": "986fdad3",
   "metadata": {
    "id": "986fdad3"
   },
   "outputs": [],
   "source": [
    "model = Model(\"Taichung_re-distribution\")\n",
    "y_edges = {}\n",
    "\n",
    "for i in G.nodes():\n",
    "    for j in G.nodes():\n",
    "        y_edges[(i,j)] =model.addVar(vtype=GRB.BINARY, name='y_edges('+str(i)+','+str(j)+')')"
   ]
  },
  {
   "cell_type": "code",
   "execution_count": null,
   "id": "56085612",
   "metadata": {
    "id": "56085612",
    "outputId": "3e6799a8-c63b-4da7-bd7c-5b8041bc1f43"
   },
   "outputs": [
    {
     "data": {
      "text/plain": [
       "<gurobi.Constr *Awaiting Model Update*>"
      ]
     },
     "execution_count": 93,
     "metadata": {},
     "output_type": "execute_result"
    }
   ],
   "source": [
    "# Add constraint xii\n",
    "expr = 0\n",
    "for i in G.nodes():\n",
    "    expr += y_edges[(i,i)]\n",
    "model.addConstr(expr == p)"
   ]
  },
  {
   "cell_type": "code",
   "execution_count": null,
   "id": "99943ab4",
   "metadata": {
    "id": "99943ab4"
   },
   "outputs": [],
   "source": [
    "for i in G.nodes():\n",
    "    head_to_tail = 0\n",
    "    for j in G.nodes():\n",
    "            head_to_tail += y_edges[(i,j)]\n",
    "    model.addConstr(head_to_tail == 1)"
   ]
  },
  {
   "cell_type": "code",
   "execution_count": null,
   "id": "565756c9",
   "metadata": {
    "id": "565756c9"
   },
   "outputs": [],
   "source": [
    "for j in G.nodes():\n",
    "    for i in G.nodes():\n",
    "            model.addConstr(y_edges[(i,j)] <= y_edges[(j,j)])"
   ]
  },
  {
   "cell_type": "code",
   "execution_count": null,
   "id": "e6a50d6f",
   "metadata": {
    "id": "e6a50d6f"
   },
   "outputs": [],
   "source": [
    "# Add constraint xii\n",
    "for j in G.nodes():\n",
    "    summary = 0\n",
    "    for i,d1 in G.nodes(data = True):\n",
    "            summary += y_edges[(i,j)]*d1[\"sum\"]\n",
    "    model.addConstr(summary <= avg_pop*(1 + tolerance)*y_edges[(j,j)])\n",
    "    model.addConstr(summary >= avg_pop*(1 - tolerance)*y_edges[(j,j)])"
   ]
  },
  {
   "cell_type": "code",
   "execution_count": null,
   "id": "3547c855",
   "metadata": {
    "id": "3547c855"
   },
   "outputs": [],
   "source": [
    "obj = 0\n",
    "for i in G.nodes():\n",
    "    for j in G.nodes():\n",
    "        obj += distance[(i,j)]*y_edges[(i,j)]\n",
    "model.setObjective(obj, GRB.MINIMIZE)"
   ]
  },
  {
   "cell_type": "code",
   "execution_count": null,
   "id": "f65e033c",
   "metadata": {
    "id": "f65e033c"
   },
   "outputs": [],
   "source": [
    "model.write(\"test2.lp\")"
   ]
  },
  {
   "cell_type": "code",
   "execution_count": null,
   "id": "15ace41e",
   "metadata": {
    "id": "15ace41e",
    "outputId": "3b8fbb6c-4b5c-4c7d-ed1b-78d0537c753d"
   },
   "outputs": [
    {
     "name": "stdout",
     "output_type": "stream",
     "text": [
      "Gurobi Optimizer version 10.0.0 build v10.0.0rc2 (mac64[rosetta2])\n",
      "\n",
      "CPU model: Apple M2\n",
      "Thread count: 8 physical cores, 8 logical processors, using up to 8 threads\n",
      "\n",
      "Optimize a model with 929 rows, 841 columns and 4176 nonzeros\n",
      "Model fingerprint: 0x728fa590\n",
      "Variable types: 0 continuous, 841 integer (841 binary)\n",
      "Coefficient statistics:\n",
      "  Matrix range     [1e+00, 6e+05]\n",
      "  Objective range  [1e+00, 5e+00]\n",
      "  Bounds range     [1e+00, 1e+00]\n",
      "  RHS range        [1e+00, 4e+00]\n",
      "Presolve removed 29 rows and 0 columns\n",
      "Presolve time: 0.01s\n",
      "Presolved: 900 rows, 841 columns, 4176 nonzeros\n",
      "Variable types: 0 continuous, 841 integer (841 binary)\n",
      "Found heuristic solution: objective 39.0000000\n",
      "\n",
      "Root relaxation: objective 2.700000e+01, 185 iterations, 0.00 seconds (0.00 work units)\n",
      "\n",
      "    Nodes    |    Current Node    |     Objective Bounds      |     Work\n",
      " Expl Unexpl |  Obj  Depth IntInf | Incumbent    BestBd   Gap | It/Node Time\n",
      "\n",
      "     0     0   27.00000    0    2   39.00000   27.00000  30.8%     -    0s\n",
      "H    0     0                      27.0000000   27.00000  0.00%     -    0s\n",
      "     0     0   27.00000    0    2   27.00000   27.00000  0.00%     -    0s\n",
      "\n",
      "Explored 1 nodes (185 simplex iterations) in 0.02 seconds (0.02 work units)\n",
      "Thread count was 8 (of 8 available processors)\n",
      "\n",
      "Solution count 2: 27 39 \n",
      "\n",
      "Optimal solution found (tolerance 1.00e-04)\n",
      "Best objective 2.700000000000e+01, best bound 2.700000000000e+01, gap 0.0000%\n"
     ]
    }
   ],
   "source": [
    "model.optimize()"
   ]
  },
  {
   "cell_type": "code",
   "execution_count": null,
   "id": "ffe6d1a3",
   "metadata": {
    "id": "ffe6d1a3",
    "outputId": "f511a151-6f0f-4eaa-fd1c-75ab251a6749"
   },
   "outputs": [
    {
     "data": {
      "text/plain": [
       "27.0"
      ]
     },
     "execution_count": 100,
     "metadata": {},
     "output_type": "execute_result"
    }
   ],
   "source": [
    "obj.getValue()"
   ]
  },
  {
   "cell_type": "code",
   "execution_count": null,
   "id": "a5b98e75",
   "metadata": {
    "id": "a5b98e75"
   },
   "outputs": [],
   "source": [
    "cluster_group = {}"
   ]
  },
  {
   "cell_type": "code",
   "execution_count": null,
   "id": "13202a5e",
   "metadata": {
    "id": "13202a5e",
    "outputId": "1ed38864-ca33-445b-c338-93521ea175ea"
   },
   "outputs": [
    {
     "name": "stdout",
     "output_type": "stream",
     "text": [
      "<gurobi.Var y_edges(1,1) (value 1.0)>\n",
      "<gurobi.Var y_edges(21,21) (value 1.0)>\n",
      "<gurobi.Var y_edges(15,15) (value 1.0)>\n",
      "<gurobi.Var y_edges(19,19) (value 1.0)>\n"
     ]
    }
   ],
   "source": [
    "for j in G.nodes():\n",
    "    if y_edges[(j,j)].X == 1:\n",
    "        cluster_group[j] = []\n",
    "#         cluster_group[j].append(j)\n",
    "        print(y_edges[(j,j)])"
   ]
  },
  {
   "cell_type": "code",
   "execution_count": null,
   "id": "270e5aea",
   "metadata": {
    "id": "270e5aea",
    "outputId": "50ad60e0-b9e6-4f96-8465-b6cd2699d19c"
   },
   "outputs": [
    {
     "name": "stdout",
     "output_type": "stream",
     "text": [
      "<gurobi.Var y_edges(0,1) (value 1.0)>\n",
      "<gurobi.Var y_edges(1,1) (value 1.0)>\n",
      "<gurobi.Var y_edges(3,21) (value 1.0)>\n",
      "<gurobi.Var y_edges(16,1) (value 1.0)>\n",
      "<gurobi.Var y_edges(24,1) (value 1.0)>\n",
      "<gurobi.Var y_edges(2,1) (value 1.0)>\n",
      "<gurobi.Var y_edges(13,1) (value 1.0)>\n",
      "<gurobi.Var y_edges(25,1) (value 1.0)>\n",
      "<gurobi.Var y_edges(12,19) (value 1.0)>\n",
      "<gurobi.Var y_edges(14,15) (value 1.0)>\n",
      "<gurobi.Var y_edges(20,15) (value 1.0)>\n",
      "<gurobi.Var y_edges(26,15) (value 1.0)>\n",
      "<gurobi.Var y_edges(4,21) (value 1.0)>\n",
      "<gurobi.Var y_edges(11,21) (value 1.0)>\n",
      "<gurobi.Var y_edges(21,21) (value 1.0)>\n",
      "<gurobi.Var y_edges(10,21) (value 1.0)>\n",
      "<gurobi.Var y_edges(5,15) (value 1.0)>\n",
      "<gurobi.Var y_edges(7,19) (value 1.0)>\n",
      "<gurobi.Var y_edges(15,15) (value 1.0)>\n",
      "<gurobi.Var y_edges(19,19) (value 1.0)>\n",
      "<gurobi.Var y_edges(23,19) (value 1.0)>\n",
      "<gurobi.Var y_edges(6,15) (value 1.0)>\n",
      "<gurobi.Var y_edges(9,19) (value 1.0)>\n",
      "<gurobi.Var y_edges(8,19) (value 1.0)>\n",
      "<gurobi.Var y_edges(28,19) (value 1.0)>\n",
      "<gurobi.Var y_edges(27,21) (value 1.0)>\n",
      "<gurobi.Var y_edges(18,19) (value 1.0)>\n",
      "<gurobi.Var y_edges(22,15) (value 1.0)>\n",
      "<gurobi.Var y_edges(17,19) (value 1.0)>\n"
     ]
    }
   ],
   "source": [
    "for i in G.nodes():\n",
    "    for j in G.nodes():\n",
    "        if y_edges[(i,j)].X == 1:\n",
    "            cluster_group[j].append(i)\n",
    "            print(y_edges[(i,j)])"
   ]
  },
  {
   "cell_type": "code",
   "execution_count": null,
   "id": "49370f63",
   "metadata": {
    "id": "49370f63",
    "outputId": "bff489e0-199a-4553-9599-2a64e0e464c1"
   },
   "outputs": [
    {
     "name": "stdout",
     "output_type": "stream",
     "text": [
      "{1: [0, 1, 16, 24, 2, 13, 25], 21: [3, 4, 11, 21, 10, 27], 15: [14, 20, 26, 5, 15, 6, 22], 19: [12, 7, 19, 23, 9, 8, 28, 18, 17]}\n"
     ]
    }
   ],
   "source": [
    "print(cluster_group)"
   ]
  },
  {
   "cell_type": "code",
   "execution_count": null,
   "id": "f803f82a",
   "metadata": {
    "id": "f803f82a",
    "outputId": "b0b85d69-09d5-4425-e729-3c1f940daef0"
   },
   "outputs": [
    {
     "data": {
      "text/plain": [
       "{1: 578086, 21: 405653, 15: 250288, 19: 342314}"
      ]
     },
     "execution_count": 105,
     "metadata": {},
     "output_type": "execute_result"
    }
   ],
   "source": [
    "summary_pop = {}\n",
    "for j in cluster_group:\n",
    "    local_pop = 0\n",
    "    for k in cluster_group[j]:\n",
    "        for i,d in G.nodes(data = True):\n",
    "            if i == k:\n",
    "                local_pop += d[\"sum\"]\n",
    "    summary_pop[j] = local_pop    \n",
    "summary_pop"
   ]
  },
  {
   "cell_type": "code",
   "execution_count": null,
   "id": "9280fdea",
   "metadata": {
    "id": "9280fdea",
    "outputId": "60453a8e-a13b-424c-96bc-dbf98568ae7c"
   },
   "outputs": [
    {
     "data": {
      "text/plain": [
       "{1: [0, 1, 16, 24, 2, 13, 25],\n",
       " 21: [3, 4, 11, 21, 10, 27],\n",
       " 15: [14, 20, 26, 5, 15, 6, 22],\n",
       " 19: [12, 7, 19, 23, 9, 8, 28, 18, 17]}"
      ]
     },
     "execution_count": 106,
     "metadata": {},
     "output_type": "execute_result"
    }
   ],
   "source": [
    "cluster_group"
   ]
  },
  {
   "cell_type": "code",
   "execution_count": null,
   "id": "28c3b842",
   "metadata": {
    "id": "28c3b842",
    "outputId": "ba98fa34-d23c-4ae6-9660-13ddc1bb4f38"
   },
   "outputs": [
    {
     "data": {
      "image/png": "[encoded data removed]",
      "text/plain": [
       "<Figure size 640x480 with 1 Axes>"
      ]
     },
     "metadata": {},
     "output_type": "display_data"
    }
   ],
   "source": [
    "nx.draw(G,pos, with_labels=True, node_size=500,  node_color='yellow', alpha = 0.9, edge_color = \"black\", width=0.1)\n",
    "color = [\"red\", \"gold\", \"greenyellow\", \"blue\", \"purple\", \"darkviolet\", \"deeppink\", \"crimson\", \"black\", \"turquoise\"]\n",
    "for cluster in range(len(list(cluster_group.keys()))):\n",
    "    H = G.subgraph(cluster_group[list(cluster_group.keys())[cluster]])\n",
    "    T = nx.minimum_spanning_tree(H)\n",
    "    ered=[(i,j) for (i,j) in T.edges()] \n",
    "    nx.draw_networkx_edges(G,pos,edgelist=ered, edge_color=color[cluster], width=5)"
   ]
  },
  {
   "cell_type": "code",
   "execution_count": null,
   "id": "ae74cd32",
   "metadata": {
    "id": "ae74cd32",
    "outputId": "16a0e703-9d5c-4029-e8d9-8490d18592cd"
   },
   "outputs": [
    {
     "data": {
      "text/plain": [
       "dict_items([(1, [0, 1, 16, 24, 2, 13, 25]), (21, [3, 4, 11, 21, 10, 27]), (15, [14, 20, 26, 5, 15, 6, 22]), (19, [12, 7, 19, 23, 9, 8, 28, 18, 17])])"
      ]
     },
     "execution_count": 108,
     "metadata": {},
     "output_type": "execute_result"
    }
   ],
   "source": [
    "cluster_group.items()"
   ]
  },
  {
   "cell_type": "markdown",
   "id": "5e08e388",
   "metadata": {
    "id": "5e08e388"
   },
   "source": [
    "### p = 3"
   ]
  },
  {
   "cell_type": "code",
   "execution_count": null,
   "id": "f29ae3cf",
   "metadata": {
    "id": "f29ae3cf",
    "outputId": "ef9cef81-78fa-4d60-ba14-0faba095a69f"
   },
   "outputs": [
    {
     "data": {
      "text/plain": [
       "NodeDataView({0: {'sum': 9459, 'bias': 1775}, 1: {'sum': 77786, 'bias': 1242}, 3: {'sum': 73087, 'bias': 10049}, 16: {'sum': 45182, 'bias': 8136}, 24: {'sum': 65878, 'bias': 12690}, 2: {'sum': 146418, 'bias': 4030}, 13: {'sum': 109147, 'bias': 28549}, 25: {'sum': 124216, 'bias': 10760}, 12: {'sum': 50552, 'bias': -4146}, 14: {'sum': 14749, 'bias': -5769}, 20: {'sum': 61395, 'bias': 47}, 26: {'sum': 99214, 'bias': -10336}, 4: {'sum': 92130, 'bias': 12666}, 11: {'sum': 120391, 'bias': 40989}, 21: {'sum': 45525, 'bias': 2633}, 10: {'sum': 34340, 'bias': 74}, 5: {'sum': 31672, 'bias': 714}, 7: {'sum': 18346, 'bias': 5308}, 15: {'sum': 30117, 'bias': -11561}, 19: {'sum': 49168, 'bias': 20300}, 23: {'sum': 37776, 'bias': 2416}, 6: {'sum': 3949, 'bias': -1583}, 9: {'sum': 42838, 'bias': 16860}, 8: {'sum': 11139, 'bias': 4293}, 28: {'sum': 45712, 'bias': 88}, 27: {'sum': 40180, 'bias': 1400}, 18: {'sum': 54848, 'bias': 878}, 22: {'sum': 9192, 'bias': -3030}, 17: {'sum': 31935, 'bias': 12565}})"
      ]
     },
     "execution_count": 109,
     "metadata": {},
     "output_type": "execute_result"
    }
   ],
   "source": [
    "G.nodes(data = True)"
   ]
  },
  {
   "cell_type": "code",
   "execution_count": null,
   "id": "cf7adc0b",
   "metadata": {
    "id": "cf7adc0b",
    "outputId": "66dc4022-44b5-4aa8-b3ab-3700aaef4033"
   },
   "outputs": [
    {
     "name": "stdout",
     "output_type": "stream",
     "text": [
      "525447.0\n"
     ]
    }
   ],
   "source": [
    "for i,d in G.nodes(data = True):\n",
    "    for j in range(data.shape[0]):\n",
    "        if data.iloc[j,0] == i: ## if data node equal to the G.node\n",
    "            d[\"sum\"] = data.iloc[j,4]\n",
    "            d[\"bias\"] = data.iloc[j,3]\n",
    "            \n",
    "p=3\n",
    "avg_pop = sum(data[\"sum\"])/p\n",
    "tolerance = 0.5\n",
    "\n",
    "print(avg_pop)"
   ]
  },
  {
   "cell_type": "code",
   "execution_count": null,
   "id": "b56ce781",
   "metadata": {
    "id": "b56ce781"
   },
   "outputs": [],
   "source": [
    "distance = {}\n",
    "for i in G.nodes():\n",
    "    for j in G.nodes():\n",
    "        distance[(i,j)] = nx.shortest_path_length(G, i, j)"
   ]
  },
  {
   "cell_type": "code",
   "execution_count": null,
   "id": "63795227",
   "metadata": {
    "id": "63795227"
   },
   "outputs": [],
   "source": [
    "model = Model(\"Taichung_re-distribution\")\n",
    "y_edges = {}\n",
    "\n",
    "for i in G.nodes():\n",
    "    for j in G.nodes():\n",
    "        y_edges[(i,j)] =model.addVar(vtype=GRB.BINARY, name='y_edges('+str(i)+','+str(j)+')')"
   ]
  },
  {
   "cell_type": "code",
   "execution_count": null,
   "id": "4fa9d82f",
   "metadata": {
    "id": "4fa9d82f",
    "outputId": "8719ce40-6b73-43a0-c904-b8800c485084"
   },
   "outputs": [
    {
     "data": {
      "text/plain": [
       "<gurobi.Constr *Awaiting Model Update*>"
      ]
     },
     "execution_count": 113,
     "metadata": {},
     "output_type": "execute_result"
    }
   ],
   "source": [
    "# Add constraint xii\n",
    "expr = 0\n",
    "for i in G.nodes():\n",
    "    expr += y_edges[(i,i)]\n",
    "model.addConstr(expr == p)"
   ]
  },
  {
   "cell_type": "code",
   "execution_count": null,
   "id": "b021973a",
   "metadata": {
    "id": "b021973a"
   },
   "outputs": [],
   "source": [
    "for i in G.nodes():\n",
    "    head_to_tail = 0\n",
    "    for j in G.nodes():\n",
    "            head_to_tail += y_edges[(i,j)]\n",
    "    model.addConstr(head_to_tail == 1)"
   ]
  },
  {
   "cell_type": "code",
   "execution_count": null,
   "id": "4241f985",
   "metadata": {
    "id": "4241f985"
   },
   "outputs": [],
   "source": [
    "for j in G.nodes():\n",
    "    for i in G.nodes():\n",
    "            model.addConstr(y_edges[(i,j)] <= y_edges[(j,j)])"
   ]
  },
  {
   "cell_type": "code",
   "execution_count": null,
   "id": "e7bf8b4e",
   "metadata": {
    "id": "e7bf8b4e"
   },
   "outputs": [],
   "source": [
    "# Add constraint xii\n",
    "for j in G.nodes():\n",
    "    summary = 0\n",
    "    for i,d1 in G.nodes(data = True):\n",
    "            summary += y_edges[(i,j)]*d1[\"sum\"]\n",
    "    model.addConstr(summary <= avg_pop*(1 + tolerance)*y_edges[(j,j)])\n",
    "    model.addConstr(summary >= avg_pop*(1 - tolerance)*y_edges[(j,j)])"
   ]
  },
  {
   "cell_type": "code",
   "execution_count": null,
   "id": "096321d0",
   "metadata": {
    "id": "096321d0"
   },
   "outputs": [],
   "source": [
    "obj = 0\n",
    "for i in G.nodes():\n",
    "    for j in G.nodes():\n",
    "        obj += distance[(i,j)]*y_edges[(i,j)]\n",
    "model.setObjective(obj, GRB.MINIMIZE)"
   ]
  },
  {
   "cell_type": "code",
   "execution_count": null,
   "id": "ccf07996",
   "metadata": {
    "id": "ccf07996"
   },
   "outputs": [],
   "source": [
    "model.write(\"test2.lp\")"
   ]
  },
  {
   "cell_type": "code",
   "execution_count": null,
   "id": "7b7a982a",
   "metadata": {
    "id": "7b7a982a",
    "outputId": "8b7c07b2-d9bb-443e-eda2-fc7ee9a32cbb"
   },
   "outputs": [
    {
     "name": "stdout",
     "output_type": "stream",
     "text": [
      "Gurobi Optimizer version 10.0.0 build v10.0.0rc2 (mac64[rosetta2])\n",
      "\n",
      "CPU model: Apple M2\n",
      "Thread count: 8 physical cores, 8 logical processors, using up to 8 threads\n",
      "\n",
      "Optimize a model with 929 rows, 841 columns and 4176 nonzeros\n",
      "Model fingerprint: 0x36164782\n",
      "Variable types: 0 continuous, 841 integer (841 binary)\n",
      "Coefficient statistics:\n",
      "  Matrix range     [1e+00, 8e+05]\n",
      "  Objective range  [1e+00, 5e+00]\n",
      "  Bounds range     [1e+00, 1e+00]\n",
      "  RHS range        [1e+00, 3e+00]\n",
      "Presolve removed 29 rows and 0 columns\n",
      "Presolve time: 0.01s\n",
      "Presolved: 900 rows, 841 columns, 4176 nonzeros\n",
      "Variable types: 0 continuous, 841 integer (841 binary)\n",
      "Found heuristic solution: objective 43.0000000\n",
      "\n",
      "Root relaxation: objective 3.200000e+01, 264 iterations, 0.00 seconds (0.00 work units)\n",
      "\n",
      "    Nodes    |    Current Node    |     Objective Bounds      |     Work\n",
      " Expl Unexpl |  Obj  Depth IntInf | Incumbent    BestBd   Gap | It/Node Time\n",
      "\n",
      "     0     0   32.00000    0    2   43.00000   32.00000  25.6%     -    0s\n",
      "H    0     0                      32.0000000   32.00000  0.00%     -    0s\n",
      "     0     0   32.00000    0    2   32.00000   32.00000  0.00%     -    0s\n",
      "\n",
      "Explored 1 nodes (264 simplex iterations) in 0.03 seconds (0.02 work units)\n",
      "Thread count was 8 (of 8 available processors)\n",
      "\n",
      "Solution count 2: 32 43 \n",
      "\n",
      "Optimal solution found (tolerance 1.00e-04)\n",
      "Best objective 3.200000000000e+01, best bound 3.200000000000e+01, gap 0.0000%\n"
     ]
    }
   ],
   "source": [
    "model.optimize()"
   ]
  },
  {
   "cell_type": "code",
   "execution_count": null,
   "id": "971cf7d6",
   "metadata": {
    "id": "971cf7d6",
    "outputId": "40b5403d-2c2d-4726-d69b-e92e9ab303d4"
   },
   "outputs": [
    {
     "data": {
      "text/plain": [
       "32.0"
      ]
     },
     "execution_count": 120,
     "metadata": {},
     "output_type": "execute_result"
    }
   ],
   "source": [
    "obj.getValue()"
   ]
  },
  {
   "cell_type": "code",
   "execution_count": null,
   "id": "4920438d",
   "metadata": {
    "id": "4920438d"
   },
   "outputs": [],
   "source": [
    "cluster_group = {}"
   ]
  },
  {
   "cell_type": "code",
   "execution_count": null,
   "id": "3fcd2047",
   "metadata": {
    "id": "3fcd2047",
    "outputId": "f773b542-8774-4bba-eb52-e83d801e779e"
   },
   "outputs": [
    {
     "name": "stdout",
     "output_type": "stream",
     "text": [
      "<gurobi.Var y_edges(3,3) (value 1.0)>\n",
      "<gurobi.Var y_edges(2,2) (value 1.0)>\n",
      "<gurobi.Var y_edges(19,19) (value 1.0)>\n"
     ]
    }
   ],
   "source": [
    "for j in G.nodes():\n",
    "    if y_edges[(j,j)].X == 1:\n",
    "        cluster_group[j] = []\n",
    "#         cluster_group[j].append(j)\n",
    "        print(y_edges[(j,j)])"
   ]
  },
  {
   "cell_type": "code",
   "execution_count": null,
   "id": "4a3f358b",
   "metadata": {
    "id": "4a3f358b",
    "outputId": "cc2bbbce-fac0-4977-ff1f-99ce25ae2a27"
   },
   "outputs": [
    {
     "name": "stdout",
     "output_type": "stream",
     "text": [
      "<gurobi.Var y_edges(0,3) (value 1.0)>\n",
      "<gurobi.Var y_edges(1,2) (value 1.0)>\n",
      "<gurobi.Var y_edges(3,3) (value 1.0)>\n",
      "<gurobi.Var y_edges(16,3) (value 1.0)>\n",
      "<gurobi.Var y_edges(24,3) (value 1.0)>\n",
      "<gurobi.Var y_edges(2,2) (value 1.0)>\n",
      "<gurobi.Var y_edges(13,2) (value 1.0)>\n",
      "<gurobi.Var y_edges(25,2) (value 1.0)>\n",
      "<gurobi.Var y_edges(12,2) (value 1.0)>\n",
      "<gurobi.Var y_edges(14,2) (value 1.0)>\n",
      "<gurobi.Var y_edges(20,2) (value 1.0)>\n",
      "<gurobi.Var y_edges(26,2) (value 1.0)>\n",
      "<gurobi.Var y_edges(4,3) (value 1.0)>\n",
      "<gurobi.Var y_edges(11,3) (value 1.0)>\n",
      "<gurobi.Var y_edges(21,3) (value 1.0)>\n",
      "<gurobi.Var y_edges(10,2) (value 1.0)>\n",
      "<gurobi.Var y_edges(5,19) (value 1.0)>\n",
      "<gurobi.Var y_edges(7,19) (value 1.0)>\n",
      "<gurobi.Var y_edges(15,2) (value 1.0)>\n",
      "<gurobi.Var y_edges(19,19) (value 1.0)>\n",
      "<gurobi.Var y_edges(23,19) (value 1.0)>\n",
      "<gurobi.Var y_edges(6,2) (value 1.0)>\n",
      "<gurobi.Var y_edges(9,19) (value 1.0)>\n",
      "<gurobi.Var y_edges(8,19) (value 1.0)>\n",
      "<gurobi.Var y_edges(28,19) (value 1.0)>\n",
      "<gurobi.Var y_edges(27,3) (value 1.0)>\n",
      "<gurobi.Var y_edges(18,19) (value 1.0)>\n",
      "<gurobi.Var y_edges(22,2) (value 1.0)>\n",
      "<gurobi.Var y_edges(17,19) (value 1.0)>\n"
     ]
    }
   ],
   "source": [
    "for i in G.nodes():\n",
    "    for j in G.nodes():\n",
    "        if y_edges[(i,j)].X == 1:\n",
    "            cluster_group[j].append(i)\n",
    "            print(y_edges[(i,j)])"
   ]
  },
  {
   "cell_type": "code",
   "execution_count": null,
   "id": "bb6b4574",
   "metadata": {
    "id": "bb6b4574",
    "outputId": "31a28e4e-0683-4633-b36d-b8c563334071"
   },
   "outputs": [
    {
     "name": "stdout",
     "output_type": "stream",
     "text": [
      "{3: [0, 3, 16, 24, 4, 11, 21, 27], 2: [1, 2, 13, 25, 12, 14, 20, 26, 10, 15, 6, 22], 19: [5, 7, 19, 23, 9, 8, 28, 18, 17]}\n"
     ]
    }
   ],
   "source": [
    "print(cluster_group)"
   ]
  },
  {
   "cell_type": "code",
   "execution_count": null,
   "id": "ba358c33",
   "metadata": {
    "id": "ba358c33",
    "outputId": "932f90a5-9924-4ba4-a7c3-8d57db70812e"
   },
   "outputs": [
    {
     "data": {
      "text/plain": [
       "{3: 491832, 2: 761075, 19: 323434}"
      ]
     },
     "execution_count": 125,
     "metadata": {},
     "output_type": "execute_result"
    }
   ],
   "source": [
    "summary_pop = {}\n",
    "for j in cluster_group:\n",
    "    local_pop = 0\n",
    "    for k in cluster_group[j]:\n",
    "        for i,d in G.nodes(data = True):\n",
    "            if i == k:\n",
    "                local_pop += d[\"sum\"]\n",
    "    summary_pop[j] = local_pop    \n",
    "summary_pop"
   ]
  },
  {
   "cell_type": "code",
   "execution_count": null,
   "id": "e1017e5a",
   "metadata": {
    "id": "e1017e5a",
    "outputId": "d72386fb-6caa-494a-885e-8ce6ee6dc9e6"
   },
   "outputs": [
    {
     "data": {
      "text/plain": [
       "{3: [0, 3, 16, 24, 4, 11, 21, 27],\n",
       " 2: [1, 2, 13, 25, 12, 14, 20, 26, 10, 15, 6, 22],\n",
       " 19: [5, 7, 19, 23, 9, 8, 28, 18, 17]}"
      ]
     },
     "execution_count": 126,
     "metadata": {},
     "output_type": "execute_result"
    }
   ],
   "source": [
    "cluster_group"
   ]
  },
  {
   "cell_type": "code",
   "execution_count": null,
   "id": "7994c7b4",
   "metadata": {
    "id": "7994c7b4",
    "outputId": "8960c808-f4f1-4ce1-e544-19b61ab72dc0"
   },
   "outputs": [
    {
     "data": {
      "image/png": "[encoded data removed]",
      "text/plain": [
       "<Figure size 640x480 with 1 Axes>"
      ]
     },
     "metadata": {},
     "output_type": "display_data"
    }
   ],
   "source": [
    "nx.draw(G,pos, with_labels=True, node_size=500,  node_color='yellow', alpha = 0.9, edge_color = \"black\", width=0.1)\n",
    "color = [\"red\", \"gold\", \"greenyellow\", \"blue\", \"purple\", \"darkviolet\", \"deeppink\", \"crimson\", \"black\", \"turquoise\"]\n",
    "for cluster in range(len(list(cluster_group.keys()))):\n",
    "    H = G.subgraph(cluster_group[list(cluster_group.keys())[cluster]])\n",
    "    T = nx.minimum_spanning_tree(H)\n",
    "    ered=[(i,j) for (i,j) in T.edges()] \n",
    "    nx.draw_networkx_edges(G,pos,edgelist=ered, edge_color=color[cluster], width=5)"
   ]
  },
  {
   "cell_type": "code",
   "execution_count": null,
   "id": "dfa4353b",
   "metadata": {
    "id": "dfa4353b",
    "outputId": "7558a114-b005-4360-8440-bf7b4cae65a6"
   },
   "outputs": [
    {
     "data": {
      "text/plain": [
       "dict_items([(3, [0, 3, 16, 24, 4, 11, 21, 27]), (2, [1, 2, 13, 25, 12, 14, 20, 26, 10, 15, 6, 22]), (19, [5, 7, 19, 23, 9, 8, 28, 18, 17])])"
      ]
     },
     "execution_count": 128,
     "metadata": {},
     "output_type": "execute_result"
    }
   ],
   "source": [
    "cluster_group.items()"
   ]
  },
  {
   "cell_type": "markdown",
   "id": "09619277",
   "metadata": {
    "id": "09619277"
   },
   "source": [
    "### p = 2"
   ]
  },
  {
   "cell_type": "code",
   "execution_count": null,
   "id": "6121ac50",
   "metadata": {
    "id": "6121ac50",
    "outputId": "30f29f34-a956-4c21-f936-a81d2282c6f6"
   },
   "outputs": [
    {
     "data": {
      "text/plain": [
       "NodeDataView({0: {'sum': 9459, 'bias': 1775}, 1: {'sum': 77786, 'bias': 1242}, 3: {'sum': 73087, 'bias': 10049}, 16: {'sum': 45182, 'bias': 8136}, 24: {'sum': 65878, 'bias': 12690}, 2: {'sum': 146418, 'bias': 4030}, 13: {'sum': 109147, 'bias': 28549}, 25: {'sum': 124216, 'bias': 10760}, 12: {'sum': 50552, 'bias': -4146}, 14: {'sum': 14749, 'bias': -5769}, 20: {'sum': 61395, 'bias': 47}, 26: {'sum': 99214, 'bias': -10336}, 4: {'sum': 92130, 'bias': 12666}, 11: {'sum': 120391, 'bias': 40989}, 21: {'sum': 45525, 'bias': 2633}, 10: {'sum': 34340, 'bias': 74}, 5: {'sum': 31672, 'bias': 714}, 7: {'sum': 18346, 'bias': 5308}, 15: {'sum': 30117, 'bias': -11561}, 19: {'sum': 49168, 'bias': 20300}, 23: {'sum': 37776, 'bias': 2416}, 6: {'sum': 3949, 'bias': -1583}, 9: {'sum': 42838, 'bias': 16860}, 8: {'sum': 11139, 'bias': 4293}, 28: {'sum': 45712, 'bias': 88}, 27: {'sum': 40180, 'bias': 1400}, 18: {'sum': 54848, 'bias': 878}, 22: {'sum': 9192, 'bias': -3030}, 17: {'sum': 31935, 'bias': 12565}})"
      ]
     },
     "execution_count": 129,
     "metadata": {},
     "output_type": "execute_result"
    }
   ],
   "source": [
    "G.nodes(data = True)"
   ]
  },
  {
   "cell_type": "code",
   "execution_count": null,
   "id": "4c9b3593",
   "metadata": {
    "id": "4c9b3593",
    "outputId": "682bbfe6-42e0-4a02-d63d-9cdab7fdab04"
   },
   "outputs": [
    {
     "name": "stdout",
     "output_type": "stream",
     "text": [
      "788170.5\n"
     ]
    }
   ],
   "source": [
    "for i,d in G.nodes(data = True):\n",
    "    for j in range(data.shape[0]):\n",
    "        if data.iloc[j,0] == i: ## if data node equal to the G.node\n",
    "            d[\"sum\"] = data.iloc[j,4]\n",
    "            d[\"bias\"] = data.iloc[j,3]\n",
    "            \n",
    "p=2\n",
    "avg_pop = sum(data[\"sum\"])/p\n",
    "tolerance = 0.5\n",
    "\n",
    "print(avg_pop)"
   ]
  },
  {
   "cell_type": "code",
   "execution_count": null,
   "id": "10f9d45c",
   "metadata": {
    "id": "10f9d45c"
   },
   "outputs": [],
   "source": [
    "distance = {}\n",
    "for i in G.nodes():\n",
    "    for j in G.nodes():\n",
    "        distance[(i,j)] = nx.shortest_path_length(G, i, j)"
   ]
  },
  {
   "cell_type": "code",
   "execution_count": null,
   "id": "48d8e0dc",
   "metadata": {
    "id": "48d8e0dc"
   },
   "outputs": [],
   "source": [
    "model = Model(\"Taichung_re-distribution\")\n",
    "y_edges = {}\n",
    "\n",
    "for i in G.nodes():\n",
    "    for j in G.nodes():\n",
    "        y_edges[(i,j)] =model.addVar(vtype=GRB.BINARY, name='y_edges('+str(i)+','+str(j)+')')"
   ]
  },
  {
   "cell_type": "code",
   "execution_count": null,
   "id": "e7c46f5b",
   "metadata": {
    "id": "e7c46f5b",
    "outputId": "061a6d05-b2ba-4b51-fd5f-09bce8fb6ab5"
   },
   "outputs": [
    {
     "data": {
      "text/plain": [
       "<gurobi.Constr *Awaiting Model Update*>"
      ]
     },
     "execution_count": 133,
     "metadata": {},
     "output_type": "execute_result"
    }
   ],
   "source": [
    "# Add constraint xii\n",
    "expr = 0\n",
    "for i in G.nodes():\n",
    "    expr += y_edges[(i,i)]\n",
    "model.addConstr(expr == p)"
   ]
  },
  {
   "cell_type": "code",
   "execution_count": null,
   "id": "033de79f",
   "metadata": {
    "id": "033de79f"
   },
   "outputs": [],
   "source": [
    "for i in G.nodes():\n",
    "    head_to_tail = 0\n",
    "    for j in G.nodes():\n",
    "            head_to_tail += y_edges[(i,j)]\n",
    "    model.addConstr(head_to_tail == 1)"
   ]
  },
  {
   "cell_type": "code",
   "execution_count": null,
   "id": "2dfe0aaa",
   "metadata": {
    "id": "2dfe0aaa"
   },
   "outputs": [],
   "source": [
    "for j in G.nodes():\n",
    "    for i in G.nodes():\n",
    "            model.addConstr(y_edges[(i,j)] <= y_edges[(j,j)])"
   ]
  },
  {
   "cell_type": "code",
   "execution_count": null,
   "id": "ea7a9a51",
   "metadata": {
    "id": "ea7a9a51"
   },
   "outputs": [],
   "source": [
    "# Add constraint xii\n",
    "for j in G.nodes():\n",
    "    summary = 0\n",
    "    for i,d1 in G.nodes(data = True):\n",
    "            summary += y_edges[(i,j)]*d1[\"sum\"]\n",
    "    model.addConstr(summary <= avg_pop*(1 + tolerance)*y_edges[(j,j)])\n",
    "    model.addConstr(summary >= avg_pop*(1 - tolerance)*y_edges[(j,j)])"
   ]
  },
  {
   "cell_type": "code",
   "execution_count": null,
   "id": "b65e45b4",
   "metadata": {
    "id": "b65e45b4"
   },
   "outputs": [],
   "source": [
    "obj = 0\n",
    "for i in G.nodes():\n",
    "    for j in G.nodes():\n",
    "        obj += distance[(i,j)]*y_edges[(i,j)]\n",
    "model.setObjective(obj, GRB.MINIMIZE)"
   ]
  },
  {
   "cell_type": "code",
   "execution_count": null,
   "id": "6762f577",
   "metadata": {
    "id": "6762f577"
   },
   "outputs": [],
   "source": [
    "model.write(\"test2.lp\")"
   ]
  },
  {
   "cell_type": "code",
   "execution_count": null,
   "id": "e6f42657",
   "metadata": {
    "id": "e6f42657",
    "outputId": "e9d26839-bd8d-4e3e-98e8-6b2e40d3210e"
   },
   "outputs": [
    {
     "name": "stdout",
     "output_type": "stream",
     "text": [
      "Gurobi Optimizer version 10.0.0 build v10.0.0rc2 (mac64[rosetta2])\n",
      "\n",
      "CPU model: Apple M2\n",
      "Thread count: 8 physical cores, 8 logical processors, using up to 8 threads\n",
      "\n",
      "Optimize a model with 929 rows, 841 columns and 4176 nonzeros\n",
      "Model fingerprint: 0x6630bd4b\n",
      "Variable types: 0 continuous, 841 integer (841 binary)\n",
      "Coefficient statistics:\n",
      "  Matrix range     [1e+00, 1e+06]\n",
      "  Objective range  [1e+00, 5e+00]\n",
      "  Bounds range     [1e+00, 1e+00]\n",
      "  RHS range        [1e+00, 2e+00]\n",
      "Presolve removed 29 rows and 0 columns\n",
      "Presolve time: 0.01s\n",
      "Presolved: 900 rows, 841 columns, 4176 nonzeros\n",
      "Variable types: 0 continuous, 841 integer (841 binary)\n",
      "Found heuristic solution: objective 56.0000000\n",
      "\n",
      "Root relaxation: objective 4.166667e+01, 432 iterations, 0.00 seconds (0.01 work units)\n",
      "\n",
      "    Nodes    |    Current Node    |     Objective Bounds      |     Work\n",
      " Expl Unexpl |  Obj  Depth IntInf | Incumbent    BestBd   Gap | It/Node Time\n",
      "\n",
      "     0     0   41.66667    0   76   56.00000   41.66667  25.6%     -    0s\n",
      "H    0     0                      45.0000000   41.66667  7.41%     -    0s\n",
      "H    0     0                      43.0000000   41.66667  3.10%     -    0s\n",
      "H    0     0                      42.0000000   41.66667  0.79%     -    0s\n",
      "\n",
      "Cutting planes:\n",
      "  Gomory: 1\n",
      "  Zero half: 8\n",
      "\n",
      "Explored 1 nodes (510 simplex iterations) in 0.04 seconds (0.02 work units)\n",
      "Thread count was 8 (of 8 available processors)\n",
      "\n",
      "Solution count 4: 42 43 45 56 \n",
      "\n",
      "Optimal solution found (tolerance 1.00e-04)\n",
      "Best objective 4.200000000000e+01, best bound 4.200000000000e+01, gap 0.0000%\n"
     ]
    }
   ],
   "source": [
    "model.optimize()"
   ]
  },
  {
   "cell_type": "code",
   "execution_count": null,
   "id": "5dc6ed74",
   "metadata": {
    "id": "5dc6ed74",
    "outputId": "473a943f-9433-4d85-c3fd-bc948b311486"
   },
   "outputs": [
    {
     "data": {
      "text/plain": [
       "42.0"
      ]
     },
     "execution_count": 140,
     "metadata": {},
     "output_type": "execute_result"
    }
   ],
   "source": [
    "obj.getValue()"
   ]
  },
  {
   "cell_type": "code",
   "execution_count": null,
   "id": "550a47f6",
   "metadata": {
    "id": "550a47f6"
   },
   "outputs": [],
   "source": [
    "cluster_group = {}"
   ]
  },
  {
   "cell_type": "code",
   "execution_count": null,
   "id": "11840edc",
   "metadata": {
    "id": "11840edc",
    "outputId": "75397612-8455-41ab-a744-a31f24c8c1f6"
   },
   "outputs": [
    {
     "name": "stdout",
     "output_type": "stream",
     "text": [
      "<gurobi.Var y_edges(2,2) (value 1.0)>\n",
      "<gurobi.Var y_edges(19,19) (value 1.0)>\n"
     ]
    }
   ],
   "source": [
    "for j in G.nodes():\n",
    "    if y_edges[(j,j)].X == 1:\n",
    "        cluster_group[j] = []\n",
    "#         cluster_group[j].append(j)\n",
    "        print(y_edges[(j,j)])"
   ]
  },
  {
   "cell_type": "code",
   "execution_count": null,
   "id": "c368cbdb",
   "metadata": {
    "id": "c368cbdb",
    "outputId": "79ede130-c505-4d7b-f7e2-52d87735cedc"
   },
   "outputs": [
    {
     "name": "stdout",
     "output_type": "stream",
     "text": [
      "<gurobi.Var y_edges(0,2) (value 1.0)>\n",
      "<gurobi.Var y_edges(1,2) (value 1.0)>\n",
      "<gurobi.Var y_edges(3,2) (value 1.0)>\n",
      "<gurobi.Var y_edges(16,2) (value 1.0)>\n",
      "<gurobi.Var y_edges(24,2) (value 1.0)>\n",
      "<gurobi.Var y_edges(2,2) (value 1.0)>\n",
      "<gurobi.Var y_edges(13,2) (value 1.0)>\n",
      "<gurobi.Var y_edges(25,2) (value 1.0)>\n",
      "<gurobi.Var y_edges(12,19) (value 1.0)>\n",
      "<gurobi.Var y_edges(14,2) (value 1.0)>\n",
      "<gurobi.Var y_edges(20,2) (value 1.0)>\n",
      "<gurobi.Var y_edges(26,2) (value 1.0)>\n",
      "<gurobi.Var y_edges(4,2) (value 1.0)>\n",
      "<gurobi.Var y_edges(11,2) (value 1.0)>\n",
      "<gurobi.Var y_edges(21,2) (value 1.0)>\n",
      "<gurobi.Var y_edges(10,2) (value 1.0)>\n",
      "<gurobi.Var y_edges(5,19) (value 1.0)>\n",
      "<gurobi.Var y_edges(7,19) (value 1.0)>\n",
      "<gurobi.Var y_edges(15,19) (value 1.0)>\n",
      "<gurobi.Var y_edges(19,19) (value 1.0)>\n",
      "<gurobi.Var y_edges(23,19) (value 1.0)>\n",
      "<gurobi.Var y_edges(6,2) (value 1.0)>\n",
      "<gurobi.Var y_edges(9,19) (value 1.0)>\n",
      "<gurobi.Var y_edges(8,19) (value 1.0)>\n",
      "<gurobi.Var y_edges(28,19) (value 1.0)>\n",
      "<gurobi.Var y_edges(27,2) (value 1.0)>\n",
      "<gurobi.Var y_edges(18,19) (value 1.0)>\n",
      "<gurobi.Var y_edges(22,2) (value 1.0)>\n",
      "<gurobi.Var y_edges(17,19) (value 1.0)>\n"
     ]
    }
   ],
   "source": [
    "for i in G.nodes():\n",
    "    for j in G.nodes():\n",
    "        if y_edges[(i,j)].X == 1:\n",
    "            cluster_group[j].append(i)\n",
    "            print(y_edges[(i,j)])"
   ]
  },
  {
   "cell_type": "code",
   "execution_count": null,
   "id": "986ee1f6",
   "metadata": {
    "id": "986ee1f6",
    "outputId": "58c5fe91-33b3-4754-bfaa-4b5711837d48"
   },
   "outputs": [
    {
     "name": "stdout",
     "output_type": "stream",
     "text": [
      "{2: [0, 1, 3, 16, 24, 2, 13, 25, 14, 20, 26, 4, 11, 21, 10, 6, 27, 22], 19: [12, 5, 7, 15, 19, 23, 9, 8, 28, 18, 17]}\n"
     ]
    }
   ],
   "source": [
    "print(cluster_group)"
   ]
  },
  {
   "cell_type": "code",
   "execution_count": null,
   "id": "c2a8be16",
   "metadata": {
    "id": "c2a8be16",
    "outputId": "8bf89357-7059-44d9-8364-232724371fbc"
   },
   "outputs": [
    {
     "data": {
      "text/plain": [
       "{2: 1172238, 19: 404103}"
      ]
     },
     "execution_count": 145,
     "metadata": {},
     "output_type": "execute_result"
    }
   ],
   "source": [
    "summary_pop = {}\n",
    "for j in cluster_group:\n",
    "    local_pop = 0\n",
    "    for k in cluster_group[j]:\n",
    "        for i,d in G.nodes(data = True):\n",
    "            if i == k:\n",
    "                local_pop += d[\"sum\"]\n",
    "    summary_pop[j] = local_pop    \n",
    "summary_pop"
   ]
  },
  {
   "cell_type": "code",
   "execution_count": null,
   "id": "53082d6d",
   "metadata": {
    "id": "53082d6d",
    "outputId": "d2e0f467-89ec-4a03-fdbc-3fd6f85592a1"
   },
   "outputs": [
    {
     "data": {
      "text/plain": [
       "{2: [0, 1, 3, 16, 24, 2, 13, 25, 14, 20, 26, 4, 11, 21, 10, 6, 27, 22],\n",
       " 19: [12, 5, 7, 15, 19, 23, 9, 8, 28, 18, 17]}"
      ]
     },
     "execution_count": 146,
     "metadata": {},
     "output_type": "execute_result"
    }
   ],
   "source": [
    "cluster_group"
   ]
  },
  {
   "cell_type": "code",
   "execution_count": null,
   "id": "6bb479b3",
   "metadata": {
    "id": "6bb479b3",
    "outputId": "55a6d848-d62d-4592-9d85-ed0c7438e861"
   },
   "outputs": [
    {
     "data": {
      "image/png": "[encoded data removed]",
      "text/plain": [
       "<Figure size 640x480 with 1 Axes>"
      ]
     },
     "metadata": {},
     "output_type": "display_data"
    }
   ],
   "source": [
    "nx.draw(G,pos, with_labels=True, node_size=500,  node_color='yellow', alpha = 0.9, edge_color = \"black\", width=0.1)\n",
    "color = [\"red\", \"gold\", \"greenyellow\", \"blue\", \"purple\", \"darkviolet\", \"deeppink\", \"crimson\", \"black\", \"turquoise\"]\n",
    "for cluster in range(len(list(cluster_group.keys()))):\n",
    "    H = G.subgraph(cluster_group[list(cluster_group.keys())[cluster]])\n",
    "    T = nx.minimum_spanning_tree(H)\n",
    "    ered=[(i,j) for (i,j) in T.edges()] \n",
    "    nx.draw_networkx_edges(G,pos,edgelist=ered, edge_color=color[cluster], width=5)"
   ]
  },
  {
   "cell_type": "code",
   "execution_count": null,
   "id": "edaf030b",
   "metadata": {
    "id": "edaf030b",
    "outputId": "26ae8b4d-372c-4b75-f848-998d239c7799"
   },
   "outputs": [
    {
     "data": {
      "text/plain": [
       "dict_items([(2, [0, 1, 3, 16, 24, 2, 13, 25, 14, 20, 26, 4, 11, 21, 10, 6, 27, 22]), (19, [12, 5, 7, 15, 19, 23, 9, 8, 28, 18, 17])])"
      ]
     },
     "execution_count": 148,
     "metadata": {},
     "output_type": "execute_result"
    }
   ],
   "source": [
    "cluster_group.items()"
   ]
  },
  {
   "cell_type": "markdown",
   "id": "ksiLBLrgvFwd",
   "metadata": {
    "id": "ksiLBLrgvFwd"
   },
   "source": []
  }
 ],
 "metadata": {
  "colab": {
   "provenance": []
  },
  "kernelspec": {
   "display_name": "Python 3 (ipykernel)",
   "language": "python",
   "name": "python3"
  },
  "language_info": {
   "codemirror_mode": {
    "name": "ipython",
    "version": 3
   },
   "file_extension": ".py",
   "mimetype": "text/x-python",
   "name": "python",
   "nbconvert_exporter": "python",
   "pygments_lexer": "ipython3",
   "version": "3.9.13"
  }
 },
 "nbformat": 4,
 "nbformat_minor": 5
}
