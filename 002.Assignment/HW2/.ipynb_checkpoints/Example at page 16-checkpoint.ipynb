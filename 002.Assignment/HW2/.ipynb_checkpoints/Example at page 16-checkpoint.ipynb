{
 "cells": [
  {
   "cell_type": "code",
   "execution_count": 1,
   "id": "ea003f1d",
   "metadata": {},
   "outputs": [],
   "source": [
    "import gurobipy as gp\n",
    "from gurobipy import GRB"
   ]
  },
  {
   "cell_type": "code",
   "execution_count": 3,
   "id": "144fb489",
   "metadata": {},
   "outputs": [
    {
     "name": "stdout",
     "output_type": "stream",
     "text": [
      "Gurobi Optimizer version 9.5.2 build v9.5.2rc0 (win64)\n",
      "Thread count: 8 physical cores, 16 logical processors, using up to 16 threads\n",
      "Optimize a model with 6 rows, 4 columns and 8 nonzeros\n",
      "Model fingerprint: 0x7932a6d0\n",
      "Coefficient statistics:\n",
      "  Matrix range     [1e+00, 3e+00]\n",
      "  Objective range  [1e+00, 5e+00]\n",
      "  Bounds range     [0e+00, 0e+00]\n",
      "  RHS range        [2e+01, 2e+01]\n",
      "Presolve removed 4 rows and 2 columns\n",
      "Presolve time: 0.00s\n",
      "Presolved: 2 rows, 2 columns, 4 nonzeros\n",
      "\n",
      "Iteration    Objective       Primal Inf.    Dual Inf.      Time\n",
      "       0    5.0000000e+01   0.000000e+00   0.000000e+00      0s\n",
      "       0    5.0000000e+01   0.000000e+00   0.000000e+00      0s\n",
      "\n",
      "Solved in 0 iterations and 0.01 seconds (0.00 work units)\n",
      "Optimal objective  5.000000000e+01\n",
      "Optimizer:\n",
      "x1 0.0\n",
      "x2 10.0\n",
      "z1 0.0\n",
      "z2 0.0\n",
      "Optimum Value: 50.0\n"
     ]
    }
   ],
   "source": [
    "m = gp.Model('LP Example')\n",
    "x1 = m.addVar(name=\"x1\")\n",
    "x2 = m.addVar(name=\"x2\")\n",
    "z1 = m.addVar(name=\"z1\")\n",
    "z2 = m.addVar(name=\"z2\")\n",
    "m.setObjective(4*x1 + 5*x2 + z1 + z2 , GRB.MINIMIZE)\n",
    "m.addConstr(x1 + 2*x2  >= 20, \"c1\")\n",
    "m.addConstr(-x1 + 3*x2 >= 22, \"c2\")\n",
    "m.addConstr(x1  >= 0, \"c3\")\n",
    "m.addConstr(x2  >= 0, \"c4\")\n",
    "m.addConstr(z1  >= 0, \"c5\")\n",
    "m.addConstr(z2  >= 0, \"c6\")\n",
    "m.optimize()\n",
    "\n",
    "print('Optimizer:')\n",
    "for v in m.getVars():\n",
    "    print(v.varName, v.x)\n",
    "    \n",
    "print('Optimum Value:',  m.objVal)"
   ]
  }
 ],
 "metadata": {
  "kernelspec": {
   "display_name": "Python 3 (ipykernel)",
   "language": "python",
   "name": "python3"
  },
  "language_info": {
   "codemirror_mode": {
    "name": "ipython",
    "version": 3
   },
   "file_extension": ".py",
   "mimetype": "text/x-python",
   "name": "python",
   "nbconvert_exporter": "python",
   "pygments_lexer": "ipython3",
   "version": "3.9.7"
  }
 },
 "nbformat": 4,
 "nbformat_minor": 5
}
