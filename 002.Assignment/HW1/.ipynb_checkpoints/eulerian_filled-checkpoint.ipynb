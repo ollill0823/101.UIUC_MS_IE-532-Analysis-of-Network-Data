{
 "cells": [
  {
   "cell_type": "markdown",
   "metadata": {},
   "source": [
    "## DNA sequencing\n",
    "### Lecture 1-2 example (filled)"
   ]
  },
  {
   "cell_type": "markdown",
   "metadata": {},
   "source": [
    "Recall that in Lecture 1, we briefly saw the DNA sequencing problem and a way to approach it as an Eulerian path problem. Here, we use *networkx*, an excellent network analysis package, to solve this. \n",
    "\n",
    "See https://networkx.github.io for more details. Also see the `intro.ipynb` we have provided you with."
   ]
  },
  {
   "cell_type": "markdown",
   "metadata": {},
   "source": [
    "In one of the examples in class we had a set of subsequences:"
   ]
  },
  {
   "cell_type": "code",
   "execution_count": 1,
   "metadata": {},
   "outputs": [],
   "source": [
    "subsequences = ['CAT' , 'ATT' , 'ATG', 'TAT' , 'TTG', 'TGC', 'TGT' , 'GTA']"
   ]
  },
  {
   "cell_type": "markdown",
   "metadata": {},
   "source": [
    "First, we write a code that produces the graph (as discussed in class)."
   ]
  },
  {
   "cell_type": "code",
   "execution_count": 2,
   "metadata": {},
   "outputs": [
    {
     "data": {
      "image/png": "[encoded data removed]",
      "text/plain": [
       "<Figure size 432x288 with 1 Axes>"
      ]
     },
     "metadata": {},
     "output_type": "display_data"
    }
   ],
   "source": [
    "import networkx as nx\n",
    "import matplotlib.pyplot as plt\n",
    "from itertools import combinations\n",
    "\n",
    "def construct_graph_from(sub):\n",
    "    G = nx.DiGraph()\n",
    "    for i in sub:\n",
    "        subseq1=i[0:2]\n",
    "        subseq2=i[1:3]\n",
    "        G.add_node(subseq1)\n",
    "        G.add_node(subseq2)\n",
    "    for (i,j) in combinations(G.nodes(),2):\n",
    "        subseq1=str(i)\n",
    "        subseq2=str(j)\n",
    "        subseq=subseq1[0:2]+subseq2[1]  # string operations between say \"CA\"+\"T\" -> \"CAT\"\n",
    "        if subseq1[1]==subseq2[0] and subseq in sub:\n",
    "            G.add_edge(i,j)\n",
    "        subseq=subseq2[0:2]+subseq1[1]\n",
    "        if subseq2[1]==subseq1[0] and subseq in sub:\n",
    "            G.add_edge(j,i)\n",
    "    return G\n",
    "\n",
    "G = construct_graph_from(subsequences) \n",
    "pos=nx.spring_layout(G) ## <- We can change this to other types of layouts, try some out yourselves\n",
    "nx.draw_networkx(G,pos)\n",
    "nx.draw_networkx_labels(G,pos)\n",
    "plt.show()"
   ]
  },
  {
   "cell_type": "markdown",
   "metadata": {},
   "source": [
    "Now, we write a code to find an **Eulerian path**. Networkx has a function *eulerian_circuit(graph, source)* that we may use. However, it returns a cycle -- not a path. \n",
    "\n",
    "How can we turn our graph into one that has an Eulerian cycle? *Maybe* add an edge between the end node and the start node? And how can we find a suitable start node?"
   ]
  },
  {
   "cell_type": "code",
   "execution_count": 3,
   "metadata": {},
   "outputs": [
    {
     "name": "stdout",
     "output_type": "stream",
     "text": [
      "[('CA', 'AT'), ('AT', 'TT'), ('TT', 'TG'), ('TG', 'GT'), ('GT', 'TA'), ('TA', 'AT'), ('AT', 'TG'), ('TG', 'GC'), ('GC', 'CA')]\n",
      "CATTGTATGC\n"
     ]
    }
   ],
   "source": [
    "for i in G.nodes():\n",
    "    if G.in_degree(i)<G.out_degree(i):\n",
    "        start=i\n",
    "    elif G.in_degree(i)>G.out_degree(i):\n",
    "        stop=i\n",
    "\n",
    "G.add_edge(stop, start)\n",
    "cycle=list(nx.eulerian_circuit(G, start))\n",
    "print(cycle)\n",
    "DNA=[cycle[0][0]]\n",
    "for i in range(1,len(cycle)):\n",
    "    DNA.append(str(cycle[i][0][1]))\n",
    "print(''.join(DNA))"
   ]
  },
  {
   "cell_type": "code",
   "execution_count": null,
   "metadata": {},
   "outputs": [],
   "source": []
  }
 ],
 "metadata": {
  "kernelspec": {
   "display_name": "Python 3 (ipykernel)",
   "language": "python",
   "name": "python3"
  },
  "language_info": {
   "codemirror_mode": {
    "name": "ipython",
    "version": 3
   },
   "file_extension": ".py",
   "mimetype": "text/x-python",
   "name": "python",
   "nbconvert_exporter": "python",
   "pygments_lexer": "ipython3",
   "version": "3.9.7"
  }
 },
 "nbformat": 4,
 "nbformat_minor": 1
}
