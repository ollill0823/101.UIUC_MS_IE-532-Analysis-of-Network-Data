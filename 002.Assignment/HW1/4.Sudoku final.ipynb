{
 "cells": [
  {
   "cell_type": "code",
   "execution_count": 27,
   "id": "7383804f",
   "metadata": {},
   "outputs": [
    {
     "data": {
      "text/plain": [
       "<gurobi.Constr *Awaiting Model Update*>"
      ]
     },
     "execution_count": 27,
     "metadata": {},
     "output_type": "execute_result"
    }
   ],
   "source": [
    "# import gurobi\n",
    "from gurobipy import *\n",
    "\n",
    "# creat model\n",
    "m = Model(\"portfolio\")\n",
    "\n",
    "cov = [[5, 7, -3, 2, 5], [7, 100, 17, -15, 25], [-3, 17, 67, -28, 23, -10], [2, -15, -28, 23, -10], [5, 25, 20, -10, 40]]\n",
    "cov[1][1]\n",
    "returns = [5, 16, 3, 8, 3]\n",
    "\n",
    "min_return = 15\n",
    "budget = 1000\n",
    "\n",
    "# variable definition and restriction\n",
    "\n",
    "## how many paths we want to define\n",
    "x = m.addVars(len(returns), lb = 0.0, ub = 1.0, vtype = GRB.CONTINUOUS)\n",
    "\n",
    "# Constraint\n",
    "# budget \n",
    "m.addConstr(quicksum(x[i] for i in range(len(returns))) <= 1)"
   ]
  },
  {
   "cell_type": "code",
   "execution_count": 30,
   "id": "37dcd35a",
   "metadata": {},
   "outputs": [
    {
     "data": {
      "text/plain": [
       "<bound method Model.update of <gurobi.Model Continuous instance portfolio: 1 constrs, 5 vars, No parameter changes>>"
      ]
     },
     "execution_count": 30,
     "metadata": {},
     "output_type": "execute_result"
    }
   ],
   "source": [
    "m.update"
   ]
  },
  {
   "cell_type": "code",
   "execution_count": 2,
   "id": "d40a4393",
   "metadata": {},
   "outputs": [],
   "source": [
    "cov = [[3,5,8,12,10,11], [6,7,10,12,8,10], [5,3,8,10,12,10], [7,6,7,10,9,5],\n",
    "       [10,8,5,8,6,5], [12,6,4,7,5,4], [7,10,6,6,8,3], [5,6,9,4,4,7], [8,10,7,5,4,6], [10,12,8,3,4,6]]\n",
    "\n",
    "fixed_cost = [1750000, 2000000, 2500000, 2250000, 1500000, 1000000]\n",
    "capacity = [75, 50, 120, 100, 60, 50]\n",
    "demand = [25, 15, 20, 10, 15, 15, 25, 20, 30, 20]"
   ]
  },
  {
   "cell_type": "code",
   "execution_count": 18,
   "id": "d060e25f",
   "metadata": {},
   "outputs": [],
   "source": [
    "model = Model(\"portfolio\")"
   ]
  },
  {
   "cell_type": "code",
   "execution_count": 20,
   "id": "acbe75e7",
   "metadata": {},
   "outputs": [],
   "source": [
    "capacity = {'1': (75, {'1':3, '2': 6, '3': 5, '4': 7, '5': 10, '6': 12, '7': 7, '8': 5, '9': 8, '10': 10}), \n",
    "          '2': (50, {'1':5, '2': 7, '3': 3, '4': 6, '5': 8, '6': 6, '7': 10, '8': 6, '9': 10, '10': 12}), \n",
    "          '3': (120, {'1':8, '2': 10, '3': 8, '4': 7, '5': 5, '6': 4, '7': 6, '8': 9, '9': 7, '10': 8}), \n",
    "          '4': (100, {'1':12, '2': 12, '3': 10, '4': 10, '5': 8, '6': 7, '7': 6, '8': 4, '9': 5, '10': 3}), \n",
    "          '5': (60, {'1':10, '2': 8, '3': 12, '4': 9, '5': 6, '6': 5, '7': 8, '8': 4, '9': 4, '10': 4}),\n",
    "          '6': (50, {'1':11, '2': 10, '3': 10, '4': 5, '5': 5, '6': 4, '7': 3, '8': 7, '9': 6, '10': 6})}"
   ]
  },
  {
   "cell_type": "code",
   "execution_count": 23,
   "id": "9134aaf6",
   "metadata": {},
   "outputs": [
    {
     "data": {
      "text/plain": [
       "75"
      ]
     },
     "execution_count": 23,
     "metadata": {},
     "output_type": "execute_result"
    }
   ],
   "source": [
    "capacity[\"1\"][0]"
   ]
  },
  {
   "cell_type": "code",
   "execution_count": 21,
   "id": "a7f6604f",
   "metadata": {
    "scrolled": true
   },
   "outputs": [
    {
     "data": {
      "text/plain": [
       "{'1': <gurobi.Var *Awaiting Model Update*>,\n",
       " '2': <gurobi.Var *Awaiting Model Update*>,\n",
       " '3': <gurobi.Var *Awaiting Model Update*>,\n",
       " '4': <gurobi.Var *Awaiting Model Update*>,\n",
       " '5': <gurobi.Var *Awaiting Model Update*>,\n",
       " '6': <gurobi.Var *Awaiting Model Update*>}"
      ]
     },
     "execution_count": 21,
     "metadata": {},
     "output_type": "execute_result"
    }
   ],
   "source": [
    "x = x=model.addVars(capacity, lb=0.0, ub=1.0)\n",
    "x"
   ]
  },
  {
   "cell_type": "code",
   "execution_count": 26,
   "id": "ac94d108",
   "metadata": {},
   "outputs": [
    {
     "ename": "GurobiError",
     "evalue": "Unsupported type (<class 'gurobipy.TempConstr'>) for LinExpr addition argument",
     "output_type": "error",
     "traceback": [
      "\u001b[1;31m---------------------------------------------------------------------------\u001b[0m",
      "\u001b[1;31mGurobiError\u001b[0m                               Traceback (most recent call last)",
      "\u001b[1;32m~\\AppData\\Local\\Temp/ipykernel_26504/94624102.py\u001b[0m in \u001b[0;36m<module>\u001b[1;34m\u001b[0m\n\u001b[1;32m----> 1\u001b[1;33m \u001b[0mmodel\u001b[0m\u001b[1;33m.\u001b[0m\u001b[0maddConstr\u001b[0m\u001b[1;33m(\u001b[0m\u001b[0mquicksum\u001b[0m\u001b[1;33m(\u001b[0m\u001b[0mx\u001b[0m\u001b[1;33m[\u001b[0m\u001b[0mi\u001b[0m\u001b[1;33m]\u001b[0m \u001b[1;33m<=\u001b[0m \u001b[0mcapacity\u001b[0m\u001b[1;33m[\u001b[0m\u001b[0mi\u001b[0m\u001b[1;33m]\u001b[0m\u001b[1;33m[\u001b[0m\u001b[1;36m0\u001b[0m\u001b[1;33m]\u001b[0m \u001b[1;32mfor\u001b[0m \u001b[0mi\u001b[0m \u001b[1;32min\u001b[0m \u001b[0mcapacity\u001b[0m\u001b[1;33m)\u001b[0m\u001b[1;33m)\u001b[0m\u001b[1;33m\u001b[0m\u001b[1;33m\u001b[0m\u001b[0m\n\u001b[0m",
      "\u001b[1;32msrc\\gurobipy\\gurobi.pxi\u001b[0m in \u001b[0;36mgurobipy.quicksum\u001b[1;34m()\u001b[0m\n",
      "\u001b[1;32msrc\\gurobipy\\linexpr.pxi\u001b[0m in \u001b[0;36mgurobipy.LinExpr.__iadd__\u001b[1;34m()\u001b[0m\n",
      "\u001b[1;32msrc\\gurobipy\\linexpr.pxi\u001b[0m in \u001b[0;36mgurobipy.LinExpr.add\u001b[1;34m()\u001b[0m\n",
      "\u001b[1;31mGurobiError\u001b[0m: Unsupported type (<class 'gurobipy.TempConstr'>) for LinExpr addition argument"
     ]
    }
   ],
   "source": [
    "model.addConstr(quicksum(x[i] for i in capacity)<= capacity[i][0])"
   ]
  },
  {
   "cell_type": "code",
   "execution_count": 10,
   "id": "e5d9bdc4",
   "metadata": {},
   "outputs": [
    {
     "data": {
      "text/plain": [
       "<gurobi.Constr *Awaiting Model Update*>"
      ]
     },
     "execution_count": 10,
     "metadata": {},
     "output_type": "execute_result"
    }
   ],
   "source": [
    "m.addConstr(quicksum(x[i] for j in range(len(capacity))) <= demand[0])"
   ]
  },
  {
   "cell_type": "code",
   "execution_count": null,
   "id": "845129f6",
   "metadata": {},
   "outputs": [],
   "source": []
  },
  {
   "cell_type": "code",
   "execution_count": null,
   "id": "fb8271f6",
   "metadata": {},
   "outputs": [],
   "source": []
  },
  {
   "cell_type": "code",
   "execution_count": null,
   "id": "721f98de",
   "metadata": {},
   "outputs": [],
   "source": []
  },
  {
   "cell_type": "code",
   "execution_count": null,
   "id": "f46f015a",
   "metadata": {},
   "outputs": [],
   "source": []
  },
  {
   "cell_type": "code",
   "execution_count": null,
   "id": "33db8fb1",
   "metadata": {},
   "outputs": [],
   "source": []
  },
  {
   "cell_type": "code",
   "execution_count": 515,
   "id": "e2ae2737",
   "metadata": {},
   "outputs": [],
   "source": [
    "from gurobipy import *"
   ]
  },
  {
   "cell_type": "code",
   "execution_count": 516,
   "id": "ec6715e5",
   "metadata": {},
   "outputs": [],
   "source": [
    "data =  [[ 3,  5,  8, 12, 10, 11], \n",
    "         [ 6,  7, 10, 12,  8, 10], \n",
    "         [ 5,  3,  8, 10, 12, 10], \n",
    "         [ 7,  6,  7, 10,  9,  5],\n",
    "         [10,  8,  5,  8,  6,  5],\n",
    "         [12,  6,  4,  7,  5,  4],\n",
    "         [ 7, 10,  6,  6,  8,  3],\n",
    "         [ 5,  6,  9,  4,  4,  7],\n",
    "         [ 8, 10,  7,  5,  4,  6],\n",
    "         [10, 12,  8,  3,  4,  6]]\n",
    "\n",
    "fixed_cost = [1750000, 2000000, 2500000, 2250000, 1500000, 1000000]\n",
    "capacity = [75, 50, 120, 100, 60, 50]\n",
    "demand = [25, 15, 20, 10, 15, 15, 25, 20, 30, 20]\n",
    "\n",
    "N = len(data)\n",
    "K = len(data[0])"
   ]
  },
  {
   "cell_type": "code",
   "execution_count": 517,
   "id": "8fe9eea3",
   "metadata": {},
   "outputs": [],
   "source": [
    "model = Model(\"cost\")\n",
    "model.update()"
   ]
  },
  {
   "cell_type": "code",
   "execution_count": 518,
   "id": "60c97b68",
   "metadata": {
    "scrolled": true
   },
   "outputs": [
    {
     "data": {
      "text/plain": [
       "{(0, 0): <gurobi.Var *Awaiting Model Update*>,\n",
       " (0, 1): <gurobi.Var *Awaiting Model Update*>,\n",
       " (0, 2): <gurobi.Var *Awaiting Model Update*>,\n",
       " (0, 3): <gurobi.Var *Awaiting Model Update*>,\n",
       " (0, 4): <gurobi.Var *Awaiting Model Update*>,\n",
       " (0, 5): <gurobi.Var *Awaiting Model Update*>,\n",
       " (1, 0): <gurobi.Var *Awaiting Model Update*>,\n",
       " (1, 1): <gurobi.Var *Awaiting Model Update*>,\n",
       " (1, 2): <gurobi.Var *Awaiting Model Update*>,\n",
       " (1, 3): <gurobi.Var *Awaiting Model Update*>,\n",
       " (1, 4): <gurobi.Var *Awaiting Model Update*>,\n",
       " (1, 5): <gurobi.Var *Awaiting Model Update*>,\n",
       " (2, 0): <gurobi.Var *Awaiting Model Update*>,\n",
       " (2, 1): <gurobi.Var *Awaiting Model Update*>,\n",
       " (2, 2): <gurobi.Var *Awaiting Model Update*>,\n",
       " (2, 3): <gurobi.Var *Awaiting Model Update*>,\n",
       " (2, 4): <gurobi.Var *Awaiting Model Update*>,\n",
       " (2, 5): <gurobi.Var *Awaiting Model Update*>,\n",
       " (3, 0): <gurobi.Var *Awaiting Model Update*>,\n",
       " (3, 1): <gurobi.Var *Awaiting Model Update*>,\n",
       " (3, 2): <gurobi.Var *Awaiting Model Update*>,\n",
       " (3, 3): <gurobi.Var *Awaiting Model Update*>,\n",
       " (3, 4): <gurobi.Var *Awaiting Model Update*>,\n",
       " (3, 5): <gurobi.Var *Awaiting Model Update*>,\n",
       " (4, 0): <gurobi.Var *Awaiting Model Update*>,\n",
       " (4, 1): <gurobi.Var *Awaiting Model Update*>,\n",
       " (4, 2): <gurobi.Var *Awaiting Model Update*>,\n",
       " (4, 3): <gurobi.Var *Awaiting Model Update*>,\n",
       " (4, 4): <gurobi.Var *Awaiting Model Update*>,\n",
       " (4, 5): <gurobi.Var *Awaiting Model Update*>,\n",
       " (5, 0): <gurobi.Var *Awaiting Model Update*>,\n",
       " (5, 1): <gurobi.Var *Awaiting Model Update*>,\n",
       " (5, 2): <gurobi.Var *Awaiting Model Update*>,\n",
       " (5, 3): <gurobi.Var *Awaiting Model Update*>,\n",
       " (5, 4): <gurobi.Var *Awaiting Model Update*>,\n",
       " (5, 5): <gurobi.Var *Awaiting Model Update*>,\n",
       " (6, 0): <gurobi.Var *Awaiting Model Update*>,\n",
       " (6, 1): <gurobi.Var *Awaiting Model Update*>,\n",
       " (6, 2): <gurobi.Var *Awaiting Model Update*>,\n",
       " (6, 3): <gurobi.Var *Awaiting Model Update*>,\n",
       " (6, 4): <gurobi.Var *Awaiting Model Update*>,\n",
       " (6, 5): <gurobi.Var *Awaiting Model Update*>,\n",
       " (7, 0): <gurobi.Var *Awaiting Model Update*>,\n",
       " (7, 1): <gurobi.Var *Awaiting Model Update*>,\n",
       " (7, 2): <gurobi.Var *Awaiting Model Update*>,\n",
       " (7, 3): <gurobi.Var *Awaiting Model Update*>,\n",
       " (7, 4): <gurobi.Var *Awaiting Model Update*>,\n",
       " (7, 5): <gurobi.Var *Awaiting Model Update*>,\n",
       " (8, 0): <gurobi.Var *Awaiting Model Update*>,\n",
       " (8, 1): <gurobi.Var *Awaiting Model Update*>,\n",
       " (8, 2): <gurobi.Var *Awaiting Model Update*>,\n",
       " (8, 3): <gurobi.Var *Awaiting Model Update*>,\n",
       " (8, 4): <gurobi.Var *Awaiting Model Update*>,\n",
       " (8, 5): <gurobi.Var *Awaiting Model Update*>,\n",
       " (9, 0): <gurobi.Var *Awaiting Model Update*>,\n",
       " (9, 1): <gurobi.Var *Awaiting Model Update*>,\n",
       " (9, 2): <gurobi.Var *Awaiting Model Update*>,\n",
       " (9, 3): <gurobi.Var *Awaiting Model Update*>,\n",
       " (9, 4): <gurobi.Var *Awaiting Model Update*>,\n",
       " (9, 5): <gurobi.Var *Awaiting Model Update*>}"
      ]
     },
     "execution_count": 518,
     "metadata": {},
     "output_type": "execute_result"
    }
   ],
   "source": [
    "x = {}\n",
    "for i in range(N):\n",
    "    for j in range(K):\n",
    "        x[i,j] = model.addVar(vtype=GRB.CONTINUOUS, name=\"x_%d_%d\"%(i,j))\n",
    "x"
   ]
  },
  {
   "cell_type": "code",
   "execution_count": 519,
   "id": "82b19f32",
   "metadata": {},
   "outputs": [],
   "source": [
    "model.update()"
   ]
  },
  {
   "cell_type": "code",
   "execution_count": 520,
   "id": "3a5c2576",
   "metadata": {},
   "outputs": [],
   "source": [
    "obj = 0\n",
    "for i in range(N):\n",
    "    for j in range(K):\n",
    "        obj += data[i][j]*x[i,j]"
   ]
  },
  {
   "cell_type": "code",
   "execution_count": 521,
   "id": "53f931d3",
   "metadata": {},
   "outputs": [],
   "source": [
    "for i in range(N):\n",
    "    row = 0\n",
    "    for j in range(K):\n",
    "        row += x[i,j]\n",
    "    model.addConstr(row >= demand[i], \"Demand\")"
   ]
  },
  {
   "cell_type": "code",
   "execution_count": 522,
   "id": "39979dad",
   "metadata": {},
   "outputs": [],
   "source": [
    "for j in range(K):\n",
    "    column = 0\n",
    "    for i in range(N):\n",
    "        column += x[i,j]\n",
    "    model.addConstr(column <= capacity[j], \"Capacity\")"
   ]
  },
  {
   "cell_type": "code",
   "execution_count": 523,
   "id": "9dca1047",
   "metadata": {},
   "outputs": [],
   "source": [
    "model.setObjective(obj, GRB.MINIMIZE) "
   ]
  },
  {
   "cell_type": "code",
   "execution_count": 524,
   "id": "f947b876",
   "metadata": {
    "scrolled": false
   },
   "outputs": [
    {
     "name": "stdout",
     "output_type": "stream",
     "text": [
      "Gurobi Optimizer version 9.5.2 build v9.5.2rc0 (win64)\n",
      "Thread count: 8 physical cores, 16 logical processors, using up to 16 threads\n",
      "Optimize a model with 16 rows, 60 columns and 120 nonzeros\n",
      "Model fingerprint: 0xd43b4307\n",
      "Coefficient statistics:\n",
      "  Matrix range     [1e+00, 1e+00]\n",
      "  Objective range  [3e+00, 1e+01]\n",
      "  Bounds range     [0e+00, 0e+00]\n",
      "  RHS range        [1e+01, 1e+02]\n",
      "Presolve time: 0.00s\n",
      "Presolved: 16 rows, 60 columns, 120 nonzeros\n",
      "\n",
      "Iteration    Objective       Primal Inf.    Dual Inf.      Time\n",
      "       0    0.0000000e+00   1.950000e+02   0.000000e+00      0s\n",
      "      10    7.4500000e+02   0.000000e+00   0.000000e+00      0s\n",
      "\n",
      "Solved in 10 iterations and 0.00 seconds (0.00 work units)\n",
      "Optimal objective  7.450000000e+02\n"
     ]
    }
   ],
   "source": [
    "model.optimize()"
   ]
  },
  {
   "cell_type": "code",
   "execution_count": 525,
   "id": "7e6b0303",
   "metadata": {
    "scrolled": true
   },
   "outputs": [
    {
     "data": {
      "text/plain": [
       "{(0, 0): <gurobi.Var x_0_0 (value 25.0)>,\n",
       " (0, 1): <gurobi.Var x_0_1 (value 0.0)>,\n",
       " (0, 2): <gurobi.Var x_0_2 (value 0.0)>,\n",
       " (0, 3): <gurobi.Var x_0_3 (value 0.0)>,\n",
       " (0, 4): <gurobi.Var x_0_4 (value 0.0)>,\n",
       " (0, 5): <gurobi.Var x_0_5 (value 0.0)>,\n",
       " (1, 0): <gurobi.Var x_1_0 (value 15.0)>,\n",
       " (1, 1): <gurobi.Var x_1_1 (value 0.0)>,\n",
       " (1, 2): <gurobi.Var x_1_2 (value 0.0)>,\n",
       " (1, 3): <gurobi.Var x_1_3 (value 0.0)>,\n",
       " (1, 4): <gurobi.Var x_1_4 (value 0.0)>,\n",
       " (1, 5): <gurobi.Var x_1_5 (value 0.0)>,\n",
       " (2, 0): <gurobi.Var x_2_0 (value 0.0)>,\n",
       " (2, 1): <gurobi.Var x_2_1 (value 20.0)>,\n",
       " (2, 2): <gurobi.Var x_2_2 (value 0.0)>,\n",
       " (2, 3): <gurobi.Var x_2_3 (value 0.0)>,\n",
       " (2, 4): <gurobi.Var x_2_4 (value 0.0)>,\n",
       " (2, 5): <gurobi.Var x_2_5 (value 0.0)>,\n",
       " (3, 0): <gurobi.Var x_3_0 (value 0.0)>,\n",
       " (3, 1): <gurobi.Var x_3_1 (value 0.0)>,\n",
       " (3, 2): <gurobi.Var x_3_2 (value 0.0)>,\n",
       " (3, 3): <gurobi.Var x_3_3 (value 0.0)>,\n",
       " (3, 4): <gurobi.Var x_3_4 (value 0.0)>,\n",
       " (3, 5): <gurobi.Var x_3_5 (value 10.0)>,\n",
       " (4, 0): <gurobi.Var x_4_0 (value 0.0)>,\n",
       " (4, 1): <gurobi.Var x_4_1 (value 0.0)>,\n",
       " (4, 2): <gurobi.Var x_4_2 (value 15.0)>,\n",
       " (4, 3): <gurobi.Var x_4_3 (value 0.0)>,\n",
       " (4, 4): <gurobi.Var x_4_4 (value 0.0)>,\n",
       " (4, 5): <gurobi.Var x_4_5 (value 0.0)>,\n",
       " (5, 0): <gurobi.Var x_5_0 (value 0.0)>,\n",
       " (5, 1): <gurobi.Var x_5_1 (value 0.0)>,\n",
       " (5, 2): <gurobi.Var x_5_2 (value 15.0)>,\n",
       " (5, 3): <gurobi.Var x_5_3 (value 0.0)>,\n",
       " (5, 4): <gurobi.Var x_5_4 (value 0.0)>,\n",
       " (5, 5): <gurobi.Var x_5_5 (value 0.0)>,\n",
       " (6, 0): <gurobi.Var x_6_0 (value 0.0)>,\n",
       " (6, 1): <gurobi.Var x_6_1 (value 0.0)>,\n",
       " (6, 2): <gurobi.Var x_6_2 (value 0.0)>,\n",
       " (6, 3): <gurobi.Var x_6_3 (value 0.0)>,\n",
       " (6, 4): <gurobi.Var x_6_4 (value 0.0)>,\n",
       " (6, 5): <gurobi.Var x_6_5 (value 25.0)>,\n",
       " (7, 0): <gurobi.Var x_7_0 (value 0.0)>,\n",
       " (7, 1): <gurobi.Var x_7_1 (value 0.0)>,\n",
       " (7, 2): <gurobi.Var x_7_2 (value 0.0)>,\n",
       " (7, 3): <gurobi.Var x_7_3 (value 20.0)>,\n",
       " (7, 4): <gurobi.Var x_7_4 (value 0.0)>,\n",
       " (7, 5): <gurobi.Var x_7_5 (value 0.0)>,\n",
       " (8, 0): <gurobi.Var x_8_0 (value 0.0)>,\n",
       " (8, 1): <gurobi.Var x_8_1 (value 0.0)>,\n",
       " (8, 2): <gurobi.Var x_8_2 (value 0.0)>,\n",
       " (8, 3): <gurobi.Var x_8_3 (value 0.0)>,\n",
       " (8, 4): <gurobi.Var x_8_4 (value 30.0)>,\n",
       " (8, 5): <gurobi.Var x_8_5 (value 0.0)>,\n",
       " (9, 0): <gurobi.Var x_9_0 (value 0.0)>,\n",
       " (9, 1): <gurobi.Var x_9_1 (value 0.0)>,\n",
       " (9, 2): <gurobi.Var x_9_2 (value 0.0)>,\n",
       " (9, 3): <gurobi.Var x_9_3 (value 20.0)>,\n",
       " (9, 4): <gurobi.Var x_9_4 (value 0.0)>,\n",
       " (9, 5): <gurobi.Var x_9_5 (value 0.0)>}"
      ]
     },
     "execution_count": 525,
     "metadata": {},
     "output_type": "execute_result"
    }
   ],
   "source": [
    "x"
   ]
  },
  {
   "cell_type": "code",
   "execution_count": 526,
   "id": "3189ca6f",
   "metadata": {},
   "outputs": [
    {
     "name": "stdout",
     "output_type": "stream",
     "text": [
      "25.0    0.0    0.0    0.0    0.0    0.0    \n",
      "15.0    0.0    0.0    0.0    0.0    0.0    \n",
      "0.0    20.0    0.0    0.0    0.0    0.0    \n",
      "0.0    0.0    0.0    0.0    0.0    10.0    \n",
      "0.0    0.0    15.0    0.0    0.0    0.0    \n",
      "0.0    0.0    15.0    0.0    0.0    0.0    \n",
      "0.0    0.0    0.0    0.0    0.0    25.0    \n",
      "0.0    0.0    0.0    20.0    0.0    0.0    \n",
      "0.0    0.0    0.0    0.0    30.0    0.0    \n",
      "0.0    0.0    0.0    20.0    0.0    0.0    \n"
     ]
    }
   ],
   "source": [
    "for i in range(N):\n",
    "    for j in range(K):\n",
    "        print(x[i,j].x,sep='',end='    ')\n",
    "    print('')"
   ]
  },
  {
   "cell_type": "code",
   "execution_count": null,
   "id": "3b0203fc",
   "metadata": {},
   "outputs": [],
   "source": []
  },
  {
   "cell_type": "code",
   "execution_count": null,
   "id": "89a5652b",
   "metadata": {},
   "outputs": [],
   "source": []
  },
  {
   "cell_type": "code",
   "execution_count": null,
   "id": "a178f2ad",
   "metadata": {},
   "outputs": [],
   "source": []
  },
  {
   "cell_type": "code",
   "execution_count": 142,
   "id": "75b56541",
   "metadata": {},
   "outputs": [],
   "source": [
    "from gurobipy import *"
   ]
  },
  {
   "cell_type": "code",
   "execution_count": 143,
   "id": "f990decd",
   "metadata": {},
   "outputs": [],
   "source": [
    "m = Model(\"Sudoku\")"
   ]
  },
  {
   "cell_type": "code",
   "execution_count": 144,
   "id": "6c0a77d3",
   "metadata": {},
   "outputs": [],
   "source": [
    "Grid = [\n",
    "[0,0,6, 0,8,0, 5,0,0],\n",
    "[9,0,0, 3,0,0, 0,2,0],\n",
    "[0,4,0, 0,0,1, 0,0,7],\n",
    "\n",
    "[0,0,0, 0,0,5, 6,0,0],\n",
    "[0,2,0, 0,4,0, 0,1,0],\n",
    "[3,0,0, 0,0,0, 0,0,9],\n",
    "\n",
    "[0,0,1, 9,0,0, 0,3,0],\n",
    "[0,0,0, 0,2,0, 4,0,0],\n",
    "[0,5,0, 0,0,7, 0,0,0]]\n",
    "\n",
    "#N represents the Big Square comprised of 9 smaller squares\n",
    "N = range(9)\n",
    "\n",
    "#K represents the numbers 1-9\n",
    "K = range(1,10)"
   ]
  },
  {
   "cell_type": "code",
   "execution_count": 145,
   "id": "5ada7dce",
   "metadata": {},
   "outputs": [],
   "source": [
    "## Create 9*9*9 variables, each can be 0 or 1\n",
    "X = {(i,j,k): m.addVar(vtype=GRB.BINARY) for i in N for j in N for k in K}"
   ]
  },
  {
   "cell_type": "code",
   "execution_count": 146,
   "id": "14b49dbd",
   "metadata": {},
   "outputs": [],
   "source": [
    "## Given True(1), when the opportunities of each item inside X is larger than 0\n",
    "PreAssign = {\n",
    "    (i,j): m.addConstr(X[i,j,Grid[i][j]]==1)\n",
    "    for i in N for j in N if Grid[i][j]>0}"
   ]
  },
  {
   "cell_type": "code",
   "execution_count": 147,
   "id": "fb6aa73b",
   "metadata": {},
   "outputs": [],
   "source": [
    "## each cell can be one number. For example, Grid[8][8] can be 1~9, meaning the sum of X: (8,8,k) can be only and only if 1\n",
    "OnePerSquare = {\n",
    "    (i,j): m.addConstr(quicksum(X[i,j,k] for k in K)==1)\n",
    "    for i in N for j in N}"
   ]
  },
  {
   "cell_type": "code",
   "execution_count": 148,
   "id": "7243455a",
   "metadata": {},
   "outputs": [],
   "source": [
    "## each row can be one specific number. For example, Grid[8][j] can only put a 9, \n",
    "## which means the sum of X: (8, j, 9) can be only and only if 1.\n",
    "EachValueInRow = {\n",
    "    (i,k): m.addConstr(quicksum(X[i,j,k] for j in N)==1)\n",
    "    for i in N for k in K}"
   ]
  },
  {
   "cell_type": "code",
   "execution_count": 149,
   "id": "e2252cc2",
   "metadata": {},
   "outputs": [],
   "source": [
    "## each column can be one specific number. For example, Grid[i][8] can only put a 9, \n",
    "## which means the sum of X: (i, 8, 9) can be only and only if 1.\n",
    "EachValueInCol = {\n",
    "    (j,k): m.addConstr(quicksum(X[i,j,k] for i in N)==1)\n",
    "    for j in N for k in K}"
   ]
  },
  {
   "cell_type": "code",
   "execution_count": 150,
   "id": "09200e4a",
   "metadata": {},
   "outputs": [],
   "source": [
    "## Define each SubSquares can only include 1~9. (ii, jj, k) is a SubSquare\n",
    "EachValueInSubSquares = {\n",
    "    (ii,jj,k): m.addConstr(quicksum(X[i,j,k] \n",
    "                        for i in range(3*ii,3*ii+3)  ## ii transfer to i\n",
    "                        for j in range(3*jj,3*jj+3))==1) ## jj transfer to j\n",
    "    for ii in range(3) for jj in range(3) for k in K}"
   ]
  },
  {
   "cell_type": "code",
   "execution_count": 151,
   "id": "8de57587",
   "metadata": {},
   "outputs": [
    {
     "name": "stdout",
     "output_type": "stream",
     "text": [
      "Gurobi Optimizer version 9.5.2 build v9.5.2rc0 (win64)\n",
      "Thread count: 8 physical cores, 16 logical processors, using up to 16 threads\n",
      "Optimize a model with 347 rows, 729 columns and 2939 nonzeros\n",
      "Model fingerprint: 0x92737a19\n",
      "Variable types: 0 continuous, 729 integer (729 binary)\n",
      "Coefficient statistics:\n",
      "  Matrix range     [1e+00, 1e+00]\n",
      "  Objective range  [0e+00, 0e+00]\n",
      "  Bounds range     [1e+00, 1e+00]\n",
      "  RHS range        [1e+00, 1e+00]\n",
      "Presolve removed 347 rows and 729 columns\n",
      "Presolve time: 0.00s\n",
      "Presolve: All rows and columns removed\n",
      "\n",
      "Explored 0 nodes (0 simplex iterations) in 0.00 seconds (0.00 work units)\n",
      "Thread count was 1 (of 16 available processors)\n",
      "\n",
      "Solution count 1: 0 \n",
      "\n",
      "Optimal solution found (tolerance 1.00e-04)\n",
      "Best objective 0.000000000000e+00, best bound 0.000000000000e+00, gap 0.0000%\n"
     ]
    }
   ],
   "source": [
    "m.optimize()"
   ]
  },
  {
   "cell_type": "code",
   "execution_count": 152,
   "id": "f83599d1",
   "metadata": {},
   "outputs": [
    {
     "name": "stdout",
     "output_type": "stream",
     "text": [
      "---+---+---\n",
      "136|782|594\n",
      "987|354|126\n",
      "542|691|387\n",
      "---+---+---\n",
      "798|135|642\n",
      "625|849|713\n",
      "314|276|859\n",
      "---+---+---\n",
      "471|968|235\n",
      "869|523|471\n",
      "253|417|968\n",
      "---+---+---\n"
     ]
    }
   ],
   "source": [
    "print('---+---+---')\n",
    "for i in N:\n",
    "    if i==3 or i==6:\n",
    "        print('---+---+---')\n",
    "    for j in N:\n",
    "        if j==3 or j==6:\n",
    "            print('|', end='')\n",
    "        for k in K:\n",
    "            if X[i,j,k].x > 0.9:\n",
    "                print(k,sep='',end='')\n",
    "    print('')\n",
    "print('---+---+---')"
   ]
  },
  {
   "cell_type": "code",
   "execution_count": null,
   "id": "830c5fb2",
   "metadata": {},
   "outputs": [],
   "source": []
  }
 ],
 "metadata": {
  "kernelspec": {
   "display_name": "Python 3 (ipykernel)",
   "language": "python",
   "name": "python3"
  },
  "language_info": {
   "codemirror_mode": {
    "name": "ipython",
    "version": 3
   },
   "file_extension": ".py",
   "mimetype": "text/x-python",
   "name": "python",
   "nbconvert_exporter": "python",
   "pygments_lexer": "ipython3",
   "version": "3.9.7"
  }
 },
 "nbformat": 4,
 "nbformat_minor": 5
}
