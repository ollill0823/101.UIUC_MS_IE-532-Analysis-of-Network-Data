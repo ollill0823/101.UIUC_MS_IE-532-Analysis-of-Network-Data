{
 "cells": [
  {
   "cell_type": "markdown",
   "id": "43cecdec",
   "metadata": {},
   "source": [
    "# Question 3"
   ]
  },
  {
   "cell_type": "code",
   "execution_count": 1,
   "id": "c4092ab5",
   "metadata": {},
   "outputs": [],
   "source": [
    "import random\n",
    "import numpy as np\n",
    "\n",
    "airports=['LGA', 'JFK', 'DCA', 'CLT', 'ATL', 'MCO', 'ORD', 'DFW', 'DEN', 'PHX', 'LAS', 'LAX', 'SFO', 'SEA']\n",
    "times={'LGA': {'LGA': 0, 'JFK': 0, 'DCA': 1, 'CLT': 2, 'ATL': 2, 'MCO': 3, 'ORD': 2, 'DFW': 3, 'DEN': 4, 'PHX': 4, 'LAS': 4, 'LAX': 5, 'SFO': 5, 'SEA': 5},\n",
    "           'JFK': {'LGA': 0, 'JFK': 0, 'DCA': 1, 'CLT': 2, 'ATL': 2, 'MCO': 3, 'ORD': 2, 'DFW': 3, 'DEN': 4, 'PHX': 4, 'LAS': 4, 'LAX': 5, 'SFO': 5, 'SEA': 5},\n",
    "           'DCA': {'LGA': 1, 'JFK': 1, 'DCA': 0, 'CLT': 2, 'ATL': 2, 'MCO': 3, 'ORD': 2, 'DFW': 2, 'DEN': 4, 'PHX': 4, 'LAS': 4, 'LAX': 5, 'SFO': 5, 'SEA': 5},\n",
    "           'CLT': {'LGA': 2, 'JFK': 2, 'DCA': 1, 'CLT': 0, 'ATL': 1, 'MCO': 1, 'ORD': 2, 'DFW': 2, 'DEN': 4, 'PHX': 4, 'LAS': 4, 'LAX': 5, 'SFO': 5, 'SEA': 5},\n",
    "           'ATL': {'LGA': 2, 'JFK': 2, 'DCA': 1, 'CLT': 1, 'ATL': 0, 'MCO': 2, 'ORD': 3, 'DFW': 2, 'DEN': 4, 'PHX': 4, 'LAS': 4, 'LAX': 5, 'SFO': 5, 'SEA': 6},\n",
    "           'MCO': {'LGA': 3, 'JFK': 3, 'DCA': 2, 'CLT': 1, 'ATL': 1, 'MCO': 0, 'ORD': 3, 'DFW': 2, 'DEN': 4, 'PHX': 4, 'LAS': 4, 'LAX': 5, 'SFO': 5, 'SEA': 6},\n",
    "           'ORD': {'LGA': 2, 'JFK': 2, 'DCA': 2, 'CLT': 2, 'ATL': 3, 'MCO': 3, 'ORD': 0, 'DFW': 2, 'DEN': 3, 'PHX': 3, 'LAS': 3, 'LAX': 4, 'SFO': 4, 'SEA': 4},\n",
    "           'DFW': {'LGA': 3, 'JFK': 3, 'DCA': 2, 'CLT': 2, 'ATL': 2, 'MCO': 2, 'ORD': 2, 'DFW': 0, 'DEN': 2, 'PHX': 2, 'LAS': 2, 'LAX': 3, 'SFO': 3, 'SEA': 4},\n",
    "           'DEN': {'LGA': 4, 'JFK': 4, 'DCA': 4, 'CLT': 4, 'ATL': 4, 'MCO': 4, 'ORD': 3, 'DFW': 2, 'DEN': 0, 'PHX': 1, 'LAS': 1, 'LAX': 2, 'SFO': 2, 'SEA': 3},\n",
    "           'PHX': {'LGA': 4, 'JFK': 4, 'DCA': 4, 'CLT': 4, 'ATL': 4, 'MCO': 4, 'ORD': 3, 'DFW': 2, 'DEN': 1, 'PHX': 0, 'LAS': 1, 'LAX': 1, 'SFO': 1, 'SEA': 3},\n",
    "           'LAS': {'LGA': 4, 'JFK': 4, 'DCA': 4, 'CLT': 4, 'ATL': 4, 'MCO': 4, 'ORD': 3, 'DFW': 2, 'DEN': 1, 'PHX': 1, 'LAS': 0, 'LAX': 1, 'SFO': 1, 'SEA': 2},\n",
    "           'LAX': {'LGA': 5, 'JFK': 5, 'DCA': 5, 'CLT': 5, 'ATL': 5, 'MCO': 3, 'ORD': 4, 'DFW': 3, 'DEN': 4, 'PHX': 1, 'LAS': 1, 'LAX': 0, 'SFO': 1, 'SEA': 2},\n",
    "           'SFO': {'LGA': 5, 'JFK': 5, 'DCA': 5, 'CLT': 5, 'ATL': 5, 'MCO': 5, 'ORD': 4, 'DFW': 3, 'DEN': 4, 'PHX': 1, 'LAS': 1, 'LAX': 1, 'SFO': 0, 'SEA': 1},\n",
    "           'SEA': {'LGA': 5, 'JFK': 5, 'DCA': 5, 'CLT': 5, 'ATL': 6, 'MCO': 6, 'ORD': 2, 'DFW': 3, 'DEN': 4, 'PHX': 2, 'LAS': 1, 'LAX': 2, 'SFO': 1, 'SEA': 0}}"
   ]
  },
  {
   "cell_type": "code",
   "execution_count": 2,
   "id": "66f79482",
   "metadata": {
    "scrolled": true
   },
   "outputs": [
    {
     "name": "stdout",
     "output_type": "stream",
     "text": [
      "#\t Origin\t Dest\t Start\t End\n",
      "--------------------------------------------------\n",
      "1 \t DCA \t LGA \t 6.24 \t 7.24\n",
      "2 \t LAX \t DFW \t 3.76 \t 6.76\n",
      "3 \t ATL \t SEA \t 5.34 \t 11.34\n",
      "4 \t SEA \t PHX \t 8.32 \t 10.32\n",
      "5 \t SEA \t DEN \t 17.45 \t 21.45\n",
      "6 \t JFK \t LAS \t 4.72 \t 8.72\n",
      "7 \t ORD \t JFK \t 3.14 \t 5.14\n",
      "8 \t DEN \t ORD \t 9.42 \t 12.42\n",
      "9 \t LGA \t CLT \t 10.15 \t 12.15\n",
      "10 \t CLT \t LGA \t 0.8 \t 2.8\n",
      "11 \t SFO \t LGA \t 17.3 \t 22.3\n",
      "12 \t SEA \t ORD \t 15.49 \t 17.49\n",
      "13 \t DFW \t PHX \t 15.76 \t 17.76\n",
      "14 \t DCA \t CLT \t 2.0 \t 4.0\n",
      "15 \t LGA \t LAX \t 4.7 \t 9.7\n",
      "16 \t JFK \t PHX \t 2.74 \t 6.74\n",
      "17 \t ATL \t JFK \t 16.87 \t 18.87\n",
      "18 \t SFO \t ORD \t 14.93 \t 18.93\n",
      "19 \t LGA \t ATL \t 0.69 \t 2.69\n",
      "20 \t SEA \t LAS \t 10.2 \t 11.2\n",
      "21 \t DEN \t ATL \t 10.19 \t 14.19\n",
      "22 \t MCO \t PHX \t 16.05 \t 20.05\n",
      "23 \t DFW \t CLT \t 17.78 \t 19.78\n",
      "24 \t JFK \t LGA \t 2.49 \t 2.49\n",
      "25 \t SFO \t DEN \t 9.27 \t 13.27\n",
      "26 \t LGA \t DFW \t 7.53 \t 10.53\n",
      "27 \t JFK \t SEA \t 9.12 \t 14.12\n",
      "28 \t SEA \t DFW \t 15.98 \t 18.98\n",
      "29 \t SEA \t JFK \t 13.03 \t 18.03\n",
      "30 \t SEA \t SFO \t 15.1 \t 16.1\n",
      "31 \t SFO \t LAX \t 11.22 \t 12.22\n",
      "32 \t JFK \t MCO \t 1.53 \t 4.53\n",
      "33 \t DFW \t JFK \t 17.45 \t 20.45\n",
      "34 \t PHX \t SFO \t 4.9 \t 5.9\n",
      "35 \t LAS \t ATL \t 6.61 \t 10.61\n",
      "36 \t LAX \t DEN \t 15.87 \t 19.87\n",
      "37 \t SFO \t JFK \t 3.31 \t 8.31\n",
      "38 \t ORD \t LAS \t 9.84 \t 12.84\n",
      "39 \t LAS \t JFK \t 6.02 \t 10.02\n",
      "40 \t LAS \t CLT \t 8.1 \t 12.1\n",
      "41 \t DEN \t ORD \t 16.17 \t 19.17\n",
      "42 \t ORD \t LGA \t 5.15 \t 7.15\n",
      "43 \t PHX \t LAS \t 1.45 \t 2.45\n",
      "44 \t SEA \t ATL \t 15.53 \t 21.53\n",
      "45 \t LAX \t DCA \t 15.3 \t 20.3\n",
      "46 \t DEN \t LAX \t 1.68 \t 3.68\n",
      "47 \t DEN \t JFK \t 6.93 \t 10.93\n",
      "48 \t LAS \t PHX \t 0.36 \t 1.36\n",
      "49 \t DEN \t SFO \t 13.02 \t 15.02\n",
      "50 \t DCA \t LAX \t 2.81 \t 7.81\n"
     ]
    }
   ],
   "source": [
    "numFlights=50 # change this\n",
    "\n",
    "origins=[random.choice(airports) for i in range(numFlights)]\n",
    "destinations=[]\n",
    "takeoff_times=np.round(np.random.uniform(0, 18, numFlights),2)\n",
    "landing_times=[]\n",
    "for i in range(numFlights):\n",
    "    while True:\n",
    "        destination=random.choice(airports)\n",
    "        if destination!=origins[i]:\n",
    "            destinations.append(destination)\n",
    "            break\n",
    "\n",
    "for i in range(numFlights):\n",
    "    landing_times.append(np.round(takeoff_times[i]+times[origins[i]][destinations[i]],2))\n",
    "\n",
    "print(\"#\\t Origin\\t Dest\\t Start\\t End\")\n",
    "print(\"-\"*50)\n",
    "for i in range(numFlights):\n",
    "    print(i+1, \"\\t\", origins[i], \"\\t\", destinations[i], \"\\t\", takeoff_times[i], \"\\t\", landing_times[i])\n",
    "    "
   ]
  },
  {
   "cell_type": "markdown",
   "id": "3e23fa40",
   "metadata": {},
   "source": [
    "# Method1:"
   ]
  },
  {
   "cell_type": "code",
   "execution_count": 48,
   "id": "5f1ffdae",
   "metadata": {
    "scrolled": true
   },
   "outputs": [],
   "source": [
    "import pandas as pd\n",
    "import warnings\n",
    "warnings.simplefilter(\"ignore\")\n",
    "\n",
    "combination = list(zip(origins, destinations, takeoff_times, landing_times))\n",
    "combination\n",
    "\n",
    "df = pd.DataFrame(combination, columns = [\"origins\", \"destinations\", \"takeoff_times\", \"landing_times\"])\n",
    "df.sort_values(by=[\"takeoff_times\"],inplace=True)\n",
    "\n",
    "\n",
    "df1 = df.iloc[:,[0,2]]\n",
    "df1[\"compensation\"] = 1\n",
    "df2 = df.iloc[:,[1,3]]\n",
    "df2[\"compensation\"] = -1"
   ]
  },
  {
   "cell_type": "code",
   "execution_count": 49,
   "id": "fdcb1152",
   "metadata": {},
   "outputs": [],
   "source": [
    "df3 = df1.rename(columns={\"origins\": \"airport\", \"takeoff_times\": \"time\"})\n",
    "df4 = df2.rename(columns={\"destinations\": \"airport\", \"landing_times\": \"time\"})\n",
    "df5 = pd.concat([df3,df4])\n",
    "df5.sort_values(by=[\"time\"],inplace=True, ignore_index=True)\n",
    "df5\n",
    "\n",
    "compute = {}\n",
    "for i in airports:\n",
    "    compute[i] = 0\n",
    "\n",
    "compute2 = compute.copy()"
   ]
  },
  {
   "cell_type": "code",
   "execution_count": 50,
   "id": "eda291e2",
   "metadata": {},
   "outputs": [
    {
     "data": {
      "text/html": [
       "<div>\n",
       "<style scoped>\n",
       "    .dataframe tbody tr th:only-of-type {\n",
       "        vertical-align: middle;\n",
       "    }\n",
       "\n",
       "    .dataframe tbody tr th {\n",
       "        vertical-align: top;\n",
       "    }\n",
       "\n",
       "    .dataframe thead th {\n",
       "        text-align: right;\n",
       "    }\n",
       "</style>\n",
       "<table border=\"1\" class=\"dataframe\">\n",
       "  <thead>\n",
       "    <tr style=\"text-align: right;\">\n",
       "      <th></th>\n",
       "      <th>airport</th>\n",
       "      <th>time</th>\n",
       "      <th>compensation</th>\n",
       "    </tr>\n",
       "  </thead>\n",
       "  <tbody>\n",
       "    <tr>\n",
       "      <th>0</th>\n",
       "      <td>LAS</td>\n",
       "      <td>0.36</td>\n",
       "      <td>1</td>\n",
       "    </tr>\n",
       "    <tr>\n",
       "      <th>1</th>\n",
       "      <td>LGA</td>\n",
       "      <td>0.69</td>\n",
       "      <td>1</td>\n",
       "    </tr>\n",
       "    <tr>\n",
       "      <th>2</th>\n",
       "      <td>CLT</td>\n",
       "      <td>0.80</td>\n",
       "      <td>1</td>\n",
       "    </tr>\n",
       "    <tr>\n",
       "      <th>3</th>\n",
       "      <td>PHX</td>\n",
       "      <td>1.36</td>\n",
       "      <td>-1</td>\n",
       "    </tr>\n",
       "    <tr>\n",
       "      <th>4</th>\n",
       "      <td>PHX</td>\n",
       "      <td>1.45</td>\n",
       "      <td>1</td>\n",
       "    </tr>\n",
       "    <tr>\n",
       "      <th>...</th>\n",
       "      <td>...</td>\n",
       "      <td>...</td>\n",
       "      <td>...</td>\n",
       "    </tr>\n",
       "    <tr>\n",
       "      <th>95</th>\n",
       "      <td>DCA</td>\n",
       "      <td>20.30</td>\n",
       "      <td>-1</td>\n",
       "    </tr>\n",
       "    <tr>\n",
       "      <th>96</th>\n",
       "      <td>JFK</td>\n",
       "      <td>20.45</td>\n",
       "      <td>-1</td>\n",
       "    </tr>\n",
       "    <tr>\n",
       "      <th>97</th>\n",
       "      <td>DEN</td>\n",
       "      <td>21.45</td>\n",
       "      <td>-1</td>\n",
       "    </tr>\n",
       "    <tr>\n",
       "      <th>98</th>\n",
       "      <td>ATL</td>\n",
       "      <td>21.53</td>\n",
       "      <td>-1</td>\n",
       "    </tr>\n",
       "    <tr>\n",
       "      <th>99</th>\n",
       "      <td>LGA</td>\n",
       "      <td>22.30</td>\n",
       "      <td>-1</td>\n",
       "    </tr>\n",
       "  </tbody>\n",
       "</table>\n",
       "<p>100 rows × 3 columns</p>\n",
       "</div>"
      ],
      "text/plain": [
       "   airport   time  compensation\n",
       "0      LAS   0.36             1\n",
       "1      LGA   0.69             1\n",
       "2      CLT   0.80             1\n",
       "3      PHX   1.36            -1\n",
       "4      PHX   1.45             1\n",
       "..     ...    ...           ...\n",
       "95     DCA  20.30            -1\n",
       "96     JFK  20.45            -1\n",
       "97     DEN  21.45            -1\n",
       "98     ATL  21.53            -1\n",
       "99     LGA  22.30            -1\n",
       "\n",
       "[100 rows x 3 columns]"
      ]
     },
     "execution_count": 50,
     "metadata": {},
     "output_type": "execute_result"
    }
   ],
   "source": [
    "df5"
   ]
  },
  {
   "cell_type": "code",
   "execution_count": 51,
   "id": "3625af68",
   "metadata": {},
   "outputs": [
    {
     "name": "stdout",
     "output_type": "stream",
     "text": [
      "The overall crews should be 31 people\n",
      "--------------------------------------------------\n",
      "Crews distribution in different airports\n",
      "{'LGA': 1, 'JFK': 4, 'DCA': 3, 'CLT': 1, 'ATL': 0, 'MCO': 0, 'ORD': 3, 'DFW': 1, 'DEN': 5, 'PHX': 1, 'LAS': 3, 'LAX': 0, 'SFO': 3, 'SEA': 6}\n"
     ]
    }
   ],
   "source": [
    "for i in range(df5.shape[0]):\n",
    "    if df5[\"compensation\"][i] == 1:\n",
    "        if compute2[df5[\"airport\"][i]] == 0:\n",
    "            compute[df5[\"airport\"][i]] += 1\n",
    "        else: \n",
    "            compute2[df5[\"airport\"][i]] = compute2[df5[\"airport\"][i]] - df5[\"compensation\"][i]\n",
    "    else:\n",
    "        compute2[df5[\"airport\"][i]] -= df5[\"compensation\"][i]\n",
    "\n",
    "        \n",
    "print(\"The overall crews should be {} people\".format(np.sum(list(compute.values()))))\n",
    "print(\"-\"*50)\n",
    "print(\"Crews distribution in different airports\")\n",
    "print(compute)"
   ]
  },
  {
   "cell_type": "markdown",
   "id": "260999e8",
   "metadata": {},
   "source": [
    "# Method2:"
   ]
  },
  {
   "cell_type": "code",
   "execution_count": 52,
   "id": "c3913c6b",
   "metadata": {},
   "outputs": [],
   "source": [
    "import gurobipy as gp\n",
    "from gurobipy import *"
   ]
  },
  {
   "cell_type": "code",
   "execution_count": 53,
   "id": "aee3fed8",
   "metadata": {},
   "outputs": [
    {
     "name": "stdout",
     "output_type": "stream",
     "text": [
      "Gurobi Optimizer version 9.5.2 build v9.5.2rc0 (win64)\n",
      "Thread count: 8 physical cores, 16 logical processors, using up to 16 threads\n",
      "Optimize a model with 50 rows, 14 columns and 50 nonzeros\n",
      "Model fingerprint: 0xcff93093\n",
      "Variable types: 0 continuous, 14 integer (0 binary)\n",
      "Coefficient statistics:\n",
      "  Matrix range     [1e+00, 1e+00]\n",
      "  Objective range  [1e+00, 1e+00]\n",
      "  Bounds range     [0e+00, 0e+00]\n",
      "  RHS range        [1e+00, 6e+00]\n",
      "Found heuristic solution: objective 31.0000000\n",
      "Presolve removed 50 rows and 14 columns\n",
      "Presolve time: 0.00s\n",
      "Presolve: All rows and columns removed\n",
      "\n",
      "Explored 0 nodes (0 simplex iterations) in 0.00 seconds (0.00 work units)\n",
      "Thread count was 1 (of 16 available processors)\n",
      "\n",
      "Solution count 1: 31 \n",
      "\n",
      "Optimal solution found (tolerance 1.00e-04)\n",
      "Best objective 3.100000000000e+01, best bound 3.100000000000e+01, gap 0.0000%\n"
     ]
    }
   ],
   "source": [
    "m = Model('fights')\n",
    "x = {}\n",
    "for i in range(len(airports)):\n",
    "    x[airports[i]] = m.addVar(vtype=GRB.INTEGER, name= airports[i])\n",
    "\n",
    "    \n",
    "for i in range(df5.shape[0]):\n",
    "    x[df5[\"airport\"][i]] -= df5[\"compensation\"][i] \n",
    "    if df5[\"compensation\"][i] == 1:\n",
    "        m.addConstr(x[df5[\"airport\"][i]] >= 0, name='c('+str(i)+')')\n",
    "        \n",
    "crew_number = np.sum(list(x.values()))\n",
    "m.setObjective(crew_number, GRB.MINIMIZE)\n",
    "m.optimize()"
   ]
  },
  {
   "cell_type": "code",
   "execution_count": 54,
   "id": "4b1554d9",
   "metadata": {},
   "outputs": [
    {
     "name": "stdout",
     "output_type": "stream",
     "text": [
      "We should have at least 31 crews\n",
      "--------------------------------------------------\n",
      "There distribution is in:\n",
      "\u001b[91m\u001b[1mLGA: 1 crew(s).\u001b[0m\n",
      "\u001b[91m\u001b[1mJFK: 4 crew(s).\u001b[0m\n",
      "\u001b[91m\u001b[1mDCA: 3 crew(s).\u001b[0m\n",
      "\u001b[91m\u001b[1mCLT: 1 crew(s).\u001b[0m\n",
      "ATL: 0 crew(s). \n",
      "MCO: 0 crew(s). \n",
      "\u001b[91m\u001b[1mORD: 3 crew(s).\u001b[0m\n",
      "\u001b[91m\u001b[1mDFW: 1 crew(s).\u001b[0m\n",
      "\u001b[91m\u001b[1mDEN: 5 crew(s).\u001b[0m\n",
      "\u001b[91m\u001b[1mPHX: 1 crew(s).\u001b[0m\n",
      "\u001b[91m\u001b[1mLAS: 3 crew(s).\u001b[0m\n",
      "LAX: 0 crew(s). \n",
      "\u001b[91m\u001b[1mSFO: 3 crew(s).\u001b[0m\n",
      "\u001b[91m\u001b[1mSEA: 6 crew(s).\u001b[0m\n"
     ]
    }
   ],
   "source": [
    "print(\"We should have at least {} crews\".format(int(m.ObjVal)))\n",
    "print(\"-\"*50)\n",
    "print(\"There distribution is in:\")\n",
    "for i in range(len(m.X)):\n",
    "    if m.X[i]>0:\n",
    "        print(\"\\033[91m\\033[1m{}: {} crew(s).\\033[0m\".format(list(x.keys())[i], int(m.X[i])))\n",
    "    else:\n",
    "        print(\"{}: {} crew(s). \".format(list(x.keys())[i], int(m.X[i])))"
   ]
  },
  {
   "cell_type": "code",
   "execution_count": null,
   "id": "27efe2d9",
   "metadata": {},
   "outputs": [],
   "source": []
  }
 ],
 "metadata": {
  "kernelspec": {
   "display_name": "Python 3 (ipykernel)",
   "language": "python",
   "name": "python3"
  },
  "language_info": {
   "codemirror_mode": {
    "name": "ipython",
    "version": 3
   },
   "file_extension": ".py",
   "mimetype": "text/x-python",
   "name": "python",
   "nbconvert_exporter": "python",
   "pygments_lexer": "ipython3",
   "version": "3.9.7"
  }
 },
 "nbformat": 4,
 "nbformat_minor": 5
}
