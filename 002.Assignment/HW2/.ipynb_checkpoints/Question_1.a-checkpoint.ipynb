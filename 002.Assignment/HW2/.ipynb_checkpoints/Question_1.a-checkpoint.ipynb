{
 "cells": [
  {
   "cell_type": "code",
   "execution_count": 1,
   "id": "ff7d30d4",
   "metadata": {},
   "outputs": [],
   "source": [
    "import networkx as nx\n",
    "import matplotlib.pyplot as plt\n",
    "from gurobipy import *"
   ]
  },
  {
   "cell_type": "markdown",
   "id": "a42419a3",
   "metadata": {},
   "source": [
    "# Question 1_a\n",
    "![1.a_1](Figures/1.a_1.png)"
   ]
  },
  {
   "cell_type": "code",
   "execution_count": 2,
   "id": "f0f65b1e",
   "metadata": {},
   "outputs": [
    {
     "name": "stdout",
     "output_type": "stream",
     "text": [
      "Set parameter Username\n",
      "Academic license - for non-commercial use only - expires 2023-09-30\n",
      "Gurobi Optimizer version 9.5.2 build v9.5.2rc0 (win64)\n",
      "Thread count: 8 physical cores, 16 logical processors, using up to 16 threads\n",
      "Optimize a model with 9 rows, 7 columns and 23 nonzeros\n",
      "Model fingerprint: 0x0597cd5e\n",
      "Coefficient statistics:\n",
      "  Matrix range     [1e+00, 1e+00]\n",
      "  Objective range  [9e+00, 4e+01]\n",
      "  Bounds range     [0e+00, 0e+00]\n",
      "  RHS range        [1e+00, 1e+00]\n",
      "Presolve removed 5 rows and 2 columns\n",
      "Presolve time: 0.00s\n",
      "Presolved: 4 rows, 5 columns, 13 nonzeros\n",
      "\n",
      "Iteration    Objective       Primal Inf.    Dual Inf.      Time\n",
      "       0    3.0000000e+01   4.000000e+00   0.000000e+00      0s\n",
      "       3    6.1000000e+01   0.000000e+00   0.000000e+00      0s\n",
      "\n",
      "Solved in 3 iterations and 0.01 seconds (0.00 work units)\n",
      "Optimal objective  6.100000000e+01\n"
     ]
    }
   ],
   "source": [
    "m_schedule = Model(\"schedule\")\n",
    "\n",
    "# Create variables\n",
    "x1 = m_schedule.addVar(lb=0.0, name=\"9am-1pm\")\n",
    "x2 = m_schedule.addVar(lb=0.0, name=\"9am-11am\")\n",
    "x3 = m_schedule.addVar(lb=0.0, name=\"noon-3pm\")\n",
    "x4 = m_schedule.addVar(lb=0.0, name=\"noon-5pm\")\n",
    "x5 = m_schedule.addVar(lb=0.0, name=\"2pm-5pm\")\n",
    "x6 = m_schedule.addVar(lb=0.0, name=\"1pm-4pm\")\n",
    "x7 = m_schedule.addVar(lb=0.0, name=\"4pm-5pm\")\n",
    "\n",
    "\n",
    "obj = 30*x1 + 18*x2 + 21*x3 + 38*x4 + 20*x5 + 22*x6 + 9*x7\n",
    "m_schedule.setObjective(obj)\n",
    "\n",
    "m_schedule.addConstr(x1 + x2                          >= 1, \"9am\")\n",
    "m_schedule.addConstr(x1 + x2                          >= 1, \"10am\")\n",
    "m_schedule.addConstr(x1 + x2                          >= 1, \"11am\")\n",
    "m_schedule.addConstr(x1                               >= 1, \"noon\")\n",
    "m_schedule.addConstr(x1 +      x3 + x4                >= 1, \"1pm\")\n",
    "m_schedule.addConstr(          x3 + x4      + x6      >= 1, \"2am\")\n",
    "m_schedule.addConstr(          x3 + x4 + x5 + x6      >= 1, \"3am\")\n",
    "m_schedule.addConstr(               x4 + x5 + x6      >= 1, \"4am\")\n",
    "m_schedule.addConstr(               x4 + x5      + x7 >= 1, \"5am\")\n",
    "\n",
    "m_schedule.optimize()"
   ]
  },
  {
   "cell_type": "code",
   "execution_count": 3,
   "id": "0484ca12",
   "metadata": {},
   "outputs": [
    {
     "name": "stdout",
     "output_type": "stream",
     "text": [
      "9am-1pm: 1\n",
      "9am-11am: 0\n",
      "noon-3pm: 0\n",
      "noon-5pm: 0\n",
      "2pm-5pm: 0\n",
      "1pm-4pm: 1\n",
      "4pm-5pm: 1\n",
      "The minimum cost is : 61\n"
     ]
    }
   ],
   "source": [
    "for v in m_schedule.getVars():\n",
    "    print('%s: %g' % (v.varName, v.x))\n",
    "\n",
    "print('The minimum cost is : %g' % obj.getValue())"
   ]
  },
  {
   "cell_type": "markdown",
   "id": "77a30ec4",
   "metadata": {},
   "source": [
    "# Question 1_b"
   ]
  },
  {
   "cell_type": "code",
   "execution_count": 436,
   "id": "6ac2c3cb",
   "metadata": {},
   "outputs": [],
   "source": [
    "H=nx.Graph()\n",
    "H.add_edge(0,  1)\n",
    "H.add_edge(1,  2)\n",
    "H.add_edge(1,  3)\n",
    "H.add_edge(2,  4)\n",
    "H.add_edge(2,  5)\n",
    "H.add_edge(6,  7)\n",
    "H.add_edge(4,  7)\n",
    "H.add_edge(5,  7)\n",
    "H.add_edge(3,  4)\n",
    "H.add_edge(3,  6)\n",
    "H.add_edge(7,  8)"
   ]
  },
  {
   "cell_type": "code",
   "execution_count": 425,
   "id": "1c73a7ba",
   "metadata": {},
   "outputs": [
    {
     "data": {
      "image/png": "[encoded data removed]",
      "text/plain": [
       "<Figure size 432x288 with 1 Axes>"
      ]
     },
     "metadata": {},
     "output_type": "display_data"
    }
   ],
   "source": [
    "## We can also plot the network.\n",
    "nx.draw(H, with_labels=True)"
   ]
  },
  {
   "cell_type": "code",
   "execution_count": 426,
   "id": "56246be2",
   "metadata": {},
   "outputs": [],
   "source": [
    "model_2=Model(\"question1.b\")"
   ]
  },
  {
   "cell_type": "code",
   "execution_count": 427,
   "id": "b6918b2a",
   "metadata": {},
   "outputs": [],
   "source": [
    "x={}\n",
    "for (i,j,d) in H.edges(data=True):\n",
    "    x[i,j]=model_2.addVar(vtype=GRB.BINARY, name='x('+str(i)+','+str(j)+')') "
   ]
  },
  {
   "cell_type": "code",
   "execution_count": 438,
   "id": "4324a58f",
   "metadata": {},
   "outputs": [],
   "source": [
    "# Define flow preservation constraints\n",
    "source = 0\n",
    "terminal = 8\n",
    "weight = [0,8,4,3,10,5,4,3,0]\n",
    "\n",
    "inc={}\n",
    "out={}\n",
    "for i in H.nodes():\n",
    "    inc[i]=0 ## define the start value is 0\n",
    "    out[i]=0 ## define the end value is 0\n",
    "    \n",
    "for (i,j) in H.edges():\n",
    "    inc[j]+=x[i,j] ## define the edge that connect to the specific node\n",
    "    out[i]+=x[i,j]\n",
    "    \n",
    "\n",
    "    \n",
    "for i in H.nodes(): \n",
    "    if i==source:\n",
    "        model_2.addConstr(out[i]-inc[i]==1)\n",
    "    elif i==terminal:\n",
    "        model_2.addConstr(out[i]-inc[i]==-1)\n",
    "    else:\n",
    "        model_2.addConstr(out[i]-inc[i]==0)"
   ]
  },
  {
   "cell_type": "code",
   "execution_count": 439,
   "id": "e7b48c78",
   "metadata": {},
   "outputs": [
    {
     "name": "stdout",
     "output_type": "stream",
     "text": [
      "Gurobi Optimizer version 9.5.2 build v9.5.2rc0 (win64)\n",
      "Thread count: 8 physical cores, 16 logical processors, using up to 16 threads\n",
      "Optimize a model with 18 rows, 11 columns and 44 nonzeros\n",
      "Model fingerprint: 0x2abfd7a9\n",
      "Variable types: 0 continuous, 11 integer (11 binary)\n",
      "Coefficient statistics:\n",
      "  Matrix range     [1e+00, 1e+00]\n",
      "  Objective range  [3e+00, 1e+01]\n",
      "  Bounds range     [1e+00, 1e+00]\n",
      "  RHS range        [1e+00, 1e+00]\n",
      "\n",
      "Loaded MIP start from previous solve with objective 18\n",
      "\n",
      "Presolve removed 18 rows and 11 columns\n",
      "Presolve time: 0.00s\n",
      "Presolve: All rows and columns removed\n",
      "\n",
      "Explored 0 nodes (0 simplex iterations) in 0.00 seconds (0.00 work units)\n",
      "Thread count was 1 (of 16 available processors)\n",
      "\n",
      "Solution count 1: 18 \n",
      "\n",
      "Optimal solution found (tolerance 1.00e-04)\n",
      "Best objective 1.800000000000e+01, best bound 1.800000000000e+01, gap 0.0000%\n"
     ]
    }
   ],
   "source": [
    "model_2.optimize()"
   ]
  },
  {
   "cell_type": "code",
   "execution_count": 440,
   "id": "0718826c",
   "metadata": {},
   "outputs": [
    {
     "name": "stdout",
     "output_type": "stream",
     "text": [
      "(0,1): 8.0\n",
      "(1,3): 3.0\n",
      "(3,6): 4.0\n",
      "(6,7): 3.0\n",
      "(7,8): 0.0\n"
     ]
    }
   ],
   "source": [
    "for (i,j,d) in H.edges(data=True):\n",
    "    if x[i,j].X==1:\n",
    "        print(\"(%s,%s): %2.1f\"% (i,j, weight[j]))\n"
   ]
  },
  {
   "cell_type": "code",
   "execution_count": null,
   "id": "4f9eabab",
   "metadata": {},
   "outputs": [],
   "source": []
  },
  {
   "cell_type": "code",
   "execution_count": null,
   "id": "e450ca5e",
   "metadata": {},
   "outputs": [],
   "source": []
  },
  {
   "cell_type": "code",
   "execution_count": null,
   "id": "d993a49f",
   "metadata": {},
   "outputs": [],
   "source": []
  }
 ],
 "metadata": {
  "kernelspec": {
   "display_name": "Python 3 (ipykernel)",
   "language": "python",
   "name": "python3"
  },
  "language_info": {
   "codemirror_mode": {
    "name": "ipython",
    "version": 3
   },
   "file_extension": ".py",
   "mimetype": "text/x-python",
   "name": "python",
   "nbconvert_exporter": "python",
   "pygments_lexer": "ipython3",
   "version": "3.9.7"
  }
 },
 "nbformat": 4,
 "nbformat_minor": 5
}
