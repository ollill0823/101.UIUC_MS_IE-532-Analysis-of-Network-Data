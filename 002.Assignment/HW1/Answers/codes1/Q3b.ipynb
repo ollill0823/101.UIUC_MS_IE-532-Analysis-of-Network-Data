{
 "cells": [
  {
   "cell_type": "code",
   "execution_count": 1,
   "metadata": {},
   "outputs": [],
   "source": [
    "from gurobipy import *"
   ]
  },
  {
   "cell_type": "code",
   "execution_count": 2,
   "metadata": {},
   "outputs": [],
   "source": [
    "customers=list(range(1,11))\n",
    "warehouses=list(range(1,7))\n",
    "\n",
    "costs={1:{1: 3, 2: 5, 3: 8, 4: 12, 5: 10, 6: 11}, 2:{1: 6, 2: 7, 3: 10, 4: 12, 5: 8, 6: 10}, \\\n",
    "       3:{1: 5, 2: 3, 3: 8, 4: 10, 5: 12, 6: 10}, 4:{1: 7, 2: 6, 3: 7, 4: 10, 5: 9, 6: 5}, \\\n",
    "       5:{1: 10, 2: 8, 3: 5, 4: 8, 5: 6, 6: 5}, 6:{1: 12, 2: 6, 3: 4, 4: 7, 5: 5, 6: 4}, \\\n",
    "       7:{1: 7, 2: 10, 3: 6, 4: 6, 5: 8, 6: 3}, 8:{1: 5, 2: 6, 3: 9, 4: 4, 5: 4, 6: 7}, \\\n",
    "       9:{1: 8, 2: 10, 3: 7, 4: 5, 5: 4, 6: 6}, 10:{1: 10, 2: 12, 3: 8, 4: 4, 5: 4, 6: 6}}\n",
    "demands={1: 25, 2: 15, 3: 20, 4: 10, 5: 15, 6: 15, 7: 25, 8: 20, 9: 30, 10: 20}\n",
    "\n",
    "fixed={1: 1750000, 2: 2000000, 3: 2500000, 4: 2250000, 5: 1500000, 6: 1000000}\n",
    "capacity={1: 75, 2: 50, 3: 120, 4: 100, 5: 60, 6: 50}"
   ]
  },
  {
   "cell_type": "code",
   "execution_count": 3,
   "metadata": {},
   "outputs": [
    {
     "name": "stdout",
     "output_type": "stream",
     "text": [
      "Academic license - for non-commercial use only - expires 2023-08-20\n",
      "Using license file /Users/chrysafisvogiatzis/gurobi.lic\n"
     ]
    }
   ],
   "source": [
    "model=Model(\"facilities\")\n",
    "x={}\n",
    "y={}\n",
    "\n",
    "for i in warehouses:\n",
    "    y[i]=model.addVar(vtype=GRB.BINARY, obj=fixed[i])\n",
    "\n",
    "for i in warehouses:\n",
    "    x[i]={}\n",
    "    for j in customers:\n",
    "        x[i][j]=model.addVar(vtype=GRB.BINARY, obj=costs[j][i]*demands[j])"
   ]
  },
  {
   "cell_type": "code",
   "execution_count": 4,
   "metadata": {},
   "outputs": [],
   "source": [
    "for j in customers:\n",
    "    expr=0\n",
    "    for i in warehouses:\n",
    "        expr+=x[i][j]\n",
    "    model.addConstr(expr==1)\n",
    "\n",
    "for i in warehouses:\n",
    "    expr=0\n",
    "    for j in customers:\n",
    "        expr+=x[i][j]*demands[j]\n",
    "    model.addConstr(expr<=capacity[i]*y[i])"
   ]
  },
  {
   "cell_type": "code",
   "execution_count": 5,
   "metadata": {},
   "outputs": [
    {
     "name": "stdout",
     "output_type": "stream",
     "text": [
      "Gurobi Optimizer version 9.1.2 build v9.1.2rc0 (mac64)\n",
      "Thread count: 8 physical cores, 8 logical processors, using up to 8 threads\n",
      "Optimize a model with 16 rows, 66 columns and 126 nonzeros\n",
      "Model fingerprint: 0x72fe2eb1\n",
      "Variable types: 0 continuous, 66 integer (66 binary)\n",
      "Coefficient statistics:\n",
      "  Matrix range     [1e+00, 1e+02]\n",
      "  Objective range  [5e+01, 2e+06]\n",
      "  Bounds range     [1e+00, 1e+00]\n",
      "  RHS range        [1e+00, 1e+00]\n",
      "Found heuristic solution: objective 8751470.0000\n",
      "Presolve time: 0.00s\n",
      "Presolved: 16 rows, 66 columns, 126 nonzeros\n",
      "Variable types: 0 continuous, 66 integer (66 binary)\n",
      "\n",
      "Root relaxation: objective 4.063670e+06, 34 iterations, 0.00 seconds\n",
      "\n",
      "    Nodes    |    Current Node    |     Objective Bounds      |     Work\n",
      " Expl Unexpl |  Obj  Depth IntInf | Incumbent    BestBd   Gap | It/Node Time\n",
      "\n",
      "     0     0 4063670.00    0    3 8751470.00 4063670.00  53.6%     -    0s\n",
      "H    0     0                    5751155.0000 4063670.00  29.3%     -    0s\n",
      "H    0     0                    5751080.0000 4063670.00  29.3%     -    0s\n",
      "H    0     0                    5251155.0000 4063670.00  22.6%     -    0s\n",
      "H    0     0                    5001275.0000 4063670.00  18.7%     -    0s\n",
      "H    0     0                    5001130.0000 4063670.00  18.7%     -    0s\n",
      "H    0     0                    5001110.0000 4063670.00  18.7%     -    0s\n",
      "     0     0 4251110.00    0    2 5001110.00 4251110.00  15.0%     -    0s\n",
      "H    0     0                    4251150.0000 4251110.00  0.00%     -    0s\n",
      "     0     0 4251110.00    0    2 4251150.00 4251110.00  0.00%     -    0s\n",
      "\n",
      "Cutting planes:\n",
      "  Gomory: 2\n",
      "  Cover: 1\n",
      "\n",
      "Explored 1 nodes (46 simplex iterations) in 0.02 seconds\n",
      "Thread count was 8 (of 8 available processors)\n",
      "\n",
      "Solution count 8: 4.25115e+06 5.00111e+06 5.00113e+06 ... 8.75147e+06\n",
      "\n",
      "Optimal solution found (tolerance 1.00e-04)\n",
      "Best objective 4.251150000000e+06, best bound 4.251150000000e+06, gap 0.0000%\n"
     ]
    }
   ],
   "source": [
    "model.optimize()"
   ]
  },
  {
   "cell_type": "code",
   "execution_count": 6,
   "metadata": {},
   "outputs": [
    {
     "name": "stdout",
     "output_type": "stream",
     "text": [
      "Facility 1 is open.\n",
      " It satisfies 100.0 % of the demand of customer 1\n",
      " It satisfies 100.0 % of the demand of customer 3\n",
      " It satisfies 100.0 % of the demand of customer 4\n",
      " It satisfies 100.0 % of the demand of customer 8\n",
      "Facility 2 is closed.\n",
      "Facility 3 is open.\n",
      " It satisfies 100.0 % of the demand of customer 2\n",
      " It satisfies 100.0 % of the demand of customer 5\n",
      " It satisfies 100.0 % of the demand of customer 6\n",
      " It satisfies 100.0 % of the demand of customer 7\n",
      " It satisfies 100.0 % of the demand of customer 9\n",
      " It satisfies 100.0 % of the demand of customer 10\n",
      "Facility 4 is closed.\n",
      "Facility 5 is closed.\n",
      "Facility 6 is closed.\n"
     ]
    }
   ],
   "source": [
    "for i in warehouses:\n",
    "    if y[i].X>0:\n",
    "        print(\"Facility\", str(i), \"is open.\")\n",
    "        for j in customers:\n",
    "            if x[i][j].X>0:\n",
    "                print(\" It satisfies\", str(round(x[i][j].X*100, 3)), \"% of the demand of customer\" ,str(j))\n",
    "    else:\n",
    "        print(\"Facility\", str(i), \"is closed.\")\n",
    "    "
   ]
  },
  {
   "cell_type": "code",
   "execution_count": null,
   "metadata": {},
   "outputs": [],
   "source": []
  },
  {
   "cell_type": "code",
   "execution_count": null,
   "metadata": {},
   "outputs": [],
   "source": []
  }
 ],
 "metadata": {
  "kernelspec": {
   "display_name": "Python 3",
   "language": "python",
   "name": "python3"
  },
  "language_info": {
   "codemirror_mode": {
    "name": "ipython",
    "version": 3
   },
   "file_extension": ".py",
   "mimetype": "text/x-python",
   "name": "python",
   "nbconvert_exporter": "python",
   "pygments_lexer": "ipython3",
   "version": "3.8.8"
  }
 },
 "nbformat": 4,
 "nbformat_minor": 2
}
